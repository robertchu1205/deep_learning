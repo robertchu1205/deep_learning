{
 "cells": [
  {
   "cell_type": "code",
   "execution_count": 1,
   "metadata": {},
   "outputs": [],
   "source": [
    "import io\n",
    "import numpy as np\n",
    "import tensorflow as tf\n",
    "from PIL import Image\n",
    "from keras_preprocessing.image import array_to_img, img_to_array"
   ]
  },
  {
   "cell_type": "markdown",
   "metadata": {},
   "source": [
    "# Load jpg"
   ]
  },
  {
   "cell_type": "code",
   "execution_count": 2,
   "metadata": {},
   "outputs": [],
   "source": [
    "# img_path = \"/data/aoi-wzs-p3-dip-prewave-saiap/unlabeled_cap-img/AluCap-ocv-class-2/Classified_01060113/270/A-20200107181349_PT4601_270_270_NA_0.png\"\n",
    "img_path = \"/data/aoi-wzs-p1-dip-fa-nvidia/{0AEC1931-AE3A-4010-870B-13C3864AA377}.jpg\"\n",
    "img_string = open(img_path, 'rb').read()"
   ]
  },
  {
   "cell_type": "code",
   "execution_count": 4,
   "metadata": {},
   "outputs": [
    {
     "name": "stdout",
     "output_type": "stream",
     "text": [
      "float32 (835, 777, 3) [11. 25. 26.]\n"
     ]
    }
   ],
   "source": [
    "b = tf.keras.preprocessing.image.load_img(img_path)\n",
    "b = tf.keras.preprocessing.image.img_to_array(b)\n",
    "print(b.dtype, b.shape, b[45, 43, :])"
   ]
  },
  {
   "cell_type": "code",
   "execution_count": 3,
   "metadata": {},
   "outputs": [
    {
     "name": "stdout",
     "output_type": "stream",
     "text": [
      "uint8 (835, 777, 3) [11 25 26]\n"
     ]
    }
   ],
   "source": [
    "# Load image directly\n",
    "img_np = np.array(Image.open(io.BytesIO(img_string))) \n",
    "# img_np = np.asarray(img_np, dtype='float32')\n",
    "print(img_np.dtype, img_np.shape, img_np[45, 43, :])"
   ]
  },
  {
   "cell_type": "code",
   "execution_count": 12,
   "metadata": {},
   "outputs": [
    {
     "name": "stdout",
     "output_type": "stream",
     "text": [
      "WARNING:tensorflow:The operation `tf.image.convert_image_dtype` will be skipped since the input and output dtypes are identical.\n"
     ]
    },
    {
     "data": {
      "text/plain": [
       "<tf.Tensor: shape=(1946385,), dtype=uint8, numpy=array([255, 216, 255, ...,   0,   0,   0], dtype=uint8)>"
      ]
     },
     "execution_count": 12,
     "metadata": {},
     "output_type": "execute_result"
    }
   ],
   "source": [
    "b64tensor = tf.constant(img_string)\n",
    "input_shape = tf.io.decode_image(b64tensor, expand_animations=False)\n",
    "input_shape = input_shape.numpy().shape\n",
    "b64tensor = tf.io.decode_raw(b64tensor, tf.uint8,fixed_length=1946385)\n",
    "b64tensor"
   ]
  },
  {
   "cell_type": "code",
   "execution_count": 13,
   "metadata": {},
   "outputs": [
    {
     "name": "stdout",
     "output_type": "stream",
     "text": [
      "<dtype: 'uint8'> (835, 777, 3) tf.Tensor([0 0 0], shape=(3,), dtype=uint8)\n"
     ]
    }
   ],
   "source": [
    "image = tf.reshape(b64tensor, input_shape)\n",
    "print(image.dtype, image.shape, image[45, 43, :])"
   ]
  },
  {
   "cell_type": "code",
   "execution_count": 3,
   "metadata": {},
   "outputs": [
    {
     "name": "stdout",
     "output_type": "stream",
     "text": [
      "float32 (835, 777, 3) [11. 25. 26.]\n"
     ]
    }
   ],
   "source": [
    "# img_tensor = tf.io.read_file(img_path)\n",
    "img_tensor = tf.constant(img_string)\n",
    "# img_tensor = tf.io.decode_image(img_tensor, expand_animations=False)\n",
    "img_tensor = tf.io.decode_jpeg(img_tensor,channels=3,dct_method=\"INTEGER_ACCURATE\")\n",
    "img_tensor = tf.cast(img_tensor, dtype=tf.float32)\n",
    "it_np = img_tensor.numpy()\n",
    "print(it_np.dtype, it_np.shape, it_np[45, 43, :])"
   ]
  },
  {
   "cell_type": "code",
   "execution_count": 5,
   "metadata": {},
   "outputs": [
    {
     "data": {
      "text/plain": [
       "False"
      ]
     },
     "execution_count": 5,
     "metadata": {},
     "output_type": "execute_result"
    }
   ],
   "source": [
    "np.array_equal(it_np, b)"
   ]
  },
  {
   "cell_type": "code",
   "execution_count": 8,
   "metadata": {},
   "outputs": [
    {
     "data": {
      "text/plain": [
       "array([[[ True,  True,  True],\n",
       "        [ True,  True,  True],\n",
       "        [ True,  True,  True],\n",
       "        ...,\n",
       "        [ True,  True,  True],\n",
       "        [ True,  True,  True],\n",
       "        [ True,  True,  True]],\n",
       "\n",
       "       [[ True,  True,  True],\n",
       "        [ True,  True,  True],\n",
       "        [ True,  True,  True],\n",
       "        ...,\n",
       "        [ True,  True,  True],\n",
       "        [ True,  True,  True],\n",
       "        [ True,  True,  True]],\n",
       "\n",
       "       [[ True,  True,  True],\n",
       "        [ True,  True,  True],\n",
       "        [ True,  True,  True],\n",
       "        ...,\n",
       "        [False,  True,  True],\n",
       "        [False,  True,  True],\n",
       "        [False,  True,  True]],\n",
       "\n",
       "       ...,\n",
       "\n",
       "       [[False, False, False],\n",
       "        [False, False, False],\n",
       "        [False, False, False],\n",
       "        ...,\n",
       "        [False, False,  True],\n",
       "        [ True,  True,  True],\n",
       "        [ True,  True,  True]],\n",
       "\n",
       "       [[ True, False, False],\n",
       "        [ True,  True,  True],\n",
       "        [ True,  True,  True],\n",
       "        ...,\n",
       "        [False, False,  True],\n",
       "        [ True,  True,  True],\n",
       "        [ True,  True,  True]],\n",
       "\n",
       "       [[ True, False, False],\n",
       "        [ True,  True,  True],\n",
       "        [ True,  True,  True],\n",
       "        ...,\n",
       "        [False, False,  True],\n",
       "        [ True,  True,  True],\n",
       "        [ True,  True,  True]]])"
      ]
     },
     "execution_count": 8,
     "metadata": {},
     "output_type": "execute_result"
    }
   ],
   "source": [
    "diff_np = np.equal(img_np, it_np)\n",
    "diff_np\n",
    "# for i in np.where(diff_np == False):\n",
    "#     print(i, i.shape)"
   ]
  },
  {
   "cell_type": "markdown",
   "metadata": {},
   "source": [
    "# Load png"
   ]
  },
  {
   "cell_type": "code",
   "execution_count": 9,
   "metadata": {},
   "outputs": [],
   "source": [
    "img_path = \"./1880606744_23e3dc4f6b_n.png\"\n",
    "img_string = open(img_path, 'rb').read()"
   ]
  },
  {
   "cell_type": "code",
   "execution_count": 10,
   "metadata": {},
   "outputs": [
    {
     "name": "stdout",
     "output_type": "stream",
     "text": [
      "(224, 224, 3) [232 232 232]\n"
     ]
    }
   ],
   "source": [
    "# Load image directly\n",
    "img_np = np.array(Image.open(io.BytesIO(img_string))) \n",
    "print(img_np.shape, img_np[0, 0, :])"
   ]
  },
  {
   "cell_type": "code",
   "execution_count": 11,
   "metadata": {},
   "outputs": [
    {
     "name": "stdout",
     "output_type": "stream",
     "text": [
      "(224, 224, 3) [232. 232. 232.]\n"
     ]
    }
   ],
   "source": [
    "# Load string and decode\n",
    "img_tensor = tf.io.decode_image(img_string, expand_animations=False)\n",
    "img_tensor = tf.cast(img_tensor, dtype=tf.float32)\n",
    "img_tensor = img_tensor.numpy()\n",
    "print(img_tensor.shape, img_tensor[0, 0, :])"
   ]
  },
  {
   "cell_type": "code",
   "execution_count": 12,
   "metadata": {},
   "outputs": [
    {
     "data": {
      "text/plain": [
       "True"
      ]
     },
     "execution_count": 12,
     "metadata": {},
     "output_type": "execute_result"
    }
   ],
   "source": [
    "np.array_equal(img_np, img_tensor)"
   ]
  },
  {
   "cell_type": "code",
   "execution_count": null,
   "metadata": {},
   "outputs": [],
   "source": []
  }
 ],
 "metadata": {
  "kernelspec": {
   "display_name": "Python 3",
   "language": "python",
   "name": "python3"
  },
  "language_info": {
   "codemirror_mode": {
    "name": "ipython",
    "version": 3
   },
   "file_extension": ".py",
   "mimetype": "text/x-python",
   "name": "python",
   "nbconvert_exporter": "python",
   "pygments_lexer": "ipython3",
   "version": "3.6.9"
  },
  "toc": {
   "base_numbering": 1,
   "nav_menu": {},
   "number_sections": true,
   "sideBar": true,
   "skip_h1_title": false,
   "title_cell": "Table of Contents",
   "title_sidebar": "Contents",
   "toc_cell": false,
   "toc_position": {},
   "toc_section_display": true,
   "toc_window_display": false
  }
 },
 "nbformat": 4,
 "nbformat_minor": 4
}
