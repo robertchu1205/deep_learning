{
 "cells": [
  {
   "cell_type": "markdown",
   "metadata": {},
   "source": [
    "# initial bias \n",
    "### load imbalanced data"
   ]
  },
  {
   "cell_type": "code",
   "execution_count": 1,
   "metadata": {},
   "outputs": [],
   "source": [
    "import tensorflow as tf\n",
    "import numpy as np"
   ]
  },
  {
   "cell_type": "code",
   "execution_count": 2,
   "metadata": {},
   "outputs": [],
   "source": [
    "ok_sql = '''\n",
    "    select path, test_label from metadata\n",
    "    where \n",
    "        test_label = 'OK'\n",
    "        and component like '%Cap'\n",
    "        and extension = 'png'\n",
    "'''\n",
    "ng_sql = '''\n",
    "    select path, test_label from metadata\n",
    "    where \n",
    "        test_label != 'OK-InvalidPNG' \n",
    "        and test_label is not NULL\n",
    "        and test_label != 'OK'\n",
    "        and component like '%Cap'\n",
    "        and extension = 'png'\n",
    "'''"
   ]
  },
  {
   "cell_type": "code",
   "execution_count": 3,
   "metadata": {},
   "outputs": [],
   "source": [
    "ok_path_label_ds = tf.data.experimental.SqlDataset(\n",
    "    'sqlite', '/p3/metadata.db',\n",
    "    ok_sql, (tf.string, tf.string)\n",
    ")\n",
    "ng_path_label_ds = tf.data.experimental.SqlDataset(\n",
    "    'sqlite', '/p3/metadata.db',\n",
    "    ng_sql, (tf.string, tf.string)\n",
    ")"
   ]
  },
  {
   "cell_type": "code",
   "execution_count": 4,
   "metadata": {},
   "outputs": [
    {
     "data": {
      "text/plain": [
       "526289"
      ]
     },
     "execution_count": 4,
     "metadata": {},
     "output_type": "execute_result"
    }
   ],
   "source": [
    "pos = len(list(ok_path_label_ds))\n",
    "pos"
   ]
  },
  {
   "cell_type": "code",
   "execution_count": 5,
   "metadata": {},
   "outputs": [
    {
     "data": {
      "text/plain": [
       "13270"
      ]
     },
     "execution_count": 5,
     "metadata": {},
     "output_type": "execute_result"
    }
   ],
   "source": [
    "neg = len(list(ng_path_label_ds))\n",
    "neg"
   ]
  },
  {
   "cell_type": "code",
   "execution_count": 6,
   "metadata": {},
   "outputs": [
    {
     "data": {
      "text/plain": [
       "539559"
      ]
     },
     "execution_count": 6,
     "metadata": {},
     "output_type": "execute_result"
    }
   ],
   "source": [
    "total = pos + neg\n",
    "total"
   ]
  },
  {
   "cell_type": "markdown",
   "metadata": {},
   "source": [
    "### make dataset trainable"
   ]
  },
  {
   "cell_type": "code",
   "execution_count": 7,
   "metadata": {},
   "outputs": [],
   "source": [
    "class_name = ['OK', 'NG']\n",
    "class_index = tf.constant([0, 1], dtype=tf.int64)\n",
    "lookup = tf.lookup.StaticHashTable(\n",
    "    tf.lookup.KeyValueTensorInitializer(class_name, class_index), -1\n",
    ")\n",
    "def parse_func(path, label):\n",
    "    img = tf.io.read_file(path)\n",
    "    img = tf.io.decode_image(img, channels=3, dtype=tf.dtypes.float32)\n",
    "    img = tf.image.resize_with_pad(img, 32, 32)\n",
    "    label = tf.strings.split(input=label, sep='-')[0]\n",
    "    label = lookup.lookup(label)\n",
    "    label = tf.one_hot(label, len(class_name), dtype='int64')\n",
    "    label = tf.cast(label, dtype=tf.float32)\n",
    "    return img, label"
   ]
  },
  {
   "cell_type": "code",
   "execution_count": 8,
   "metadata": {},
   "outputs": [],
   "source": [
    "ok_parsed_ds = ok_path_label_ds.map(parse_func, tf.data.experimental.AUTOTUNE).shuffle(20000).repeat()\n",
    "ng_parsed_ds = ng_path_label_ds.map(parse_func, tf.data.experimental.AUTOTUNE).shuffle(20000).repeat()"
   ]
  },
  {
   "cell_type": "code",
   "execution_count": 9,
   "metadata": {},
   "outputs": [],
   "source": [
    "mixed_train_ds = tf.data.experimental.sample_from_datasets([\n",
    "    ok_parsed_ds, ng_parsed_ds\n",
    "])\n",
    "train_ds = mixed_train_ds.skip(50000).batch(1024).prefetch(2)\n",
    "val_ds = mixed_train_ds.take(50000).batch(1024).prefetch(2)"
   ]
  },
  {
   "cell_type": "code",
   "execution_count": 9,
   "metadata": {},
   "outputs": [
    {
     "name": "stdout",
     "output_type": "stream",
     "text": [
      "466.0\n",
      "49.0\n"
     ]
    }
   ],
   "source": [
    "steps_per_epoch = np.ceil((pos-50000)/1024)\n",
    "print(steps_per_epoch)\n",
    "validation_steps = np.ceil(50000/1024)\n",
    "print(validation_steps)"
   ]
  },
  {
   "cell_type": "markdown",
   "metadata": {},
   "source": [
    "### model"
   ]
  },
  {
   "cell_type": "code",
   "execution_count": 8,
   "metadata": {},
   "outputs": [],
   "source": [
    "import matplotlib.pyplot as plt\n",
    "def plot_metrics(history):\n",
    "  metrics =  ['loss', 'auc', 'precision', 'recall']\n",
    "  for n, metric in enumerate(metrics):\n",
    "    name = metric.replace(\"_\",\" \").capitalize()\n",
    "    plt.subplot(2,2,n+1)\n",
    "    plt.plot(history.epoch,  history.history[metric], label='Train')\n",
    "    plt.plot(history.epoch, history.history['val_'+metric],\n",
    "             linestyle=\"--\", label='Val')\n",
    "    plt.xlabel('Epoch')\n",
    "    plt.ylabel(name)\n",
    "    if metric == 'loss':\n",
    "      plt.ylim([0, plt.ylim()[1]])\n",
    "    elif metric == 'auc':\n",
    "      plt.ylim([0.8,1])\n",
    "    else:\n",
    "      plt.ylim([0,1])\n",
    "\n",
    "    plt.legend()"
   ]
  },
  {
   "cell_type": "code",
   "execution_count": 10,
   "metadata": {},
   "outputs": [],
   "source": [
    "METRICS = [\n",
    "      tf.keras.metrics.TruePositives(name='tp'),\n",
    "      tf.keras.metrics.FalsePositives(name='fp'),\n",
    "      tf.keras.metrics.TrueNegatives(name='tn'),\n",
    "      tf.keras.metrics.FalseNegatives(name='fn'), \n",
    "      tf.keras.metrics.BinaryAccuracy(name='accuracy'),\n",
    "      tf.keras.metrics.Precision(name='precision'),\n",
    "      tf.keras.metrics.Recall(name='recall'),\n",
    "      tf.keras.metrics.AUC(name='auc'),\n",
    "]\n",
    "# early_stopping = tf.keras.callbacks.EarlyStopping(\n",
    "#     monitor='val_auc', \n",
    "#     verbose=1,\n",
    "#     patience=10,\n",
    "#     mode='max')"
   ]
  },
  {
   "cell_type": "code",
   "execution_count": 11,
   "metadata": {},
   "outputs": [],
   "source": [
    "import tensorflow.keras.layers as l\n",
    "\n",
    "def BaseModel(metrics=METRICS, output_bias=None):\n",
    "    if output_bias is not None:\n",
    "        output_bias = tf.keras.initializers.Constant(output_bias)\n",
    "        print(output_bias)\n",
    "    inputs = tf.keras.Input((32, 32, 3), name=\"image\")\n",
    "    x = l.Conv2D(64, 7, padding=\"same\")(inputs)\n",
    "    x = l.ReLU()(x)\n",
    "    for filters in [128, 256, 512]:\n",
    "        x = l.Conv2D(filters, 3, padding=\"same\")(x)\n",
    "        x = l.BatchNormalization()(x)\n",
    "        x = l.ReLU()(x)\n",
    "        x = l.MaxPool2D()(x)\n",
    "    x = l.Conv2D(1024, 3, padding=\"same\")(x)\n",
    "    x = l.BatchNormalization()(x)\n",
    "    x = l.ReLU()(x)\n",
    "    x = l.GlobalAveragePooling2D()(x)\n",
    "    x = l.Dense(2, bias_initializer=output_bias)(x)\n",
    "    x = l.Activation(\"softmax\", dtype=\"float32\")(x)\n",
    "    model = tf.keras.Model(inputs=inputs, outputs=x)\n",
    "    model.compile(\n",
    "      optimizer=tf.keras.optimizers.Adam(lr=1e-3),\n",
    "      loss=tf.keras.losses.CategoricalCrossentropy(),\n",
    "      metrics=metrics)\n",
    "    return model"
   ]
  },
  {
   "cell_type": "markdown",
   "metadata": {},
   "source": [
    "### no initial bias training"
   ]
  },
  {
   "cell_type": "code",
   "execution_count": 14,
   "metadata": {},
   "outputs": [
    {
     "name": "stdout",
     "output_type": "stream",
     "text": [
      "Train for 466.0 steps\n",
      "Epoch 1/10\n",
      "466/466 - 73s - loss: 0.0345 - tp: 472921.0000 - fp: 4263.0000 - tn: 472921.0000 - fn: 4263.0000 - accuracy: 0.9911 - precision: 0.9911 - recall: 0.9911 - auc: 0.9982 - val_loss: 0.0461 - val_tp: 48960.0000 - val_fp: 1040.0000 - val_tn: 48960.0000 - val_fn: 1040.0000 - val_accuracy: 0.9792 - val_precision: 0.9792 - val_recall: 0.9792 - val_auc: 0.9989\n",
      "Epoch 2/10\n",
      "466/466 - 50s - loss: 0.0081 - tp: 475924.0000 - fp: 1260.0000 - tn: 475924.0000 - fn: 1260.0000 - accuracy: 0.9974 - precision: 0.9974 - recall: 0.9974 - auc: 0.9998 - val_loss: 0.4804 - val_tp: 42067.0000 - val_fp: 7933.0000 - val_tn: 42067.0000 - val_fn: 7933.0000 - val_accuracy: 0.8413 - val_precision: 0.8413 - val_recall: 0.8413 - val_auc: 0.9196\n",
      "Epoch 3/10\n",
      "466/466 - 50s - loss: 0.0031 - tp: 476789.0000 - fp: 395.0000 - tn: 476789.0000 - fn: 395.0000 - accuracy: 0.9992 - precision: 0.9992 - recall: 0.9992 - auc: 0.9999 - val_loss: 0.0555 - val_tp: 49119.0000 - val_fp: 881.0000 - val_tn: 49119.0000 - val_fn: 881.0000 - val_accuracy: 0.9824 - val_precision: 0.9824 - val_recall: 0.9824 - val_auc: 0.9971\n",
      "Epoch 4/10\n",
      "466/466 - 50s - loss: 0.0086 - tp: 475877.0000 - fp: 1307.0000 - tn: 475877.0000 - fn: 1307.0000 - accuracy: 0.9973 - precision: 0.9973 - recall: 0.9973 - auc: 0.9998 - val_loss: 0.0132 - val_tp: 49793.0000 - val_fp: 207.0000 - val_tn: 49793.0000 - val_fn: 207.0000 - val_accuracy: 0.9959 - val_precision: 0.9959 - val_recall: 0.9959 - val_auc: 0.9997\n",
      "Epoch 5/10\n",
      "466/466 - 50s - loss: 0.0014 - tp: 477007.0000 - fp: 177.0000 - tn: 477007.0000 - fn: 177.0000 - accuracy: 0.9996 - precision: 0.9996 - recall: 0.9996 - auc: 1.0000 - val_loss: 0.0012 - val_tp: 49980.0000 - val_fp: 20.0000 - val_tn: 49980.0000 - val_fn: 20.0000 - val_accuracy: 0.9996 - val_precision: 0.9996 - val_recall: 0.9996 - val_auc: 1.0000\n",
      "Epoch 6/10\n",
      "466/466 - 50s - loss: 0.0075 - tp: 476005.0000 - fp: 1179.0000 - tn: 476005.0000 - fn: 1179.0000 - accuracy: 0.9975 - precision: 0.9975 - recall: 0.9975 - auc: 0.9998 - val_loss: 0.0111 - val_tp: 49821.0000 - val_fp: 179.0000 - val_tn: 49821.0000 - val_fn: 179.0000 - val_accuracy: 0.9964 - val_precision: 0.9964 - val_recall: 0.9964 - val_auc: 0.9997\n",
      "Epoch 7/10\n",
      "466/466 - 50s - loss: 0.0010 - tp: 477051.0000 - fp: 133.0000 - tn: 477051.0000 - fn: 133.0000 - accuracy: 0.9997 - precision: 0.9997 - recall: 0.9997 - auc: 1.0000 - val_loss: 7.8270e-04 - val_tp: 49987.0000 - val_fp: 13.0000 - val_tn: 49987.0000 - val_fn: 13.0000 - val_accuracy: 0.9997 - val_precision: 0.9997 - val_recall: 0.9997 - val_auc: 1.0000\n",
      "Epoch 8/10\n",
      "466/466 - 50s - loss: 0.0049 - tp: 476465.0000 - fp: 719.0000 - tn: 476465.0000 - fn: 719.0000 - accuracy: 0.9985 - precision: 0.9985 - recall: 0.9985 - auc: 0.9999 - val_loss: 0.0033 - val_tp: 49935.0000 - val_fp: 65.0000 - val_tn: 49935.0000 - val_fn: 65.0000 - val_accuracy: 0.9987 - val_precision: 0.9987 - val_recall: 0.9987 - val_auc: 1.0000\n",
      "Epoch 9/10\n",
      "466/466 - 50s - loss: 0.0013 - tp: 477001.0000 - fp: 183.0000 - tn: 477001.0000 - fn: 183.0000 - accuracy: 0.9996 - precision: 0.9996 - recall: 0.9996 - auc: 1.0000 - val_loss: 0.0019 - val_tp: 49978.0000 - val_fp: 22.0000 - val_tn: 49978.0000 - val_fn: 22.0000 - val_accuracy: 0.9996 - val_precision: 0.9996 - val_recall: 0.9996 - val_auc: 0.9999\n",
      "Epoch 10/10\n",
      "466/466 - 50s - loss: 0.0039 - tp: 476629.0000 - fp: 555.0000 - tn: 476629.0000 - fn: 555.0000 - accuracy: 0.9988 - precision: 0.9988 - recall: 0.9988 - auc: 0.9999 - val_loss: 0.0056 - val_tp: 49977.0000 - val_fp: 23.0000 - val_tn: 49977.0000 - val_fn: 23.0000 - val_accuracy: 0.9995 - val_precision: 0.9995 - val_recall: 0.9995 - val_auc: 1.0000\n"
     ]
    }
   ],
   "source": [
    "zero_bias_model = BaseModel()\n",
    "zero_bias_history = zero_bias_model.fit(\n",
    "    train_ds,\n",
    "    epochs=10,\n",
    "    validation_data=val_ds, \n",
    "    steps_per_epoch=steps_per_epoch,\n",
    "#     validation_steps=validation_steps,\n",
    "    verbose=2)"
   ]
  },
  {
   "cell_type": "code",
   "execution_count": 21,
   "metadata": {},
   "outputs": [
    {
     "data": {
      "image/png": "[encoded data removed]",
      "text/plain": [
       "<Figure size 432x288 with 4 Axes>"
      ]
     },
     "metadata": {
      "needs_background": "light"
     },
     "output_type": "display_data"
    }
   ],
   "source": [
    "plot_metrics(zero_bias_history)"
   ]
  },
  {
   "cell_type": "markdown",
   "metadata": {},
   "source": [
    "### class weight"
   ]
  },
  {
   "cell_type": "code",
   "execution_count": 12,
   "metadata": {},
   "outputs": [],
   "source": [
    "mixed_sql = '''\n",
    "    select path, test_label from metadata\n",
    "    where \n",
    "        test_label != 'OK-InvalidPNG' \n",
    "        and test_label is not NULL\n",
    "        and component like '%Cap'\n",
    "        and extension = 'png'\n",
    "'''"
   ]
  },
  {
   "cell_type": "code",
   "execution_count": 13,
   "metadata": {},
   "outputs": [],
   "source": [
    "mixed_path_label_ds = tf.data.experimental.SqlDataset(\n",
    "    'sqlite', '/p3/metadata.db',\n",
    "    mixed_sql, (tf.string, tf.string)\n",
    ")"
   ]
  },
  {
   "cell_type": "code",
   "execution_count": 15,
   "metadata": {},
   "outputs": [
    {
     "name": "stdout",
     "output_type": "stream",
     "text": [
      "Weight for class 0: 0.51\n",
      "Weight for class 1: 20.33\n"
     ]
    }
   ],
   "source": [
    "# Scaling by total/2 helps keep the loss to a similar magnitude.\n",
    "# The sum of the weights of all examples stays the same.\n",
    "weight_for_1 = (1 / neg)*(total)/2.0 \n",
    "weight_for_0 = (1 / pos)*(total)/2.0\n",
    "\n",
    "class_weight = {0: weight_for_0, 1: weight_for_1}\n",
    "\n",
    "print('Weight for class 0: {:.2f}'.format(weight_for_0))\n",
    "print('Weight for class 1: {:.2f}'.format(weight_for_1))"
   ]
  },
  {
   "cell_type": "code",
   "execution_count": 16,
   "metadata": {},
   "outputs": [],
   "source": [
    "mixed_parsed_ds = mixed_path_label_ds.map(parse_func, tf.data.experimental.AUTOTUNE).shuffle(20000).repeat()\n",
    "train_ds = mixed_parsed_ds.skip(50000).batch(1024).prefetch(2)\n",
    "val_ds = mixed_parsed_ds.take(50000).batch(1024).prefetch(2)"
   ]
  },
  {
   "cell_type": "code",
   "execution_count": 17,
   "metadata": {},
   "outputs": [
    {
     "name": "stdout",
     "output_type": "stream",
     "text": [
      "Train for 466.0 steps, validate for 49 steps\n",
      "Epoch 1/10\n",
      "466/466 - 75s - loss: 0.0546 - tp: 468769.0000 - fp: 8415.0000 - tn: 468769.0000 - fn: 8415.0000 - accuracy: 0.9824 - precision: 0.9824 - recall: 0.9824 - auc: 0.9979 - val_loss: 0.0251 - val_tp: 48897.0000 - val_fp: 1103.0000 - val_tn: 48897.0000 - val_fn: 1103.0000 - val_accuracy: 0.9779 - val_precision: 0.9779 - val_recall: 0.9779 - val_auc: 0.9986\n",
      "Epoch 2/10\n",
      "466/466 - 51s - loss: 0.0380 - tp: 471958.0000 - fp: 5226.0000 - tn: 471958.0000 - fn: 5226.0000 - accuracy: 0.9890 - precision: 0.9890 - recall: 0.9890 - auc: 0.9988 - val_loss: 0.0053 - val_tp: 49847.0000 - val_fp: 153.0000 - val_tn: 49847.0000 - val_fn: 153.0000 - val_accuracy: 0.9969 - val_precision: 0.9969 - val_recall: 0.9969 - val_auc: 0.9999\n",
      "Epoch 3/10\n",
      "466/466 - 50s - loss: 0.0352 - tp: 472462.0000 - fp: 4722.0000 - tn: 472462.0000 - fn: 4722.0000 - accuracy: 0.9901 - precision: 0.9901 - recall: 0.9901 - auc: 0.9985 - val_loss: 0.0016 - val_tp: 49953.0000 - val_fp: 47.0000 - val_tn: 49953.0000 - val_fn: 47.0000 - val_accuracy: 0.9991 - val_precision: 0.9991 - val_recall: 0.9991 - val_auc: 1.0000\n",
      "Epoch 4/10\n",
      "466/466 - 57s - loss: 0.0279 - tp: 473654.0000 - fp: 3530.0000 - tn: 473654.0000 - fn: 3530.0000 - accuracy: 0.9926 - precision: 0.9926 - recall: 0.9926 - auc: 0.9993 - val_loss: 0.0037 - val_tp: 49954.0000 - val_fp: 46.0000 - val_tn: 49954.0000 - val_fn: 46.0000 - val_accuracy: 0.9991 - val_precision: 0.9991 - val_recall: 0.9991 - val_auc: 1.0000\n",
      "Epoch 5/10\n",
      "466/466 - 66s - loss: 0.0246 - tp: 473589.0000 - fp: 3595.0000 - tn: 473589.0000 - fn: 3595.0000 - accuracy: 0.9925 - precision: 0.9925 - recall: 0.9925 - auc: 0.9991 - val_loss: 2.9789 - val_tp: 4847.0000 - val_fp: 45153.0000 - val_tn: 4847.0000 - val_fn: 45153.0000 - val_accuracy: 0.0969 - val_precision: 0.0969 - val_recall: 0.0969 - val_auc: 0.0563\n",
      "Epoch 6/10\n",
      "466/466 - 57s - loss: 0.0127 - tp: 475590.0000 - fp: 1594.0000 - tn: 475590.0000 - fn: 1594.0000 - accuracy: 0.9967 - precision: 0.9967 - recall: 0.9967 - auc: 0.9998 - val_loss: 0.0681 - val_tp: 47995.0000 - val_fp: 2005.0000 - val_tn: 47995.0000 - val_fn: 2005.0000 - val_accuracy: 0.9599 - val_precision: 0.9599 - val_recall: 0.9599 - val_auc: 0.9912\n",
      "Epoch 7/10\n",
      "466/466 - 53s - loss: 0.0274 - tp: 473287.0000 - fp: 3897.0000 - tn: 473287.0000 - fn: 3897.0000 - accuracy: 0.9918 - precision: 0.9918 - recall: 0.9918 - auc: 0.9991 - val_loss: 0.0110 - val_tp: 49822.0000 - val_fp: 178.0000 - val_tn: 49822.0000 - val_fn: 178.0000 - val_accuracy: 0.9964 - val_precision: 0.9964 - val_recall: 0.9964 - val_auc: 0.9996\n",
      "Epoch 8/10\n",
      "466/466 - 61s - loss: 0.0233 - tp: 473781.0000 - fp: 3403.0000 - tn: 473781.0000 - fn: 3403.0000 - accuracy: 0.9929 - precision: 0.9929 - recall: 0.9929 - auc: 0.9993 - val_loss: 0.0015 - val_tp: 49985.0000 - val_fp: 15.0000 - val_tn: 49985.0000 - val_fn: 15.0000 - val_accuracy: 0.9997 - val_precision: 0.9997 - val_recall: 0.9997 - val_auc: 1.0000\n",
      "Epoch 9/10\n",
      "466/466 - 50s - loss: 0.0243 - tp: 473887.0000 - fp: 3297.0000 - tn: 473887.0000 - fn: 3297.0000 - accuracy: 0.9931 - precision: 0.9931 - recall: 0.9931 - auc: 0.9993 - val_loss: 6.6162e-04 - val_tp: 49993.0000 - val_fp: 7.0000 - val_tn: 49993.0000 - val_fn: 7.0000 - val_accuracy: 0.9999 - val_precision: 0.9999 - val_recall: 0.9999 - val_auc: 1.0000\n",
      "Epoch 10/10\n",
      "466/466 - 66s - loss: 0.0223 - tp: 474031.0000 - fp: 3153.0000 - tn: 474031.0000 - fn: 3153.0000 - accuracy: 0.9934 - precision: 0.9934 - recall: 0.9934 - auc: 0.9993 - val_loss: 0.0014 - val_tp: 49969.0000 - val_fp: 31.0000 - val_tn: 49969.0000 - val_fn: 31.0000 - val_accuracy: 0.9994 - val_precision: 0.9994 - val_recall: 0.9994 - val_auc: 1.0000\n"
     ]
    }
   ],
   "source": [
    "class_weight_model = BaseModel()\n",
    "class_weight_history = class_weight_model.fit(\n",
    "    train_ds,\n",
    "    epochs=10,\n",
    "    validation_data=val_ds, \n",
    "    steps_per_epoch=steps_per_epoch,\n",
    "    class_weight=class_weight,\n",
    "#     validation_steps=validation_steps,\n",
    "    verbose=2)"
   ]
  },
  {
   "cell_type": "markdown",
   "metadata": {},
   "source": [
    "### with bias"
   ]
  },
  {
   "cell_type": "code",
   "execution_count": 7,
   "metadata": {},
   "outputs": [
    {
     "data": {
      "text/plain": [
       "-2.8402586644861954"
      ]
     },
     "execution_count": 7,
     "metadata": {},
     "output_type": "execute_result"
    }
   ],
   "source": [
    "initial_bias = np.log([neg/pos])\n",
    "initial_bias"
   ]
  },
  {
   "cell_type": "code",
   "execution_count": 15,
   "metadata": {},
   "outputs": [
    {
     "name": "stdout",
     "output_type": "stream",
     "text": [
      "<tensorflow.python.ops.init_ops_v2.Constant object at 0x7f05d30d5c50>\n",
      "Model: \"model_1\"\n",
      "_________________________________________________________________\n",
      "Layer (type)                 Output Shape              Param #   \n",
      "=================================================================\n",
      "image (InputLayer)           [(None, 32, 32, 3)]       0         \n",
      "_________________________________________________________________\n",
      "conv2d_5 (Conv2D)            (None, 32, 32, 64)        9472      \n",
      "_________________________________________________________________\n",
      "re_lu_5 (ReLU)               (None, 32, 32, 64)        0         \n",
      "_________________________________________________________________\n",
      "conv2d_6 (Conv2D)            (None, 32, 32, 128)       73856     \n",
      "_________________________________________________________________\n",
      "batch_normalization_4 (Batch (None, 32, 32, 128)       512       \n",
      "_________________________________________________________________\n",
      "re_lu_6 (ReLU)               (None, 32, 32, 128)       0         \n",
      "_________________________________________________________________\n",
      "max_pooling2d_3 (MaxPooling2 (None, 16, 16, 128)       0         \n",
      "_________________________________________________________________\n",
      "conv2d_7 (Conv2D)            (None, 16, 16, 256)       295168    \n",
      "_________________________________________________________________\n",
      "batch_normalization_5 (Batch (None, 16, 16, 256)       1024      \n",
      "_________________________________________________________________\n",
      "re_lu_7 (ReLU)               (None, 16, 16, 256)       0         \n",
      "_________________________________________________________________\n",
      "max_pooling2d_4 (MaxPooling2 (None, 8, 8, 256)         0         \n",
      "_________________________________________________________________\n",
      "conv2d_8 (Conv2D)            (None, 8, 8, 512)         1180160   \n",
      "_________________________________________________________________\n",
      "batch_normalization_6 (Batch (None, 8, 8, 512)         2048      \n",
      "_________________________________________________________________\n",
      "re_lu_8 (ReLU)               (None, 8, 8, 512)         0         \n",
      "_________________________________________________________________\n",
      "max_pooling2d_5 (MaxPooling2 (None, 4, 4, 512)         0         \n",
      "_________________________________________________________________\n",
      "conv2d_9 (Conv2D)            (None, 4, 4, 1024)        4719616   \n",
      "_________________________________________________________________\n",
      "batch_normalization_7 (Batch (None, 4, 4, 1024)        4096      \n",
      "_________________________________________________________________\n",
      "re_lu_9 (ReLU)               (None, 4, 4, 1024)        0         \n",
      "_________________________________________________________________\n",
      "global_average_pooling2d_1 ( (None, 1024)              0         \n",
      "_________________________________________________________________\n",
      "dense_1 (Dense)              (None, 1)                 1025      \n",
      "=================================================================\n",
      "Total params: 6,286,977\n",
      "Trainable params: 6,283,137\n",
      "Non-trainable params: 3,840\n",
      "_________________________________________________________________\n"
     ]
    }
   ],
   "source": [
    "with_bias_model = BaseModel(output_bias=initial_bias)\n",
    "# with_bias_model.layers[-1].bias.assign(initial_bias)\n",
    "with_bias_history =with_bias_model.fit(\n",
    "    train_ds,\n",
    "    epochs=10,\n",
    "    validation_data=val_ds, \n",
    "    steps_per_epoch=steps_per_epoch,\n",
    "#     validation_steps=validation_steps,\n",
    "    verbose=2)"
   ]
  },
  {
   "cell_type": "code",
   "execution_count": null,
   "metadata": {},
   "outputs": [
    {
     "name": "stdout",
     "output_type": "stream",
     "text": [
      "Train for 523.0 steps, validate for 49.0 steps\n",
      "Epoch 1/10\n",
      "523/523 - 61s - loss: 5.9653e-08 - tp: 0.0000e+00 - fp: 0.0000e+00 - tn: 267559.0000 - fn: 267993.0000 - accuracy: 0.4996 - precision: 0.0000e+00 - recall: 0.0000e+00 - auc: 0.8029 - val_loss: 5.9378e-08 - val_tp: 0.0000e+00 - val_fp: 0.0000e+00 - val_tn: 25090.0000 - val_fn: 24910.0000 - val_accuracy: 0.5018 - val_precision: 0.0000e+00 - val_recall: 0.0000e+00 - val_auc: 0.6276\n",
      "Epoch 2/10\n",
      "523/523 - 56s - loss: 5.9558e-08 - tp: 0.0000e+00 - fp: 0.0000e+00 - tn: 267985.0000 - fn: 267567.0000 - accuracy: 0.5004 - precision: 0.0000e+00 - recall: 0.0000e+00 - auc: 0.5665 - val_loss: 5.9378e-08 - val_tp: 0.0000e+00 - val_fp: 0.0000e+00 - val_tn: 25090.0000 - val_fn: 24910.0000 - val_accuracy: 0.5018 - val_precision: 0.0000e+00 - val_recall: 0.0000e+00 - val_auc: 0.6290\n",
      "Epoch 3/10\n",
      "523/523 - 56s - loss: 5.9561e-08 - tp: 0.0000e+00 - fp: 0.0000e+00 - tn: 267972.0000 - fn: 267580.0000 - accuracy: 0.5004 - precision: 0.0000e+00 - recall: 0.0000e+00 - auc: 0.8020 - val_loss: 5.9378e-08 - val_tp: 0.0000e+00 - val_fp: 0.0000e+00 - val_tn: 25090.0000 - val_fn: 24910.0000 - val_accuracy: 0.5018 - val_precision: 0.0000e+00 - val_recall: 0.0000e+00 - val_auc: 0.6620\n",
      "Epoch 4/10\n"
     ]
    }
   ],
   "source": []
  },
  {
   "cell_type": "code",
   "execution_count": null,
   "metadata": {},
   "outputs": [],
   "source": []
  }
 ],
 "metadata": {
  "kernelspec": {
   "display_name": "Python 3",
   "language": "python",
   "name": "python3"
  },
  "language_info": {
   "codemirror_mode": {
    "name": "ipython",
    "version": 3
   },
   "file_extension": ".py",
   "mimetype": "text/x-python",
   "name": "python",
   "nbconvert_exporter": "python",
   "pygments_lexer": "ipython3",
   "version": "3.6.9"
  }
 },
 "nbformat": 4,
 "nbformat_minor": 4
}
