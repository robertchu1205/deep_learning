{
 "cells": [
  {
   "cell_type": "markdown",
   "metadata": {},
   "source": [
    "# Data Preparation"
   ]
  },
  {
   "cell_type": "code",
   "execution_count": null,
   "metadata": {},
   "outputs": [],
   "source": [
    "!pip install -q neural-structured-learning"
   ]
  },
  {
   "cell_type": "code",
   "execution_count": null,
   "metadata": {},
   "outputs": [],
   "source": [
    "import tensorflow as tf\n",
    "import neural_structured_learning as nsl"
   ]
  },
  {
   "cell_type": "markdown",
   "metadata": {},
   "source": [
    "## prepare lookup table"
   ]
  },
  {
   "cell_type": "code",
   "execution_count": null,
   "metadata": {},
   "outputs": [],
   "source": [
    "TABEL_DEGREE_TXT = \"/data/aoi-wzs-p3-dip-prewave-saiap/experiments/adversarial-training/table_degree.txt\"\n",
    "TABEL_LABEL_TXT = \"/data/aoi-wzs-p3-dip-prewave-saiap/experiments/adversarial-training/table_label.txt\""
   ]
  },
  {
   "cell_type": "code",
   "execution_count": null,
   "metadata": {},
   "outputs": [],
   "source": [
    "N_DEGREE = 4\n",
    "N_LABEL = 6\n",
    "\n",
    "table_degree = tf.lookup.StaticHashTable(tf.lookup.TextFileInitializer(\n",
    "    TABEL_DEGREE_TXT,\n",
    "    tf.string, tf.lookup.TextFileIndex.WHOLE_LINE,\n",
    "    tf.int64, tf.lookup.TextFileIndex.LINE_NUMBER\n",
    "), N_DEGREE)\n",
    "table_label = tf.lookup.StaticHashTable(tf.lookup.TextFileInitializer(\n",
    "    TABEL_LABEL_TXT,\n",
    "    tf.string, tf.lookup.TextFileIndex.WHOLE_LINE,\n",
    "    tf.int64, tf.lookup.TextFileIndex.LINE_NUMBER\n",
    "), N_LABEL)"
   ]
  },
  {
   "cell_type": "markdown",
   "metadata": {},
   "source": [
    "## create tfrecord"
   ]
  },
  {
   "cell_type": "code",
   "execution_count": null,
   "metadata": {},
   "outputs": [],
   "source": [
    "def _bytes_feature(value):\n",
    "    return tf.train.Feature(bytes_list=tf.train.BytesList(value=value))\n",
    "\n",
    "def _int64_feature(value):\n",
    "    return tf.train.Feature(int64_list=tf.train.Int64List(value=value))\n",
    "\n",
    "def _float_feature(value):\n",
    "    return tf.train.Feature(float_list=tf.train.FloatList(value=value))\n",
    "\n",
    "def parse_fn(path, label, degree):\n",
    "    img_byte_str = tf.io.read_file(path)\n",
    "    label = table_label.lookup(label)\n",
    "    degree = table_degree.lookup(degree)\n",
    "    return img_byte_str, label, degree\n",
    "\n",
    "def create_example(img_byte_str, label, degree):\n",
    "    features = {\n",
    "        \"image\": _bytes_feature(img_byte_str),\n",
    "        \"degree\": _int64_feature(degree),\n",
    "        \"label\": _int64_feature(label),\n",
    "    }\n",
    "    return tf.train.Example(features=tf.train.Features(feature=features))"
   ]
  },
  {
   "cell_type": "code",
   "execution_count": null,
   "metadata": {},
   "outputs": [],
   "source": [
    "DB_PATH = \"/data/aoi-wzs-p3-dip-prewave-saiap/metadata.db\"\n",
    "tfrecord_path_base = \"/data/aoi-wzs-p3-dip-prewave-saiap/experiments/adversarial-training\"\n",
    "\n",
    "labels = [\n",
    "    'NG-InversePolarity',\n",
    "    'NG-MoreComp',\n",
    "    'NG-NoneComp',\n",
    "    'NG-OutsidePosition',\n",
    "    'NG-UpsideDown',\n",
    "    'OK',\n",
    "]\n",
    "\n",
    "for label in labels:\n",
    "    dataset = tf.data.experimental.SqlDataset(\n",
    "        \"sqlite\", DB_PATH,\n",
    "        f\"\"\"select path, label, degree from metadata\n",
    "        where\n",
    "            label = '{label}' and\n",
    "            degree >= 0 and\n",
    "            component like '%Cap' and\n",
    "            extension = 'png'\n",
    "        \"\"\", (tf.string, tf.string, tf.string))\n",
    "    dataset = dataset.map(parse_fn, tf.data.experimental.AUTOTUNE)\n",
    "\n",
    "    tfrecord_path = f\"{tfrecord_path_base}/{label}.tfrecord\"\n",
    "    with tf.io.TFRecordWriter(tfrecord_path) as writer:\n",
    "        for img_byte_str, label, degree in dataset:\n",
    "            example = create_example([img_byte_str.numpy()], [label.numpy()], [degree.numpy()])\n",
    "            writer.write(example.SerializeToString())"
   ]
  },
  {
   "cell_type": "markdown",
   "metadata": {},
   "source": [
    "# Hyperparameters"
   ]
  },
  {
   "cell_type": "code",
   "execution_count": null,
   "metadata": {},
   "outputs": [],
   "source": [
    "class HParam():\n",
    "    def __init__(self):\n",
    "        self.channels = 3\n",
    "        self.image_size = 32\n",
    "        self.input_shape = (self.image_size, self.image_size, self.channels)\n",
    "        \n",
    "        self.shuffle_buffer = 10000\n",
    "        self.batch_size = 1024\n",
    "        self.valid_size = 3000\n",
    "        \n",
    "        self.epochs = 10\n",
    "        self.steps_per_epoch = 100\n",
    "        \n",
    "        self.adv_multiplier = 2e-1\n",
    "        self.adv_step_size = 2e-1\n",
    "\n",
    "hparam = HParam()"
   ]
  },
  {
   "cell_type": "markdown",
   "metadata": {},
   "source": [
    "## prepare training data"
   ]
  },
  {
   "cell_type": "code",
   "execution_count": null,
   "metadata": {},
   "outputs": [],
   "source": [
    "N_DEGREE = 4\n",
    "N_LABEL = 6\n",
    "\n",
    "def parse_image(image):\n",
    "    image = tf.io.decode_png(image, hparam.channels)\n",
    "    image = tf.image.resize_with_pad(image, hparam.image_size, hparam.image_size)\n",
    "    return image\n",
    "\n",
    "def parse_single_example(example_proto):\n",
    "    feature_spec = {\n",
    "        \"image\": tf.io.FixedLenFeature([], tf.string),\n",
    "        \"degree\": tf.io.FixedLenFeature([], tf.int64),\n",
    "        \"label\": tf.io.FixedLenFeature([], tf.int64),\n",
    "    }\n",
    "    features = tf.io.parse_single_example(example_proto, feature_spec)\n",
    "\n",
    "    features[\"image\"] = parse_image(features[\"image\"])\n",
    "    features[\"degree\"] = tf.one_hot(features[\"degree\"], N_DEGREE)\n",
    "    features[\"label\"] = tf.one_hot(features[\"label\"], N_LABEL)\n",
    "\n",
    "    label = features[\"label\"]\n",
    "    return features, label\n",
    "\n",
    "def convert_for_adv(features, label):\n",
    "    return {\n",
    "        \"label\": tf.cast(label, tf.float32),\n",
    "        \"degree\": tf.cast(features[\"degree\"], tf.float32),\n",
    "        \"image\": features[\"image\"],\n",
    "    }\n",
    "\n",
    "tfrecord_paths = [\n",
    "    '/data/aoi-wzs-p3-dip-prewave-saiap/experiments/adversarial-training/NG-InversePolarity.tfrecord',\n",
    "    '/data/aoi-wzs-p3-dip-prewave-saiap/experiments/adversarial-training/NG-MoreComp.tfrecord',\n",
    "    '/data/aoi-wzs-p3-dip-prewave-saiap/experiments/adversarial-training/NG-NoneComp.tfrecord',\n",
    "    '/data/aoi-wzs-p3-dip-prewave-saiap/experiments/adversarial-training/NG-OutsidePosition.tfrecord',\n",
    "    '/data/aoi-wzs-p3-dip-prewave-saiap/experiments/adversarial-training/NG-UpsideDown.tfrecord',\n",
    "    '/data/aoi-wzs-p3-dip-prewave-saiap/experiments/adversarial-training/OK.tfrecord',\n",
    "]\n",
    "datasets = [tf.data.TFRecordDataset(x).repeat() for x in tfrecord_paths]\n",
    "dataset = tf.data.experimental.sample_from_datasets(datasets)\n",
    "\n",
    "train_ds = dataset.skip(hparam.valid_size).shuffle(hparam.shuffle_buffer).map(parse_single_example, tf.data.experimental.AUTOTUNE).batch(hparam.batch_size).prefetch(tf.data.experimental.AUTOTUNE)\n",
    "valid_ds = dataset.take(hparam.valid_size).shuffle(hparam.shuffle_buffer).map(parse_single_example, tf.data.experimental.AUTOTUNE).batch(hparam.batch_size).prefetch(tf.data.experimental.AUTOTUNE)"
   ]
  },
  {
   "cell_type": "markdown",
   "metadata": {},
   "source": [
    "# Base Model"
   ]
  },
  {
   "cell_type": "code",
   "execution_count": null,
   "metadata": {},
   "outputs": [],
   "source": [
    "import tensorflow.keras.layers as l\n",
    "\n",
    "def BaseModel():\n",
    "    inputs = {\n",
    "        \"image\": tf.keras.Input(hparam.input_shape, name=\"image\"),\n",
    "        \"degree\": tf.keras.Input([N_DEGREE], name=\"degree\")\n",
    "    }\n",
    "    e = inputs[\"degree\"]\n",
    "    \n",
    "    x = inputs[\"image\"]\n",
    "    x = l.Conv2D(64, 7, padding=\"same\")(x)\n",
    "    x = l.ReLU()(x)\n",
    "    for filters in [128, 256, 512]:\n",
    "        x = l.Conv2D(filters, 3, padding=\"same\")(x)\n",
    "        x = l.BatchNormalization()(x)\n",
    "        x = l.ReLU()(x)\n",
    "        x = l.MaxPool2D()(x)\n",
    "    x = l.Conv2D(1024, 3, padding=\"same\")(x)\n",
    "    x = l.BatchNormalization()(x)\n",
    "    x = l.ReLU()(x)\n",
    "    x = l.GlobalAveragePooling2D()(x)\n",
    "    x = l.Concatenate()([x, e])\n",
    "    x = l.Dense(N_LABEL)(x)\n",
    "    output = l.Activation(\"softmax\", dtype=\"float32\")(x)\n",
    "    return tf.keras.Model(inputs=inputs, outputs=output)"
   ]
  },
  {
   "cell_type": "code",
   "execution_count": null,
   "metadata": {},
   "outputs": [],
   "source": [
    "metrics = [\n",
    "    tf.keras.metrics.Recall(name=\"recall/NG-InversePolarity\", class_id=0),\n",
    "    tf.keras.metrics.Recall(name=\"recall/NG-MoreComp\", class_id=1),\n",
    "    tf.keras.metrics.Recall(name=\"recall/NG-NoneComp\", class_id=2),\n",
    "    tf.keras.metrics.Recall(name=\"recall/NG-OutsidePosition\", class_id=3),\n",
    "    tf.keras.metrics.Recall(name=\"recall/NG-UpsideDown\", class_id=4),\n",
    "    tf.keras.metrics.Recall(name=\"recall/OK\", class_id=5),\n",
    "    tf.keras.metrics.Precision(name=\"precision/NG-InversePolarity\", class_id=0),\n",
    "    tf.keras.metrics.Precision(name=\"precision/NG-MoreComp\", class_id=1),\n",
    "    tf.keras.metrics.Precision(name=\"precision/NG-NoneComp\", class_id=2),\n",
    "    tf.keras.metrics.Precision(name=\"precision/NG-OutsidePosition\", class_id=3),\n",
    "    tf.keras.metrics.Precision(name=\"precision/NG-UpsideDown\", class_id=4),\n",
    "    tf.keras.metrics.Precision(name=\"precision/OK\", class_id=5),\n",
    "]"
   ]
  },
  {
   "cell_type": "code",
   "execution_count": null,
   "metadata": {},
   "outputs": [],
   "source": [
    "logdir = \"/data/aoi-wzs-p3-dip-prewave-saiap/experiments/adversarial-training/base-model\"\n",
    "callbacks = [\n",
    "    tf.keras.callbacks.TensorBoard(logdir, write_graph=False, profile_batch=0)\n",
    "]\n",
    "\n",
    "model = BaseModel()\n",
    "model.compile(\"adam\", \"categorical_crossentropy\", metrics=metrics)\n",
    "\n",
    "model.fit(train_ds, validation_data=valid_ds,\n",
    "          epochs=hparam.epochs, steps_per_epoch=hparam.steps_per_epoch,\n",
    "          callbacks=callbacks,\n",
    "          verbose=0)"
   ]
  },
  {
   "cell_type": "markdown",
   "metadata": {},
   "source": [
    "## Adversarial Model"
   ]
  },
  {
   "cell_type": "code",
   "execution_count": null,
   "metadata": {},
   "outputs": [],
   "source": [
    "adv_train_ds = train_ds.map(convert_for_adv, tf.data.experimental.AUTOTUNE)\n",
    "adv_valid_ds = valid_ds.map(convert_for_adv, tf.data.experimental.AUTOTUNE)"
   ]
  },
  {
   "cell_type": "code",
   "execution_count": null,
   "metadata": {},
   "outputs": [],
   "source": [
    "logdir = \"/data/aoi-wzs-p3-dip-prewave-saiap/experiments/adversarial-training/adv-model\"\n",
    "callbacks = [\n",
    "    tf.keras.callbacks.TensorBoard(logdir, write_graph=False, profile_batch=0)\n",
    "]\n",
    "\n",
    "adv_config = nsl.configs.make_adv_reg_config(\n",
    "    multiplier=hparam.adv_multiplier,\n",
    "    adv_step_size=hparam.adv_step_size,\n",
    ")\n",
    "base_model = BaseModel()\n",
    "model = nsl.keras.AdversarialRegularization(\n",
    "    base_model, label_keys=[\"label\"], adv_config=adv_config)\n",
    "model.compile(\"adam\", \"categorical_crossentropy\", metrics=metrics)\n",
    "\n",
    "model.fit(adv_train_ds, validation_data=adv_valid_ds,\n",
    "          epochs=hparam.epochs, steps_per_epoch=hparam.steps_per_epoch,\n",
    "          callbacks=callbacks,\n",
    "          verbose=0)"
   ]
  },
  {
   "cell_type": "code",
   "execution_count": null,
   "metadata": {},
   "outputs": [],
   "source": []
  }
 ],
 "metadata": {
  "kernelspec": {
   "display_name": "Python 3",
   "language": "python",
   "name": "python3"
  },
  "language_info": {
   "codemirror_mode": {
    "name": "ipython",
    "version": 3
   },
   "file_extension": ".py",
   "mimetype": "text/x-python",
   "name": "python",
   "nbconvert_exporter": "python",
   "pygments_lexer": "ipython3",
   "version": "3.6.9"
  }
 },
 "nbformat": 4,
 "nbformat_minor": 4
}
