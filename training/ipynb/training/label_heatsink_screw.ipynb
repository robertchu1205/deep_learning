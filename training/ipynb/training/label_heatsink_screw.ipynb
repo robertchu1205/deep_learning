{
 "cells": [
  {
   "cell_type": "markdown",
   "metadata": {},
   "source": [
    "### Testing"
   ]
  },
  {
   "cell_type": "code",
   "execution_count": 5,
   "metadata": {},
   "outputs": [
    {
     "name": "stdout",
     "output_type": "stream",
     "text": [
      "INFO:tensorflow:Using MirroredStrategy with devices ('/job:localhost/replica:0/task:0/device:GPU:0', '/job:localhost/replica:0/task:0/device:GPU:1')\n"
     ]
    }
   ],
   "source": [
    "import tensorflow as tf\n",
    "LABEL_CLASS_LIST = ['NG', 'OK']\n",
    "label_lookup = tf.lookup.StaticHashTable(\n",
    "        tf.lookup.KeyValueTensorInitializer(LABEL_CLASS_LIST, tf.constant([0, 1], dtype=tf.int64)), -1)\n",
    "DEGREE_CLASS_LIST = ['000', '180', '270', '090']\n",
    "# degree_lookup = tf.lookup.StaticHashTable(\n",
    "#         tf.lookup.KeyValueTensorInitializer(DEGREE_CLASS_LIST, tf.constant(list(range(len(DEGREE_CLASS_LIST))), dtype=tf.int64)), -1)\n",
    "degree_lookup = tf.lookup.StaticHashTable(\n",
    "        tf.lookup.KeyValueTensorInitializer(DEGREE_CLASS_LIST, tf.constant([0, 4, 6, 2], dtype=tf.int64)), -1)\n",
    "mirrored_strategy = tf.distribute.MirroredStrategy(\n",
    "    cross_device_ops=tf.distribute.HierarchicalCopyAllReduce())\n",
    "with mirrored_strategy.scope():\n",
    "    METRICS = [\n",
    "                tf.keras.metrics.CategoricalAccuracy(name='acc'),\n",
    "                tf.keras.metrics.Precision(name=\"precision/ok\", class_id=0),\n",
    "                tf.keras.metrics.Precision(name=\"precision/ng\", class_id=1),\n",
    "                tf.keras.metrics.Recall(name=\"recall/ok\", class_id=0),\n",
    "                tf.keras.metrics.Recall(name=\"recall/ng\", class_id=1),\n",
    "            ]\n",
    "BATCH_SIZE = 512\n",
    "target_shape = (32, 32, 3)\n",
    "LABEL_NUM = 2\n",
    "# DEGREE_NUM = len(DEGREE_CLASS_LIST)\n",
    "DEGREE_NUM = 8"
   ]
  },
  {
   "cell_type": "code",
   "execution_count": 4,
   "metadata": {},
   "outputs": [],
   "source": [
    "def parse_img(img):\n",
    "    img = tf.io.decode_image(img, channels=target_shape[-1], \n",
    "                                dtype=tf.dtypes.float32, expand_animations = False)\n",
    "    img = tf.image.resize_with_pad(img, target_shape[1], target_shape[0])\n",
    "    return img\n",
    "# def parse_img(img):\n",
    "#     img = tf.io.decode_jpeg(img, channels=target_shape[-1])\n",
    "#     img = tf.image.resize_with_pad(img, target_shape[1], target_shape[0], tf.image.ResizeMethod.BILINEAR)\n",
    "#     return img\n",
    "def label_to_onehot(label):\n",
    "    label = label_lookup.lookup(label)\n",
    "    onehot_label = tf.one_hot(label, LABEL_NUM)\n",
    "    onehot_label = tf.cast(onehot_label, dtype=tf.float32)\n",
    "    return onehot_label\n",
    "def degree_to_onehot(degree):\n",
    "    degree = degree_lookup.lookup(degree)\n",
    "    onehot_degree = tf.one_hot(degree, DEGREE_NUM)\n",
    "#     onehot_degree = tf.cast(onehot_degree, dtype=tf.float32)\n",
    "    return onehot_degree\n",
    "def test_parse_func(path, degree, label):\n",
    "    features = {\n",
    "        'image': parse_img(tf.io.read_file(path)),\n",
    "        'degree': degree_to_onehot(degree),\n",
    "        'label': label_to_onehot(label),\n",
    "    }\n",
    "    return features, features['label']\n",
    "def test_ds_to_eva(test_ds, batch_size=BATCH_SIZE):\n",
    "    return test_ds.map(test_parse_func, tf.data.experimental.AUTOTUNE).batch(batch_size)"
   ]
  },
  {
   "cell_type": "markdown",
   "metadata": {},
   "source": [
    "### TEST ALL METADATA"
   ]
  },
  {
   "cell_type": "code",
   "execution_count": 5,
   "metadata": {},
   "outputs": [
    {
     "name": "stdout",
     "output_type": "stream",
     "text": [
      "24564\n"
     ]
    }
   ],
   "source": [
    "test_ds = tf.data.experimental.SqlDataset(\n",
    "    \"sqlite\", \"/tf/robertnb/p1-dip-metadata.db\", \n",
    "    f\"\"\"select path, degree, label from metadata \n",
    "        where component_class = 'label' or\n",
    "              component_class = 'screw' or\n",
    "              component_class = 'heat_sink' \n",
    "    \"\"\", (tf.string, tf.string, tf.string))\n",
    "print([i for i,_ in enumerate(test_ds)][-1] + 1)\n",
    "test_ds = test_ds_to_eva(test_ds)"
   ]
  },
  {
   "cell_type": "markdown",
   "metadata": {},
   "source": [
    "#### ( first_tuned ) "
   ]
  },
  {
   "cell_type": "code",
   "execution_count": 6,
   "metadata": {},
   "outputs": [
    {
     "name": "stderr",
     "output_type": "stream",
     "text": [
      "/usr/local/lib/python3.6/dist-packages/tensorflow/python/keras/engine/functional.py:543: UserWarning: Input dict contained keys ['label'] which did not match any model input. They will be ignored by the model.\n",
      "  [n for n in tensors.keys() if n not in ref_input_names])\n"
     ]
    },
    {
     "name": "stdout",
     "output_type": "stream",
     "text": [
      "48/48 [==============================] - 17s 364ms/step - loss: 0.0797 - acc: 0.9829 - precision/ok: 0.8238 - precision/ng: 0.9907 - recall/ok: 0.8132 - recall/ng: 0.9913\n",
      "/data/aoi-wzs-p1-dip-fa-nvidia/label_heatsink_screw/trained_h5/first_tuned/op-Adadelta_lr-7_loop-2/final \n",
      " {'loss': 0.07969395816326141, 'acc': 0.9828611016273499, 'precision/ok': 0.8237847089767456, 'precision/ng': 0.9906885623931885, 'recall/ok': 0.8131962418556213, 'recall/ng': 0.9913236498832703}\n",
      "48/48 [==============================] - 22s 462ms/step - loss: 0.0797 - acc: 0.9829 - precision/ok: 0.8238 - precision/ng: 0.9907 - recall/ok: 0.8132 - recall/ng: 0.9913\n",
      "/data/aoi-wzs-p1-dip-fa-nvidia/label_heatsink_screw/trained_h5/first_tuned/op-SGD_lr-7_loop-13/final \n",
      " {'loss': 0.07970903813838959, 'acc': 0.9828611016273499, 'precision/ok': 0.8237847089767456, 'precision/ng': 0.9906885623931885, 'recall/ok': 0.8131962418556213, 'recall/ng': 0.9913236498832703}\n",
      "48/48 [==============================] - 19s 388ms/step - loss: 0.0799 - acc: 0.9828 - precision/ok: 0.8231 - precision/ng: 0.9907 - recall/ok: 0.8132 - recall/ng: 0.9913\n",
      "/data/aoi-wzs-p1-dip-fa-nvidia/label_heatsink_screw/trained_h5/first_tuned/op-Adadelta_lr-5_loop-5/final \n",
      " {'loss': 0.07988711446523666, 'acc': 0.9828203916549683, 'precision/ok': 0.823070228099823, 'precision/ng': 0.990688145160675, 'recall/ok': 0.8131962418556213, 'recall/ng': 0.9912809133529663}\n",
      "48/48 [==============================] - 19s 390ms/step - loss: 0.0854 - acc: 0.9802 - precision/ok: 0.7735 - precision/ng: 0.9913 - recall/ok: 0.8252 - recall/ng: 0.9879\n",
      "/data/aoi-wzs-p1-dip-fa-nvidia/label_heatsink_screw/trained_h5/first_tuned/op-SGD_lr-5_loop-4/final \n",
      " {'loss': 0.08542919158935547, 'acc': 0.9802149534225464, 'precision/ok': 0.7734940052032471, 'precision/ng': 0.9912517666816711, 'recall/ok': 0.8251928091049194, 'recall/ng': 0.9879471659660339}\n",
      "48/48 [==============================] - 18s 370ms/step - loss: 0.0797 - acc: 0.9829 - precision/ok: 0.8238 - precision/ng: 0.9907 - recall/ok: 0.8132 - recall/ng: 0.9913\n",
      "/data/aoi-wzs-p1-dip-fa-nvidia/label_heatsink_screw/trained_h5/first_tuned/op-Adadelta_lr-6_loop-33/final \n",
      " {'loss': 0.07972470670938492, 'acc': 0.9828611016273499, 'precision/ok': 0.8237847089767456, 'precision/ng': 0.9906885623931885, 'recall/ok': 0.8131962418556213, 'recall/ng': 0.9913236498832703}\n",
      "48/48 [==============================] - 19s 396ms/step - loss: 0.0834 - acc: 0.9823 - precision/ok: 0.8105 - precision/ng: 0.9909 - recall/ok: 0.8175 - recall/ng: 0.9905\n",
      "/data/aoi-wzs-p1-dip-fa-nvidia/label_heatsink_screw/trained_h5/first_tuned/op-SGD_lr-5_loop-22/final \n",
      " {'loss': 0.08340121805667877, 'acc': 0.982250452041626, 'precision/ok': 0.8105352520942688, 'precision/ng': 0.9908923506736755, 'recall/ok': 0.817480742931366, 'recall/ng': 0.9904688596725464}\n",
      "48/48 [==============================] - 17s 357ms/step - loss: 0.0797 - acc: 0.9829 - precision/ok: 0.8238 - precision/ng: 0.9907 - recall/ok: 0.8132 - recall/ng: 0.9913\n",
      "/data/aoi-wzs-p1-dip-fa-nvidia/label_heatsink_screw/trained_h5/first_tuned/op-SGD_lr-8_loop-23/final \n",
      " {'loss': 0.07969719171524048, 'acc': 0.9828611016273499, 'precision/ok': 0.8237847089767456, 'precision/ng': 0.9906885623931885, 'recall/ok': 0.8131962418556213, 'recall/ng': 0.9913236498832703}\n",
      "48/48 [==============================] - 19s 386ms/step - loss: 0.0797 - acc: 0.9829 - precision/ok: 0.8238 - precision/ng: 0.9907 - recall/ok: 0.8132 - recall/ng: 0.9913\n",
      "/data/aoi-wzs-p1-dip-fa-nvidia/label_heatsink_screw/trained_h5/first_tuned/op-SGD_lr-8_loop-3/final \n",
      " {'loss': 0.07969710975885391, 'acc': 0.9828611016273499, 'precision/ok': 0.8237847089767456, 'precision/ng': 0.9906885623931885, 'recall/ok': 0.8131962418556213, 'recall/ng': 0.9913236498832703}\n",
      "48/48 [==============================] - 17s 357ms/step - loss: 0.0797 - acc: 0.9829 - precision/ok: 0.8238 - precision/ng: 0.9907 - recall/ok: 0.8132 - recall/ng: 0.9913\n",
      "/data/aoi-wzs-p1-dip-fa-nvidia/label_heatsink_screw/trained_h5/first_tuned/op-SGD_lr-7_loop-17/final \n",
      " {'loss': 0.07972458750009537, 'acc': 0.9828611016273499, 'precision/ok': 0.8237847089767456, 'precision/ng': 0.9906885623931885, 'recall/ok': 0.8131962418556213, 'recall/ng': 0.9913236498832703}\n",
      "48/48 [==============================] - 17s 362ms/step - loss: 0.0804 - acc: 0.9827 - precision/ok: 0.8204 - precision/ng: 0.9907 - recall/ok: 0.8141 - recall/ng: 0.9911\n",
      "/data/aoi-wzs-p1-dip-fa-nvidia/label_heatsink_screw/trained_h5/first_tuned/op-adagrad_lr-6_loop-26/final \n",
      " {'loss': 0.08042324334383011, 'acc': 0.9826982617378235, 'precision/ok': 0.8203799724578857, 'precision/ng': 0.9907288551330566, 'recall/ok': 0.8140531182289124, 'recall/ng': 0.9911099672317505}\n",
      "48/48 [==============================] - 16s 337ms/step - loss: 0.4471 - acc: 0.9113 - precision/ok: 0.2994 - precision/ng: 0.9813 - recall/ok: 0.6470 - recall/ng: 0.9245\n",
      "/data/aoi-wzs-p1-dip-fa-nvidia/label_heatsink_screw/trained_h5/first_tuned/op-adam_lr-6_loop-18/final \n",
      " {'loss': 0.44710466265678406, 'acc': 0.9112929701805115, 'precision/ok': 0.2993655800819397, 'precision/ng': 0.9813084006309509, 'recall/ok': 0.6469579935073853, 'recall/ng': 0.9244775176048279}\n",
      "48/48 [==============================] - 19s 386ms/step - loss: 0.0808 - acc: 0.9826 - precision/ok: 0.8177 - precision/ng: 0.9908 - recall/ok: 0.8149 - recall/ng: 0.9909\n",
      "/data/aoi-wzs-p1-dip-fa-nvidia/label_heatsink_screw/trained_h5/first_tuned/op-adagrad_lr-6_loop-25/final \n",
      " {'loss': 0.08077654242515564, 'acc': 0.9825761318206787, 'precision/ok': 0.8177127838134766, 'precision/ng': 0.990769624710083, 'recall/ok': 0.8149100542068481, 'recall/ng': 0.9909390211105347}\n",
      "48/48 [==============================] - 17s 350ms/step - loss: 0.0797 - acc: 0.9829 - precision/ok: 0.8238 - precision/ng: 0.9907 - recall/ok: 0.8132 - recall/ng: 0.9913\n",
      "/data/aoi-wzs-p1-dip-fa-nvidia/label_heatsink_screw/trained_h5/first_tuned/op-Adadelta_lr-6_loop-30/final \n",
      " {'loss': 0.07970308512449265, 'acc': 0.9828611016273499, 'precision/ok': 0.8237847089767456, 'precision/ng': 0.9906885623931885, 'recall/ok': 0.8131962418556213, 'recall/ng': 0.9913236498832703}\n",
      "48/48 [==============================] - 18s 377ms/step - loss: 0.0798 - acc: 0.9829 - precision/ok: 0.8238 - precision/ng: 0.9907 - recall/ok: 0.8132 - recall/ng: 0.9913\n",
      "/data/aoi-wzs-p1-dip-fa-nvidia/label_heatsink_screw/trained_h5/first_tuned/op-adagrad_lr-7_loop-28/final \n",
      " {'loss': 0.07976461201906204, 'acc': 0.9828611016273499, 'precision/ok': 0.8237847089767456, 'precision/ng': 0.9906885623931885, 'recall/ok': 0.8131962418556213, 'recall/ng': 0.9913236498832703}\n",
      "48/48 [==============================] - 17s 352ms/step - loss: 0.0797 - acc: 0.9829 - precision/ok: 0.8238 - precision/ng: 0.9907 - recall/ok: 0.8132 - recall/ng: 0.9913\n",
      "/data/aoi-wzs-p1-dip-fa-nvidia/label_heatsink_screw/trained_h5/first_tuned/op-SGD_lr-7_loop-31/final \n",
      " {'loss': 0.07972458750009537, 'acc': 0.9828611016273499, 'precision/ok': 0.8237847089767456, 'precision/ng': 0.9906885623931885, 'recall/ok': 0.8131962418556213, 'recall/ng': 0.9913236498832703}\n",
      "48/48 [==============================] - 16s 334ms/step - loss: 0.3636 - acc: 0.9770 - precision/ok: 0.7673 - precision/ng: 0.9871 - recall/ok: 0.7404 - recall/ng: 0.9888\n",
      "/data/aoi-wzs-p1-dip-fa-nvidia/label_heatsink_screw/trained_h5/first_tuned/op-adagrad_lr-5_loop-8/final \n",
      " {'loss': 0.3636186122894287, 'acc': 0.9769988656044006, 'precision/ok': 0.7673179507255554, 'precision/ng': 0.9870722889900208, 'recall/ok': 0.740359902381897, 'recall/ng': 0.9888019561767578}\n",
      "48/48 [==============================] - 17s 345ms/step - loss: 0.0797 - acc: 0.9829 - precision/ok: 0.8238 - precision/ng: 0.9907 - recall/ok: 0.8132 - recall/ng: 0.9913\n",
      "/data/aoi-wzs-p1-dip-fa-nvidia/label_heatsink_screw/trained_h5/first_tuned/op-Adadelta_lr-7_loop-1/final \n",
      " {'loss': 0.07969362288713455, 'acc': 0.9828611016273499, 'precision/ok': 0.8237847089767456, 'precision/ng': 0.9906885623931885, 'recall/ok': 0.8131962418556213, 'recall/ng': 0.9913236498832703}\n",
      "48/48 [==============================] - 16s 328ms/step - loss: 0.0803 - acc: 0.9827 - precision/ok: 0.8197 - precision/ng: 0.9907 - recall/ok: 0.8141 - recall/ng: 0.9911\n",
      "/data/aoi-wzs-p1-dip-fa-nvidia/label_heatsink_screw/trained_h5/first_tuned/op-adam_lr-8_loop-12/final \n",
      " {'loss': 0.08028283715248108, 'acc': 0.9826575517654419, 'precision/ok': 0.8196721076965332, 'precision/ng': 0.990728497505188, 'recall/ok': 0.8140531182289124, 'recall/ng': 0.9910672307014465}\n"
     ]
    },
    {
     "name": "stdout",
     "output_type": "stream",
     "text": [
      "48/48 [==============================] - 17s 364ms/step - loss: 0.0801 - acc: 0.9827 - precision/ok: 0.8211 - precision/ng: 0.9907 - recall/ok: 0.8141 - recall/ng: 0.9912\n",
      "/data/aoi-wzs-p1-dip-fa-nvidia/label_heatsink_screw/trained_h5/first_tuned/op-adam_lr-8_loop-32/final \n",
      " {'loss': 0.08011358976364136, 'acc': 0.9827389717102051, 'precision/ok': 0.8210890293121338, 'precision/ng': 0.9907292723655701, 'recall/ok': 0.8140531182289124, 'recall/ng': 0.9911527037620544}\n",
      "48/48 [==============================] - 18s 368ms/step - loss: 0.0823 - acc: 0.9823 - precision/ok: 0.8119 - precision/ng: 0.9909 - recall/ok: 0.8175 - recall/ng: 0.9906\n",
      "/data/aoi-wzs-p1-dip-fa-nvidia/label_heatsink_screw/trained_h5/first_tuned/op-adam_lr-7_loop-11/final \n",
      " {'loss': 0.0823264941573143, 'acc': 0.9823318719863892, 'precision/ok': 0.8119149208068848, 'precision/ng': 0.9908931255340576, 'recall/ok': 0.817480742931366, 'recall/ng': 0.9905543327331543}\n",
      "48/48 [==============================] - 17s 358ms/step - loss: 0.3687 - acc: 0.9807 - precision/ok: 0.8448 - precision/ng: 0.9865 - recall/ok: 0.7275 - recall/ng: 0.9933\n",
      "/data/aoi-wzs-p1-dip-fa-nvidia/label_heatsink_screw/trained_h5/first_tuned/op-adagrad_lr-5_loop-9/final \n",
      " {'loss': 0.3687080144882202, 'acc': 0.9807034730911255, 'precision/ok': 0.8447760939598083, 'precision/ng': 0.9865019917488098, 'recall/ok': 0.7275063991546631, 'recall/ng': 0.9933325052261353}\n",
      "48/48 [==============================] - 17s 351ms/step - loss: 0.0814 - acc: 0.9825 - precision/ok: 0.8158 - precision/ng: 0.9908 - recall/ok: 0.8158 - recall/ng: 0.9908\n",
      "/data/aoi-wzs-p1-dip-fa-nvidia/label_heatsink_screw/trained_h5/first_tuned/op-adagrad_lr-6_loop-21/final \n",
      " {'loss': 0.08138564229011536, 'acc': 0.9824947118759155, 'precision/ok': 0.8157669305801392, 'precision/ng': 0.9908108115196228, 'recall/ok': 0.8157669305801392, 'recall/ng': 0.9908108115196228}\n",
      "48/48 [==============================] - 17s 356ms/step - loss: 0.0797 - acc: 0.9829 - precision/ok: 0.8238 - precision/ng: 0.9907 - recall/ok: 0.8132 - recall/ng: 0.9913\n",
      "/data/aoi-wzs-p1-dip-fa-nvidia/label_heatsink_screw/trained_h5/first_tuned/op-SGD_lr-8_loop-4/final \n",
      " {'loss': 0.0796981155872345, 'acc': 0.9828611016273499, 'precision/ok': 0.8237847089767456, 'precision/ng': 0.9906885623931885, 'recall/ok': 0.8131962418556213, 'recall/ng': 0.9913236498832703}\n",
      "48/48 [==============================] - 18s 379ms/step - loss: 0.0814 - acc: 0.9827 - precision/ok: 0.8175 - precision/ng: 0.9909 - recall/ok: 0.8175 - recall/ng: 0.9909\n",
      "/data/aoi-wzs-p1-dip-fa-nvidia/label_heatsink_screw/trained_h5/first_tuned/op-adam_lr-7_loop-14/final \n",
      " {'loss': 0.08140549063682556, 'acc': 0.9826575517654419, 'precision/ok': 0.817480742931366, 'precision/ng': 0.9908962845802307, 'recall/ok': 0.817480742931366, 'recall/ng': 0.9908962845802307}\n",
      "48/48 [==============================] - 17s 352ms/step - loss: 0.4009 - acc: 0.9544 - precision/ok: 0.9792 - precision/ng: 0.9543 - recall/ok: 0.0403 - recall/ng: 1.0000\n",
      "/data/aoi-wzs-p1-dip-fa-nvidia/label_heatsink_screw/trained_h5/first_tuned/op-adam_lr-5_loop-2/final \n",
      " {'loss': 0.40088775753974915, 'acc': 0.9543641209602356, 'precision/ok': 0.9791666865348816, 'precision/ng': 0.9543155431747437, 'recall/ok': 0.040274206548929214, 'recall/ng': 0.999957263469696}\n",
      "48/48 [==============================] - 17s 355ms/step - loss: 0.0798 - acc: 0.9828 - precision/ok: 0.8224 - precision/ng: 0.9907 - recall/ok: 0.8132 - recall/ng: 0.9912\n",
      "/data/aoi-wzs-p1-dip-fa-nvidia/label_heatsink_screw/trained_h5/first_tuned/op-adagrad_lr-7_loop-1/final \n",
      " {'loss': 0.07983538508415222, 'acc': 0.9827796816825867, 'precision/ok': 0.8223569989204407, 'precision/ng': 0.9906877279281616, 'recall/ok': 0.8131962418556213, 'recall/ng': 0.9912381768226624}\n",
      "48/48 [==============================] - 16s 341ms/step - loss: 0.0799 - acc: 0.9827 - precision/ok: 0.8211 - precision/ng: 0.9907 - recall/ok: 0.8141 - recall/ng: 0.9912: 0.0623 - acc: 0.9877 - precision/ok: 0.8456 - precision/ng: 0.9953 - recall/ok: 0.9062 - recall/\n",
      "/data/aoi-wzs-p1-dip-fa-nvidia/label_heatsink_screw/trained_h5/first_tuned/op-Adadelta_lr-5_loop-1/final \n",
      " {'loss': 0.07994003593921661, 'acc': 0.9827389717102051, 'precision/ok': 0.8210890293121338, 'precision/ng': 0.9907292723655701, 'recall/ok': 0.8140531182289124, 'recall/ng': 0.9911527037620544}\n",
      "48/48 [==============================] - 16s 340ms/step - loss: 0.0842 - acc: 0.9821 - precision/ok: 0.8062 - precision/ng: 0.9910 - recall/ok: 0.8201 - recall/ng: 0.9902\n",
      "/data/aoi-wzs-p1-dip-fa-nvidia/label_heatsink_screw/trained_h5/first_tuned/op-adam_lr-7_loop-7/final \n",
      " {'loss': 0.0842147171497345, 'acc': 0.9820876121520996, 'precision/ok': 0.8062341809272766, 'precision/ng': 0.9910168051719666, 'recall/ok': 0.8200514316558838, 'recall/ng': 0.9901697039604187}\n",
      "48/48 [==============================] - 16s 340ms/step - loss: 0.0798 - acc: 0.9829 - precision/ok: 0.8238 - precision/ng: 0.9907 - recall/ok: 0.8132 - recall/ng: 0.9913\n",
      "/data/aoi-wzs-p1-dip-fa-nvidia/label_heatsink_screw/trained_h5/first_tuned/op-adagrad_lr-7_loop-10/final \n",
      " {'loss': 0.07982747256755829, 'acc': 0.9828611016273499, 'precision/ok': 0.8237847089767456, 'precision/ng': 0.9906885623931885, 'recall/ok': 0.8131962418556213, 'recall/ng': 0.9913236498832703}\n",
      "48/48 [==============================] - 17s 360ms/step - loss: 0.0797 - acc: 0.9829 - precision/ok: 0.8238 - precision/ng: 0.9907 - recall/ok: 0.8132 - recall/ng: 0.9913\n",
      "/data/aoi-wzs-p1-dip-fa-nvidia/label_heatsink_screw/trained_h5/first_tuned/op-adagrad_lr-8_loop-35/final \n",
      " {'loss': 0.07970348745584488, 'acc': 0.9828611016273499, 'precision/ok': 0.8237847089767456, 'precision/ng': 0.9906885623931885, 'recall/ok': 0.8131962418556213, 'recall/ng': 0.9913236498832703}\n",
      "48/48 [==============================] - 17s 358ms/step - loss: 0.0797 - acc: 0.9829 - precision/ok: 0.8238 - precision/ng: 0.9907 - recall/ok: 0.8132 - recall/ng: 0.9913\n",
      "/data/aoi-wzs-p1-dip-fa-nvidia/label_heatsink_screw/trained_h5/first_tuned/op-SGD_lr-7_loop-15/final \n",
      " {'loss': 0.07970903813838959, 'acc': 0.9828611016273499, 'precision/ok': 0.8237847089767456, 'precision/ng': 0.9906885623931885, 'recall/ok': 0.8131962418556213, 'recall/ng': 0.9913236498832703}\n",
      "48/48 [==============================] - 18s 372ms/step - loss: 0.0797 - acc: 0.9829 - precision/ok: 0.8238 - precision/ng: 0.9907 - recall/ok: 0.8132 - recall/ng: 0.9913\n",
      "/data/aoi-wzs-p1-dip-fa-nvidia/label_heatsink_screw/trained_h5/first_tuned/op-Adadelta_lr-7_loop-34/final \n",
      " {'loss': 0.07969452440738678, 'acc': 0.9828611016273499, 'precision/ok': 0.8237847089767456, 'precision/ng': 0.9906885623931885, 'recall/ok': 0.8131962418556213, 'recall/ng': 0.9913236498832703}\n",
      "48/48 [==============================] - 18s 366ms/step - loss: 0.0797 - acc: 0.9829 - precision/ok: 0.8238 - precision/ng: 0.9907 - recall/ok: 0.8132 - recall/ng: 0.9913\n",
      "/data/aoi-wzs-p1-dip-fa-nvidia/label_heatsink_screw/trained_h5/first_tuned/op-SGD_lr-8_loop-6/final \n",
      " {'loss': 0.07970075309276581, 'acc': 0.9828611016273499, 'precision/ok': 0.8237847089767456, 'precision/ng': 0.9906885623931885, 'recall/ok': 0.8131962418556213, 'recall/ng': 0.9913236498832703}\n",
      "48/48 [==============================] - 17s 348ms/step - loss: 0.0799 - acc: 0.9828 - precision/ok: 0.8231 - precision/ng: 0.9907 - recall/ok: 0.8132 - recall/ng: 0.9913\n",
      "/data/aoi-wzs-p1-dip-fa-nvidia/label_heatsink_screw/trained_h5/first_tuned/op-adagrad_lr-7_loop-3/final \n",
      " {'loss': 0.07988004386425018, 'acc': 0.9828203916549683, 'precision/ok': 0.823070228099823, 'precision/ng': 0.990688145160675, 'recall/ok': 0.8131962418556213, 'recall/ng': 0.9912809133529663}\n",
      "48/48 [==============================] - 18s 378ms/step - loss: 0.0804 - acc: 0.9827 - precision/ok: 0.8204 - precision/ng: 0.9907 - recall/ok: 0.8141 - recall/ng: 0.9911\n",
      "/data/aoi-wzs-p1-dip-fa-nvidia/label_heatsink_screw/trained_h5/first_tuned/op-adagrad_lr-6_loop-20/final \n",
      " {'loss': 0.08042324334383011, 'acc': 0.9826982617378235, 'precision/ok': 0.8203799724578857, 'precision/ng': 0.9907288551330566, 'recall/ok': 0.8140531182289124, 'recall/ng': 0.9911099672317505}\n",
      "48/48 [==============================] - 17s 360ms/step - loss: 0.0799 - acc: 0.9827 - precision/ok: 0.8211 - precision/ng: 0.9907 - recall/ok: 0.8141 - recall/ng: 0.9912\n",
      "/data/aoi-wzs-p1-dip-fa-nvidia/label_heatsink_screw/trained_h5/first_tuned/op-Adadelta_lr-5_loop-2/final \n",
      " {'loss': 0.07994004338979721, 'acc': 0.9827389717102051, 'precision/ok': 0.8210890293121338, 'precision/ng': 0.9907292723655701, 'recall/ok': 0.8140531182289124, 'recall/ng': 0.9911527037620544}\n",
      "48/48 [==============================] - 17s 345ms/step - loss: 0.0886 - acc: 0.9803 - precision/ok: 0.7761 - precision/ng: 0.9911 - recall/ok: 0.8226 - recall/ng: 0.9882\n",
      "/data/aoi-wzs-p1-dip-fa-nvidia/label_heatsink_screw/trained_h5/first_tuned/op-adagrad_lr-5_loop-29/final \n",
      " {'loss': 0.0885600671172142, 'acc': 0.9802963733673096, 'precision/ok': 0.7760711312294006, 'precision/ng': 0.9911261796951294, 'recall/ok': 0.8226221203804016, 'recall/ng': 0.9881608486175537}\n",
      "48/48 [==============================] - 18s 366ms/step - loss: 0.4009 - acc: 0.9544 - precision/ok: 0.9792 - precision/ng: 0.9543 - recall/ok: 0.0403 - recall/ng: 1.0000\n",
      "/data/aoi-wzs-p1-dip-fa-nvidia/label_heatsink_screw/trained_h5/first_tuned/op-adam_lr-5_loop-24/final \n",
      " {'loss': 0.4008883237838745, 'acc': 0.9543641209602356, 'precision/ok': 0.9791666865348816, 'precision/ng': 0.9543155431747437, 'recall/ok': 0.040274206548929214, 'recall/ng': 0.999957263469696}\n",
      "48/48 [==============================] - 17s 359ms/step - loss: 0.0797 - acc: 0.9829 - precision/ok: 0.8238 - precision/ng: 0.9907 - recall/ok: 0.8132 - recall/ng: 0.9913\n",
      "/data/aoi-wzs-p1-dip-fa-nvidia/label_heatsink_screw/trained_h5/first_tuned/op-adagrad_lr-8_loop-16/final \n",
      " {'loss': 0.07969865202903748, 'acc': 0.9828611016273499, 'precision/ok': 0.8237847089767456, 'precision/ng': 0.9906885623931885, 'recall/ok': 0.8131962418556213, 'recall/ng': 0.9913236498832703}\n",
      "48/48 [==============================] - 18s 366ms/step - loss: 0.0798 - acc: 0.9829 - precision/ok: 0.8238 - precision/ng: 0.9907 - recall/ok: 0.8132 - recall/ng: 0.9913\n",
      "/data/aoi-wzs-p1-dip-fa-nvidia/label_heatsink_screw/trained_h5/first_tuned/op-Adadelta_lr-5_loop-19/final \n",
      " {'loss': 0.07978840917348862, 'acc': 0.9828611016273499, 'precision/ok': 0.8237847089767456, 'precision/ng': 0.9906885623931885, 'recall/ok': 0.8131962418556213, 'recall/ng': 0.9913236498832703}\n",
      "48/48 [==============================] - 17s 354ms/step - loss: 0.0797 - acc: 0.9829 - precision/ok: 0.8238 - precision/ng: 0.9907 - recall/ok: 0.8132 - recall/ng: 0.9913\n",
      "/data/aoi-wzs-p1-dip-fa-nvidia/label_heatsink_screw/trained_h5/first_tuned/op-SGD_lr-8_loop-27/final \n",
      " {'loss': 0.07969523966312408, 'acc': 0.9828611016273499, 'precision/ok': 0.8237847089767456, 'precision/ng': 0.9906885623931885, 'recall/ok': 0.8131962418556213, 'recall/ng': 0.9913236498832703}\n"
     ]
    }
   ],
   "source": [
    "import glob\n",
    "ft_pattern = '/data/aoi-wzs-p1-dip-fa-nvidia/label_heatsink_screw/trained_h5/first_tuned/*/final'\n",
    "ft = glob.glob(ft_pattern)\n",
    "\n",
    "for p in ft:\n",
    "    loaded = tf.keras.models.load_model(p)\n",
    "    evaluate = loaded.evaluate(test_ds)\n",
    "    named_results = dict(zip(loaded.metrics_names, evaluate))\n",
    "    print(p, '\\n', named_results)"
   ]
  },
  {
   "cell_type": "markdown",
   "metadata": {},
   "source": [
    "#### ( relabeled_vgg_with_tfrecords_r50 ) "
   ]
  },
  {
   "cell_type": "code",
   "execution_count": 7,
   "metadata": {},
   "outputs": [
    {
     "name": "stderr",
     "output_type": "stream",
     "text": [
      "/usr/local/lib/python3.6/dist-packages/tensorflow/python/keras/engine/functional.py:543: UserWarning: Input dict contained keys ['label'] which did not match any model input. They will be ignored by the model.\n",
      "  [n for n in tensors.keys() if n not in ref_input_names])\n"
     ]
    },
    {
     "name": "stdout",
     "output_type": "stream",
     "text": [
      "48/48 [==============================] - 22s 452ms/step - loss: 0.0969 - acc: 0.9758 - precision/ok: 0.7028 - precision/ng: 0.9925 - recall/ok: 0.8509 - recall/ng: 0.9820\n",
      "/data/aoi-wzs-p1-dip-fa-nvidia/label_heatsink_screw/trained_h5/relabeled_vgg_with_tfrecords_r50/b-VGG16_lr-4_op-adam_adv-True_ss-0.09615402259735728/final \n",
      " {'loss': 0.09686160832643509, 'acc': 0.9758182764053345, 'precision/ok': 0.7027601003646851, 'precision/ng': 0.9924841523170471, 'recall/ok': 0.8508997559547424, 'recall/ng': 0.9820489883422852}\n",
      "48/48 [==============================] - 21s 447ms/step - loss: 0.1213 - acc: 0.9649 - precision/ok: 0.6004 - precision/ng: 0.9891 - recall/ok: 0.7841 - recall/ng: 0.9740\n",
      "/data/aoi-wzs-p1-dip-fa-nvidia/label_heatsink_screw/trained_h5/relabeled_vgg_with_tfrecords_r50/b-VGG16_lr-5_op-adam_adv-True_ss-0.0877538779325646/final \n",
      " {'loss': 0.12131451070308685, 'acc': 0.9649487137794495, 'precision/ok': 0.6003937125205994, 'precision/ng': 0.989062488079071, 'recall/ok': 0.7840616703033447, 'recall/ng': 0.9739710092544556}\n",
      "48/48 [==============================] - 20s 408ms/step - loss: 0.2054 - acc: 0.8820 - precision/ok: 0.2493 - precision/ng: 0.9855 - recall/ok: 0.7378 - recall/ng: 0.8892\n",
      "/data/aoi-wzs-p1-dip-fa-nvidia/label_heatsink_screw/trained_h5/relabeled_vgg_with_tfrecords_r50/b-VGG16_lr-5_op-adam_adv-True_ss-0.06670334342564431/final \n",
      " {'loss': 0.20542053878307343, 'acc': 0.8819817900657654, 'precision/ok': 0.24927620589733124, 'precision/ng': 0.9855045080184937, 'recall/ok': 0.7377892136573792, 'recall/ng': 0.8891738057136536}\n",
      "48/48 [==============================] - 19s 399ms/step - loss: 0.0968 - acc: 0.9690 - precision/ok: 0.6355 - precision/ng: 0.9906 - recall/ok: 0.8141 - recall/ng: 0.9767\n",
      "/data/aoi-wzs-p1-dip-fa-nvidia/label_heatsink_screw/trained_h5/relabeled_vgg_with_tfrecords_r50/b-VGG16_lr-4_op-adam_adv-True_ss-0.0494495205532311/final \n",
      " {'loss': 0.09677816927433014, 'acc': 0.968979001045227, 'precision/ok': 0.6354514956474304, 'precision/ng': 0.990593433380127, 'recall/ok': 0.8140531182289124, 'recall/ng': 0.9767063856124878}\n",
      "48/48 [==============================] - 18s 374ms/step - loss: 0.1321 - acc: 0.9577 - precision/ok: 0.5400 - precision/ng: 0.9866 - recall/ok: 0.7352 - recall/ng: 0.9688\n",
      "/data/aoi-wzs-p1-dip-fa-nvidia/label_heatsink_screw/trained_h5/relabeled_vgg_with_tfrecords_r50/b-VGG16_lr-5_op-adam_adv-True_ss-0.013305155902321817/final \n",
      " {'loss': 0.13214853405952454, 'acc': 0.9576616287231445, 'precision/ok': 0.5399622321128845, 'precision/ng': 0.9865505695343018, 'recall/ok': 0.7352185249328613, 'recall/ng': 0.9687566757202148}\n",
      "48/48 [==============================] - 17s 360ms/step - loss: 0.0713 - acc: 0.9787 - precision/ok: 0.7181 - precision/ng: 0.9955 - recall/ok: 0.9100 - recall/ng: 0.9822\n",
      "/data/aoi-wzs-p1-dip-fa-nvidia/label_heatsink_screw/trained_h5/relabeled_vgg_with_tfrecords_r50/b-VGG16_lr-3_op-adam_adv-True_ss-0.09837367246188433/final \n",
      " {'loss': 0.07129734009504318, 'acc': 0.9787493944168091, 'precision/ok': 0.7180527448654175, 'precision/ng': 0.9954515695571899, 'recall/ok': 0.9100257158279419, 'recall/ng': 0.982177197933197}\n",
      "48/48 [==============================] - 18s 372ms/step - loss: 0.1091 - acc: 0.9729 - precision/ok: 0.6999 - precision/ng: 0.9876 - recall/ok: 0.7515 - recall/ng: 0.9839\n",
      "/data/aoi-wzs-p1-dip-fa-nvidia/label_heatsink_screw/trained_h5/relabeled_vgg_with_tfrecords_r50/b-VGG16_lr-4_op-adam_adv-True_ss-0.09803428963621641/final \n",
      " {'loss': 0.10910342633724213, 'acc': 0.9728871583938599, 'precision/ok': 0.6999201774597168, 'precision/ng': 0.9875594973564148, 'recall/ok': 0.751499593257904, 'recall/ng': 0.9839295744895935}\n",
      "48/48 [==============================] - 17s 357ms/step - loss: 0.2063 - acc: 0.9215 - precision/ok: 0.3410 - precision/ng: 0.9842 - recall/ok: 0.6992 - recall/ng: 0.9326\n",
      "/data/aoi-wzs-p1-dip-fa-nvidia/label_heatsink_screw/trained_h5/relabeled_vgg_with_tfrecords_r50/b-VGG16_lr-4_op-adam_adv-True_ss-0.01757660626595208/final \n",
      " {'loss': 0.20626932382583618, 'acc': 0.921511173248291, 'precision/ok': 0.34099456667900085, 'precision/ng': 0.984168529510498, 'recall/ok': 0.6992287635803223, 'recall/ng': 0.9325981736183167}\n",
      "48/48 [==============================] - 18s 371ms/step - loss: 0.3115 - acc: 0.8788 - precision/ok: 0.2068 - precision/ng: 0.9754 - recall/ok: 0.5467 - recall/ng: 0.8954\n",
      "/data/aoi-wzs-p1-dip-fa-nvidia/label_heatsink_screw/trained_h5/relabeled_vgg_with_tfrecords_r50/b-VGG16_lr-5_op-adam_adv-True_ss-0.10629406503242228/final \n",
      " {'loss': 0.31147825717926025, 'acc': 0.8788471221923828, 'precision/ok': 0.20680713653564453, 'precision/ng': 0.9753713011741638, 'recall/ok': 0.5467009544372559, 'recall/ng': 0.8954139351844788}\n",
      "48/48 [==============================] - 18s 385ms/step - loss: 0.1544 - acc: 0.9413 - precision/ok: 0.4349 - precision/ng: 0.9888 - recall/ok: 0.7841 - recall/ng: 0.9492\n",
      "/data/aoi-wzs-p1-dip-fa-nvidia/label_heatsink_screw/trained_h5/relabeled_vgg_with_tfrecords_r50/b-VGG16_lr-5_op-adam_adv-True_ss-0.13908408671512942/final \n",
      " {'loss': 0.15438681840896606, 'acc': 0.9413369297981262, 'precision/ok': 0.4348859190940857, 'precision/ng': 0.9887800812721252, 'recall/ok': 0.7840616703033447, 'recall/ng': 0.9491814970970154}\n",
      "48/48 [==============================] - 16s 335ms/step - loss: 0.0870 - acc: 0.9720 - precision/ok: 0.6688 - precision/ng: 0.9906 - recall/ok: 0.8132 - recall/ng: 0.9799\n",
      "/data/aoi-wzs-p1-dip-fa-nvidia/label_heatsink_screw/trained_h5/relabeled_vgg_with_tfrecords_r50/b-VGG16_lr-4_op-adam_adv-True_ss-0.028735836100433766/final \n",
      " {'loss': 0.08699589222669601, 'acc': 0.9719915390014648, 'precision/ok': 0.6687808036804199, 'precision/ng': 0.9905810952186584, 'recall/ok': 0.8131962418556213, 'recall/ng': 0.9799119830131531}\n",
      "48/48 [==============================] - 18s 369ms/step - loss: 0.0567 - acc: 0.9781 - precision/ok: 0.7344 - precision/ng: 0.9922 - recall/ok: 0.8458 - recall/ng: 0.9847\n",
      "/data/aoi-wzs-p1-dip-fa-nvidia/label_heatsink_screw/trained_h5/relabeled_vgg_with_tfrecords_r50/b-VGG16_lr-4_op-adam_adv-True_ss-0.1242308770846525/final \n",
      " {'loss': 0.0566556416451931, 'acc': 0.9781387448310852, 'precision/ok': 0.734375, 'precision/ng': 0.9922480583190918, 'recall/ok': 0.8457583785057068, 'recall/ng': 0.9847416281700134}\n",
      "48/48 [==============================] - 18s 375ms/step - loss: 0.1582 - acc: 0.9196 - precision/ok: 0.3372 - precision/ng: 0.9850 - recall/ok: 0.7164 - recall/ng: 0.9298\n",
      "/data/aoi-wzs-p1-dip-fa-nvidia/label_heatsink_screw/trained_h5/relabeled_vgg_with_tfrecords_r50/b-VGG16_lr-5_op-adam_adv-True_ss-0.06327178630866939/final \n",
      " {'loss': 0.15824486315250397, 'acc': 0.9196385145187378, 'precision/ok': 0.337232768535614, 'precision/ng': 0.9850124716758728, 'recall/ok': 0.7163667678833008, 'recall/ng': 0.9297773241996765}\n",
      "48/48 [==============================] - 18s 377ms/step - loss: 0.2531 - acc: 0.9402 - precision/ok: 0.4230 - precision/ng: 0.9850 - recall/ok: 0.7104 - recall/ng: 0.9517\n",
      "/data/aoi-wzs-p1-dip-fa-nvidia/label_heatsink_screw/trained_h5/relabeled_vgg_with_tfrecords_r50/b-VGG16_lr-4_op-adam_adv-True_ss-0.04453898282858507/final \n",
      " {'loss': 0.2531172037124634, 'acc': 0.9401970505714417, 'precision/ok': 0.42295917868614197, 'precision/ng': 0.985046923160553, 'recall/ok': 0.7103684544563293, 'recall/ng': 0.9516604542732239}\n",
      "48/48 [==============================] - 17s 360ms/step - loss: 0.0797 - acc: 0.9829 - precision/ok: 0.8238 - precision/ng: 0.9907 - recall/ok: 0.8132 - recall/ng: 0.9913\n",
      "/data/aoi-wzs-p1-dip-fa-nvidia/label_heatsink_screw/trained_h5/relabeled_vgg_with_tfrecords_r50/b-VGG16_lr-4_op-adam_adv-True_ss-0.043856799048891434/final \n",
      " {'loss': 0.079693503677845, 'acc': 0.9828611016273499, 'precision/ok': 0.8237847089767456, 'precision/ng': 0.9906885623931885, 'recall/ok': 0.8131962418556213, 'recall/ng': 0.9913236498832703}\n",
      "48/48 [==============================] - 18s 375ms/step - loss: 0.5455 - acc: 0.9286 - precision/ok: 0.3414 - precision/ng: 0.9764 - recall/ok: 0.5416 - recall/ng: 0.9479\n",
      "/data/aoi-wzs-p1-dip-fa-nvidia/label_heatsink_screw/trained_h5/relabeled_vgg_with_tfrecords_r50/b-VGG16_lr-3_op-adam_adv-True_ss-0.08318518414252896/final \n",
      " {'loss': 0.5455113053321838, 'acc': 0.928594708442688, 'precision/ok': 0.34143707156181335, 'precision/ng': 0.976445198059082, 'recall/ok': 0.5415595769882202, 'recall/ng': 0.9478992819786072}\n"
     ]
    },
    {
     "name": "stdout",
     "output_type": "stream",
     "text": [
      "48/48 [==============================] - 18s 379ms/step - loss: 0.0765 - acc: 0.9778 - precision/ok: 0.7349 - precision/ng: 0.9917 - recall/ok: 0.8338 - recall/ng: 0.9850\n",
      "/data/aoi-wzs-p1-dip-fa-nvidia/label_heatsink_screw/trained_h5/relabeled_vgg_with_tfrecords_r50/b-VGG16_lr-5_op-adam_adv-True_ss-0.0544650012577994/final \n",
      " {'loss': 0.07646826654672623, 'acc': 0.9778130650520325, 'precision/ok': 0.7348942756652832, 'precision/ng': 0.9916523098945618, 'recall/ok': 0.8337618112564087, 'recall/ng': 0.9849980473518372}\n"
     ]
    }
   ],
   "source": [
    "import glob\n",
    "rvw_pattern = '/data/aoi-wzs-p1-dip-fa-nvidia/label_heatsink_screw/trained_h5/relabeled_vgg_with_tfrecords_r50/*/final'\n",
    "rvw = glob.glob(rvw_pattern)\n",
    "\n",
    "for p in rvw:\n",
    "    loaded = tf.keras.models.load_model(p)\n",
    "    evaluate = loaded.evaluate(test_ds)\n",
    "    named_results = dict(zip(loaded.metrics_names, evaluate))\n",
    "    print(p, '\\n', named_results)"
   ]
  },
  {
   "cell_type": "markdown",
   "metadata": {},
   "source": [
    "#### ( dc0503_relabeled_trans_r50 )"
   ]
  },
  {
   "cell_type": "code",
   "execution_count": 9,
   "metadata": {},
   "outputs": [],
   "source": [
    "def parse_example(example_proto):    \n",
    "    image_feature_description = {\n",
    "        \"path\": tf.io.FixedLenFeature([], tf.string),\n",
    "        \"image\": tf.io.FixedLenFeature([], tf.string),\n",
    "        \"degree\": tf.io.FixedLenFeature([], tf.string),\n",
    "        \"label\": tf.io.FixedLenFeature([], tf.string),\n",
    "    }\n",
    "    features_in_example = tf.io.parse_single_example(example_proto, image_feature_description)\n",
    "    features = {\n",
    "        'image': parse_img(tf.io.read_file(features_in_example['path'])),\n",
    "        'degree': degree_to_onehot(features_in_example['degree']),\n",
    "    }\n",
    "    label = label_to_onehot(features_in_example['label'])\n",
    "    return features, label"
   ]
  },
  {
   "cell_type": "code",
   "execution_count": 10,
   "metadata": {},
   "outputs": [],
   "source": [
    "rotated_label = '/data/aoi-wzs-p1-dip-fa-nvidia/label_heatsink_screw/tfrecord/rotated_ok_label_relabeled_ori_included.tfrecord'\n",
    "rl_ds = tf.data.TFRecordDataset(rotated_label).map(parse_example, tf.data.experimental.AUTOTUNE).batch(all_var_dict['BATCH_SIZE'])\n"
   ]
  },
  {
   "cell_type": "code",
   "execution_count": 8,
   "metadata": {},
   "outputs": [
    {
     "name": "stderr",
     "output_type": "stream",
     "text": [
      "/usr/local/lib/python3.6/dist-packages/tensorflow/python/keras/engine/functional.py:543: UserWarning: Input dict contained keys ['label'] which did not match any model input. They will be ignored by the model.\n",
      "  [n for n in tensors.keys() if n not in ref_input_names])\n"
     ]
    },
    {
     "name": "stdout",
     "output_type": "stream",
     "text": [
      "17/17 [==============================] - 7s 433ms/step - loss: 0.1875 - acc: 0.9779 - precision/ok: 0.7308 - precision/ng: 0.9817 - recall/ok: 0.3831 - recall/ng: 0.9958\n",
      "17/17 [==============================] - 7s 406ms/step - loss: 0.2335 - acc: 0.9643 - precision/ok: 0.3840 - precision/ng: 0.9810 - recall/ok: 0.3669 - recall/ng: 0.9823\n",
      "17/17 [==============================] - 7s 438ms/step - loss: 0.1055 - acc: 0.9785 - precision/ok: 0.7686 - precision/ng: 0.9815 - recall/ok: 0.3750 - recall/ng: 0.9966\n",
      "17/17 [==============================] - 8s 457ms/step - loss: 0.1465 - acc: 0.9691 - precision/ok: 0.4638 - precision/ng: 0.9817 - recall/ok: 0.3871 - recall/ng: 0.9865\n",
      "17/17 [==============================] - 8s 457ms/step - loss: 0.1880 - acc: 0.9785 - precision/ok: 0.7642 - precision/ng: 0.9816 - recall/ok: 0.3790 - recall/ng: 0.9965\n",
      "17/17 [==============================] - 8s 457ms/step - loss: 0.2226 - acc: 0.9779 - precision/ok: 0.7459 - precision/ng: 0.9813 - recall/ok: 0.3669 - recall/ng: 0.9962\n",
      "17/17 [==============================] - 7s 416ms/step - loss: 0.5379 - acc: 0.9775 - precision/ok: 0.7938 - precision/ng: 0.9796 - recall/ok: 0.3105 - recall/ng: 0.9976\n",
      "17/17 [==============================] - 7s 437ms/step - loss: 0.6654 - acc: 0.7735 - precision/ok: 0.0908 - precision/ng: 0.9904 - recall/ok: 0.7500 - recall/ng: 0.7742\n",
      "17/17 [==============================] - 8s 480ms/step - loss: 0.1817 - acc: 0.9828 - precision/ok: 0.7865 - precision/ng: 0.9870 - recall/ok: 0.5645 - recall/ng: 0.9954\n",
      "17/17 [==============================] - 9s 523ms/step - loss: 0.1657 - acc: 0.9549 - precision/ok: 0.3434 - precision/ng: 0.9876 - recall/ok: 0.5968 - recall/ng: 0.9657\n",
      "17/17 [==============================] - 8s 457ms/step - loss: 0.1601 - acc: 0.9783 - precision/ok: 0.7581 - precision/ng: 0.9816 - recall/ok: 0.3790 - recall/ng: 0.9964\n",
      "17/17 [==============================] - 7s 397ms/step - loss: 0.1783 - acc: 0.9799 - precision/ok: 0.8889 - precision/ng: 0.9810 - recall/ok: 0.3548 - recall/ng: 0.9987\n"
     ]
    }
   ],
   "source": [
    "dc0503_h5_paths = [ \n",
    "    '/data/aoi-wzs-p1-dip-fa-nvidia/label_heatsink_screw/trained_h5/dc0503_relabeled_trans_r50/b-VGG16_lr-4_op-adam_adv-True_ss-0.054703700049706504/final',\n",
    "    '/data/aoi-wzs-p1-dip-fa-nvidia/label_heatsink_screw/trained_h5/dc0503_relabeled_trans_r50/b-VGG16_lr-4_op-adam_adv-True_ss-0.054703700049706504/ep_032-vl_0.003479-va_0.999625.h5',\n",
    "    '/data/aoi-wzs-p1-dip-fa-nvidia/label_heatsink_screw/trained_h5/dc0503_relabeled_trans_r50/b-VGG16_lr-4_op-adam_adv-True_ss-0.03082552306191831/final',\n",
    "    '/data/aoi-wzs-p1-dip-fa-nvidia/label_heatsink_screw/trained_h5/dc0503_relabeled_trans_r50/b-VGG16_lr-4_op-adam_adv-True_ss-0.03082552306191831/ep_021-vl_0.050832-va_0.990000.h5',\n",
    "    '/data/aoi-wzs-p1-dip-fa-nvidia/label_heatsink_screw/trained_h5/dc0503_relabeled_trans_r50/b-VGG16_lr-4_op-RMSprop_adv-True_ss-0.017734547736807525/final',\n",
    "    '/data/aoi-wzs-p1-dip-fa-nvidia/label_heatsink_screw/trained_h5/dc0503_relabeled_trans_r50/b-VGG16_lr-4_op-RMSprop_adv-True_ss-0.017734547736807525/ep_044-vl_0.004045-va_0.999750.h5',\n",
    "    '/data/aoi-wzs-p1-dip-fa-nvidia/label_heatsink_screw/trained_h5/dc0503_relabeled_trans_r50/b-VGG16_lr-3_op-adagrad_adv-True_ss-0.10239825411296267/final',\n",
    "    '/data/aoi-wzs-p1-dip-fa-nvidia/label_heatsink_screw/trained_h5/dc0503_relabeled_trans_r50/b-VGG16_lr-3_op-adagrad_adv-True_ss-0.10239825411296267/ep_091-vl_0.653964-va_0.836375.h5',\n",
    "    '/data/aoi-wzs-p1-dip-fa-nvidia/label_heatsink_screw/trained_h5/dc0503_relabeled_trans_r50/b-DenseNet121_lr-3_op-adam_adv-True_ss-0.06601277020265413/final',\n",
    "    '/data/aoi-wzs-p1-dip-fa-nvidia/label_heatsink_screw/trained_h5/dc0503_relabeled_trans_r50/b-DenseNet121_lr-3_op-adam_adv-True_ss-0.06601277020265413/ep_008-vl_0.677017-va_0.865000.h5',\n",
    "    '/data/aoi-wzs-p1-dip-fa-nvidia/label_heatsink_screw/trained_h5/dc0503_relabeled_trans_r50/b-VGG16_lr-4_op-adagrad_adv-True_ss-0.16983435348865475/final',\n",
    "    '/data/aoi-wzs-p1-dip-fa-nvidia/label_heatsink_screw/trained_h5/dc0503_relabeled_trans_r50/b-VGG16_lr-4_op-adagrad_adv-True_ss-0.16983435348865475/ep_039-vl_0.009054-va_1.000000.h5',\n",
    "]\n",
    "for e in map(tf.keras.models.load_model, dc0503_h5_paths):\n",
    "    e.evaluate(test_ds)"
   ]
  },
  {
   "cell_type": "code",
   "execution_count": 7,
   "metadata": {},
   "outputs": [
    {
     "name": "stderr",
     "output_type": "stream",
     "text": [
      "/usr/local/lib/python3.6/dist-packages/tensorflow/python/keras/engine/functional.py:543: UserWarning: Input dict contained keys ['label'] which did not match any model input. They will be ignored by the model.\n",
      "  [n for n in tensors.keys() if n not in ref_input_names])\n"
     ]
    },
    {
     "name": "stdout",
     "output_type": "stream",
     "text": [
      "17/17 [==============================] - 8s 483ms/step - loss: 0.7490 - acc: 0.0700 - precision/ok: 0.0303 - precision/ng: 0.9971 - recall/ok: 0.9960 - recall/ng: 0.0422\n",
      "/data/aoi-wzs-p1-dip-fa-nvidia/label_heatsink_screw/trained_h5/dc0503_relabeled_trans_r50/b-DenseNet121_lr-5_op-adagrad_adv-True_ss-0.10384481755287436/final \n",
      " {'loss': 0.748958945274353, 'acc': 0.07001647353172302, 'precision/ok': 0.03031046688556671, 'precision/ng': 0.9971346855163574, 'recall/ok': 0.9959677457809448, 'recall/ng': 0.042181819677352905}\n",
      "17/17 [==============================] - 7s 437ms/step - loss: 1.0232 - acc: 0.5450 - precision/ok: 0.0570 - precision/ng: 0.9966 - recall/ok: 0.9395 - recall/ng: 0.5331\n",
      "/data/aoi-wzs-p1-dip-fa-nvidia/label_heatsink_screw/trained_h5/dc0503_relabeled_trans_r50/b-DenseNet121_lr-3_op-RMSprop_adv-True_ss-0.18732260626976266/final \n",
      " {'loss': 1.0231965780258179, 'acc': 0.5449517369270325, 'precision/ok': 0.05703794211149216, 'precision/ng': 0.9966009259223938, 'recall/ok': 0.9395161271095276, 'recall/ng': 0.5330908894538879}\n",
      "17/17 [==============================] - 9s 521ms/step - loss: 0.6578 - acc: 0.9300 - precision/ok: 0.0029 - precision/ng: 0.9697 - recall/ok: 0.0040 - recall/ng: 0.9578\n",
      "/data/aoi-wzs-p1-dip-fa-nvidia/label_heatsink_screw/trained_h5/dc0503_relabeled_trans_r50/b-DenseNet121_lr-5_op-adagrad_adv-True_ss-0.11347821450766174/final \n",
      " {'loss': 0.6578002572059631, 'acc': 0.9299834966659546, 'precision/ok': 0.0028653296176344156, 'precision/ng': 0.9696895480155945, 'recall/ok': 0.004032257944345474, 'recall/ng': 0.9578182101249695}\n",
      "17/17 [==============================] - 9s 535ms/step - loss: 0.7565 - acc: 0.0700 - precision/ok: 0.0303 - precision/ng: 0.9971 - recall/ok: 0.9960 - recall/ng: 0.0422\n",
      "/data/aoi-wzs-p1-dip-fa-nvidia/label_heatsink_screw/trained_h5/dc0503_relabeled_trans_r50/b-DenseNet121_lr-4_op-adam_adv-True_ss-0.021748840930807298/final \n",
      " {'loss': 0.7564793229103088, 'acc': 0.07001647353172302, 'precision/ok': 0.03031046688556671, 'precision/ng': 0.9971346855163574, 'recall/ok': 0.9959677457809448, 'recall/ng': 0.042181819677352905}\n",
      "17/17 [==============================] - 7s 427ms/step - loss: 0.2237 - acc: 0.9316 - precision/ok: 0.2248 - precision/ng: 0.9858 - recall/ok: 0.5484 - recall/ng: 0.9432\n",
      "/data/aoi-wzs-p1-dip-fa-nvidia/label_heatsink_screw/trained_h5/dc0503_relabeled_trans_r50/b-VGG16_lr-5_op-adagrad_adv-True_ss-0.020589881353391855/final \n",
      " {'loss': 0.22369256615638733, 'acc': 0.9316309690475464, 'precision/ok': 0.22479338943958282, 'precision/ng': 0.9858102202415466, 'recall/ok': 0.5483871102333069, 'recall/ng': 0.9431515336036682}\n",
      "17/17 [==============================] - 7s 409ms/step - loss: 0.3265 - acc: 0.9354 - precision/ok: 0.2674 - precision/ng: 0.9904 - recall/ok: 0.6976 - recall/ng: 0.9425\n",
      "/data/aoi-wzs-p1-dip-fa-nvidia/label_heatsink_screw/trained_h5/dc0503_relabeled_trans_r50/b-VGG16_lr-4_op-adagrad_adv-True_ss-0.055751628378473604/final \n",
      " {'loss': 0.32652783393859863, 'acc': 0.9353965520858765, 'precision/ok': 0.2673879563808441, 'precision/ng': 0.9904471039772034, 'recall/ok': 0.6975806355476379, 'recall/ng': 0.942545473575592}\n",
      "17/17 [==============================] - 9s 523ms/step - loss: 0.1761 - acc: 0.9776 - precision/ok: 0.6480 - precision/ng: 0.9854 - recall/ok: 0.5121 - recall/ng: 0.9916\n",
      "/data/aoi-wzs-p1-dip-fa-nvidia/label_heatsink_screw/trained_h5/dc0503_relabeled_trans_r50/b-VGG16_lr-4_op-adagrad_adv-True_ss-0.14932164783219112/final \n",
      " {'loss': 0.17605844140052795, 'acc': 0.9776418209075928, 'precision/ok': 0.6479591727256775, 'precision/ng': 0.9854251742362976, 'recall/ok': 0.5120967626571655, 'recall/ng': 0.991636335849762}\n",
      "17/17 [==============================] - 8s 450ms/step - loss: 1.8832 - acc: 0.0700 - precision/ok: 0.0303 - precision/ng: 0.9971 - recall/ok: 0.9960 - recall/ng: 0.0422\n",
      "/data/aoi-wzs-p1-dip-fa-nvidia/label_heatsink_screw/trained_h5/dc0503_relabeled_trans_r50/b-DenseNet121_lr-5_op-RMSprop_adv-True_ss-0.1296153570130455/final \n",
      " {'loss': 1.883156180381775, 'acc': 0.07001647353172302, 'precision/ok': 0.03031046688556671, 'precision/ng': 0.9971346855163574, 'recall/ok': 0.9959677457809448, 'recall/ng': 0.042181819677352905}\n",
      "17/17 [==============================] - 8s 444ms/step - loss: 0.1955 - acc: 0.9726 - precision/ok: 0.5401 - precision/ng: 0.9823 - recall/ok: 0.4073 - recall/ng: 0.9896\n",
      "/data/aoi-wzs-p1-dip-fa-nvidia/label_heatsink_screw/trained_h5/dc0503_relabeled_trans_r50/b-VGG16_lr-4_op-adagrad_adv-True_ss-0.18746058081874709/final \n",
      " {'loss': 0.19551602005958557, 'acc': 0.9725818037986755, 'precision/ok': 0.5401069521903992, 'precision/ng': 0.9823126196861267, 'recall/ok': 0.4072580635547638, 'recall/ng': 0.9895757436752319}\n",
      "17/17 [==============================] - 10s 568ms/step - loss: 1.5833 - acc: 0.3936 - precision/ok: 0.0446 - precision/ng: 0.9974 - recall/ok: 0.9677 - recall/ng: 0.3764\n",
      "/data/aoi-wzs-p1-dip-fa-nvidia/label_heatsink_screw/trained_h5/dc0503_relabeled_trans_r50/b-DenseNet121_lr-3_op-RMSprop_adv-True_ss-0.1464734850292706/final \n",
      " {'loss': 1.5833415985107422, 'acc': 0.3936220407485962, 'precision/ok': 0.044568244367837906, 'precision/ng': 0.997430145740509, 'recall/ok': 0.9677419066429138, 'recall/ng': 0.3763636350631714}\n",
      "17/17 [==============================] - 7s 403ms/step - loss: 0.7582 - acc: 0.0289 - precision/ok: 0.0290 - precision/ng: 0.0000e+00 - recall/ok: 0.9919 - recall/ng: 0.0000e+00\n",
      "/data/aoi-wzs-p1-dip-fa-nvidia/label_heatsink_screw/trained_h5/dc0503_relabeled_trans_r50/b-DenseNet121_lr-4_op-adagrad_adv-True_ss-0.09519239616743842/final \n",
      " {'loss': 0.7582498788833618, 'acc': 0.028947988525032997, 'precision/ok': 0.028954802080988884, 'precision/ng': 0.0, 'recall/ok': 0.9919354915618896, 'recall/ng': 0.0}\n",
      "17/17 [==============================] - 8s 445ms/step - loss: 0.4769 - acc: 0.7358 - precision/ok: 0.0568 - precision/ng: 0.9808 - recall/ok: 0.5161 - recall/ng: 0.7424\n",
      "/data/aoi-wzs-p1-dip-fa-nvidia/label_heatsink_screw/trained_h5/dc0503_relabeled_trans_r50/b-VGG16_lr-5_op-adagrad_adv-True_ss-0.121446299441966/final \n",
      " {'loss': 0.47686874866485596, 'acc': 0.7358201742172241, 'precision/ok': 0.05681313946843147, 'precision/ng': 0.9807846546173096, 'recall/ok': 0.5161290168762207, 'recall/ng': 0.7424242496490479}\n",
      "17/17 [==============================] - 7s 422ms/step - loss: 0.6596 - acc: 0.9300 - precision/ok: 0.0029 - precision/ng: 0.9697 - recall/ok: 0.0040 - recall/ng: 0.9578\n",
      "/data/aoi-wzs-p1-dip-fa-nvidia/label_heatsink_screw/trained_h5/dc0503_relabeled_trans_r50/b-DenseNet121_lr-4_op-RMSprop_adv-True_ss-0.18339908648019035/final \n",
      " {'loss': 0.6596232056617737, 'acc': 0.9299834966659546, 'precision/ok': 0.0028653296176344156, 'precision/ng': 0.9696895480155945, 'recall/ok': 0.004032257944345474, 'recall/ng': 0.9578182101249695}\n",
      "17/17 [==============================] - 8s 461ms/step - loss: 0.7169 - acc: 0.6198 - precision/ok: 0.0673 - precision/ng: 0.9968 - recall/ok: 0.9355 - recall/ng: 0.6103\n",
      "/data/aoi-wzs-p1-dip-fa-nvidia/label_heatsink_screw/trained_h5/dc0503_relabeled_trans_r50/b-VGG16_lr-3_op-RMSprop_adv-True_ss-0.04848650521237884/final \n",
      " {'loss': 0.7168753743171692, 'acc': 0.6197928786277771, 'precision/ok': 0.06730490177869797, 'precision/ng': 0.9968323111534119, 'recall/ok': 0.9354838728904724, 'recall/ng': 0.6103030443191528}\n",
      "17/17 [==============================] - 8s 452ms/step - loss: 0.9587 - acc: 0.8753 - precision/ok: 0.1494 - precision/ng: 0.9898 - recall/ok: 0.6976 - recall/ng: 0.8806\n",
      "/data/aoi-wzs-p1-dip-fa-nvidia/label_heatsink_screw/trained_h5/dc0503_relabeled_trans_r50/b-VGG16_lr-4_op-adagrad_adv-True_ss-0.1285223422838402/final \n",
      " {'loss': 0.9587116837501526, 'acc': 0.8752647638320923, 'precision/ok': 0.14939551055431366, 'precision/ng': 0.9897820353507996, 'recall/ok': 0.6975806355476379, 'recall/ng': 0.8806060552597046}\n",
      "17/17 [==============================] - 7s 421ms/step - loss: 1.3222 - acc: 0.5945 - precision/ok: 0.0389 - precision/ng: 0.9775 - recall/ok: 0.5444 - recall/ng: 0.5960\n",
      "/data/aoi-wzs-p1-dip-fa-nvidia/label_heatsink_screw/trained_h5/dc0503_relabeled_trans_r50/b-VGG16_lr-4_op-RMSprop_adv-True_ss-0.03861726092904268/final \n",
      " {'loss': 1.3222033977508545, 'acc': 0.5944927930831909, 'precision/ok': 0.038927335292100906, 'precision/ng': 0.9775347709655762, 'recall/ok': 0.5443548560142517, 'recall/ng': 0.5960000157356262}\n"
     ]
    },
    {
     "name": "stdout",
     "output_type": "stream",
     "text": [
      "17/17 [==============================] - 6s 360ms/step - loss: 0.1875 - acc: 0.9779 - precision/ok: 0.7308 - precision/ng: 0.9817 - recall/ok: 0.3831 - recall/ng: 0.9958\n",
      "/data/aoi-wzs-p1-dip-fa-nvidia/label_heatsink_screw/trained_h5/dc0503_relabeled_trans_r50/b-VGG16_lr-4_op-adam_adv-True_ss-0.054703700049706504/final \n",
      " {'loss': 0.18751294910907745, 'acc': 0.977877140045166, 'precision/ok': 0.7307692170143127, 'precision/ng': 0.9817160367965698, 'recall/ok': 0.38306450843811035, 'recall/ng': 0.9957575798034668}\n",
      "17/17 [==============================] - 8s 444ms/step - loss: 1.2271 - acc: 0.6339 - precision/ok: 0.0425 - precision/ng: 0.9786 - recall/ok: 0.5363 - recall/ng: 0.6368\n",
      "/data/aoi-wzs-p1-dip-fa-nvidia/label_heatsink_screw/trained_h5/dc0503_relabeled_trans_r50/b-VGG16_lr-4_op-adam_adv-True_ss-0.02775773464448429/final \n",
      " {'loss': 1.2271252870559692, 'acc': 0.6339138746261597, 'precision/ok': 0.04250559210777283, 'precision/ng': 0.9785807132720947, 'recall/ok': 0.5362903475761414, 'recall/ng': 0.636848509311676}\n",
      "17/17 [==============================] - 7s 434ms/step - loss: 0.1055 - acc: 0.9785 - precision/ok: 0.7686 - precision/ng: 0.9815 - recall/ok: 0.3750 - recall/ng: 0.9966\n",
      "/data/aoi-wzs-p1-dip-fa-nvidia/label_heatsink_screw/trained_h5/dc0503_relabeled_trans_r50/b-VGG16_lr-4_op-adam_adv-True_ss-0.03082552306191831/final \n",
      " {'loss': 0.10547303408384323, 'acc': 0.9784654974937439, 'precision/ok': 0.7685950398445129, 'precision/ng': 0.9814969301223755, 'recall/ok': 0.375, 'recall/ng': 0.9966060519218445}\n",
      "17/17 [==============================] - 8s 483ms/step - loss: 0.5445 - acc: 0.9273 - precision/ok: 0.2402 - precision/ng: 0.9901 - recall/ok: 0.6895 - recall/ng: 0.9344\n",
      "/data/aoi-wzs-p1-dip-fa-nvidia/label_heatsink_screw/trained_h5/dc0503_relabeled_trans_r50/b-VGG16_lr-5_op-adagrad_adv-True_ss-0.1400231670236497/final \n",
      " {'loss': 0.5444577932357788, 'acc': 0.9272770285606384, 'precision/ok': 0.24016854166984558, 'precision/ng': 0.990110456943512, 'recall/ok': 0.6895161271095276, 'recall/ng': 0.9344242215156555}\n",
      "17/17 [==============================] - 7s 402ms/step - loss: 0.9316 - acc: 0.3776 - precision/ok: 0.0445 - precision/ng: 0.9993 - recall/ok: 0.9919 - recall/ng: 0.3592\n",
      "/data/aoi-wzs-p1-dip-fa-nvidia/label_heatsink_screw/trained_h5/dc0503_relabeled_trans_r50/b-DenseNet121_lr-3_op-RMSprop_adv-True_ss-0.05279539708772849/final \n",
      " {'loss': 0.9315580129623413, 'acc': 0.3776182532310486, 'precision/ok': 0.04446050897240639, 'precision/ng': 0.9993254542350769, 'recall/ok': 0.9919354915618896, 'recall/ng': 0.3591515123844147}\n",
      "17/17 [==============================] - 7s 405ms/step - loss: 0.3617 - acc: 0.7918 - precision/ok: 0.0782 - precision/ng: 0.9840 - recall/ok: 0.5685 - recall/ng: 0.7985\n",
      "/data/aoi-wzs-p1-dip-fa-nvidia/label_heatsink_screw/trained_h5/dc0503_relabeled_trans_r50/b-VGG16_lr-4_op-RMSprop_adv-True_ss-0.12638053123099957/final \n",
      " {'loss': 0.3617260754108429, 'acc': 0.7918334007263184, 'precision/ok': 0.0782029926776886, 'precision/ng': 0.9840179085731506, 'recall/ok': 0.5685483813285828, 'recall/ng': 0.7985454797744751}\n",
      "17/17 [==============================] - 7s 421ms/step - loss: 0.6164 - acc: 0.9212 - precision/ok: 0.1968 - precision/ng: 0.9858 - recall/ok: 0.5524 - recall/ng: 0.9322\n",
      "/data/aoi-wzs-p1-dip-fa-nvidia/label_heatsink_screw/trained_h5/dc0503_relabeled_trans_r50/b-VGG16_lr-5_op-adagrad_adv-True_ss-0.09972775868735935/final \n",
      " {'loss': 0.6163800358772278, 'acc': 0.9211578965187073, 'precision/ok': 0.1968390792608261, 'precision/ng': 0.9857729077339172, 'recall/ok': 0.5524193644523621, 'recall/ng': 0.9322424530982971}\n",
      "17/17 [==============================] - 7s 412ms/step - loss: 0.7364 - acc: 0.0292 - precision/ok: 0.0292 - precision/ng: 0.0000e+00 - recall/ok: 1.0000 - recall/ng: 0.0000e+00\n",
      "/data/aoi-wzs-p1-dip-fa-nvidia/label_heatsink_screw/trained_h5/dc0503_relabeled_trans_r50/b-DenseNet121_lr-5_op-RMSprop_adv-True_ss-0.16296428902351132/final \n",
      " {'loss': 0.7363902926445007, 'acc': 0.029183337464928627, 'precision/ok': 0.029183337464928627, 'precision/ng': 0.0, 'recall/ok': 1.0, 'recall/ng': 0.0}\n",
      "17/17 [==============================] - 7s 399ms/step - loss: 0.5019 - acc: 0.8136 - precision/ok: 0.0902 - precision/ng: 0.9853 - recall/ok: 0.5927 - recall/ng: 0.8202\n",
      "/data/aoi-wzs-p1-dip-fa-nvidia/label_heatsink_screw/trained_h5/dc0503_relabeled_trans_r50/b-VGG16_lr-4_op-RMSprop_adv-True_ss-0.025773760620283893/final \n",
      " {'loss': 0.5019171237945557, 'acc': 0.8136032223701477, 'precision/ok': 0.0901840478181839, 'precision/ng': 0.9852941036224365, 'recall/ok': 0.5927419066429138, 'recall/ng': 0.8202424049377441}\n",
      "17/17 [==============================] - 7s 390ms/step - loss: 0.3182 - acc: 0.8463 - precision/ok: 0.0815 - precision/ng: 0.9800 - recall/ok: 0.4153 - recall/ng: 0.8593\n",
      "/data/aoi-wzs-p1-dip-fa-nvidia/label_heatsink_screw/trained_h5/dc0503_relabeled_trans_r50/b-VGG16_lr-4_op-adagrad_adv-True_ss-0.02129802033593048/final \n",
      " {'loss': 0.31818443536758423, 'acc': 0.8463167548179626, 'precision/ok': 0.08148734271526337, 'precision/ng': 0.979955792427063, 'recall/ok': 0.41532257199287415, 'recall/ng': 0.8592727184295654}\n",
      "17/17 [==============================] - 7s 433ms/step - loss: 0.7311 - acc: 0.0292 - precision/ok: 0.0292 - precision/ng: 0.0000e+00 - recall/ok: 1.0000 - recall/ng: 0.0000e+00\n",
      "/data/aoi-wzs-p1-dip-fa-nvidia/label_heatsink_screw/trained_h5/dc0503_relabeled_trans_r50/b-DenseNet121_lr-5_op-RMSprop_adv-True_ss-0.09235167540911715/final \n",
      " {'loss': 0.7310582995414734, 'acc': 0.029183337464928627, 'precision/ok': 0.029183337464928627, 'precision/ng': 0.0, 'recall/ok': 1.0, 'recall/ng': 0.0}\n",
      "17/17 [==============================] - 7s 386ms/step - loss: 0.6450 - acc: 0.9254 - precision/ok: 0.2312 - precision/ng: 0.9895 - recall/ok: 0.6694 - recall/ng: 0.9331\n",
      "/data/aoi-wzs-p1-dip-fa-nvidia/label_heatsink_screw/trained_h5/dc0503_relabeled_trans_r50/b-VGG16_lr-5_op-adam_adv-True_ss-0.0369425221783874/final \n",
      " {'loss': 0.6449701189994812, 'acc': 0.9253942370414734, 'precision/ok': 0.2311977744102478, 'precision/ng': 0.9894601702690125, 'recall/ok': 0.6693548560142517, 'recall/ng': 0.9330909252166748}\n",
      "17/17 [==============================] - 7s 422ms/step - loss: 1.0970 - acc: 0.6886 - precision/ok: 0.0819 - precision/ng: 0.9977 - recall/ok: 0.9476 - recall/ng: 0.6808\n",
      "/data/aoi-wzs-p1-dip-fa-nvidia/label_heatsink_screw/trained_h5/dc0503_relabeled_trans_r50/b-DenseNet121_lr-3_op-RMSprop_adv-True_ss-0.123759274315731/final \n",
      " {'loss': 1.0970449447631836, 'acc': 0.688632607460022, 'precision/ok': 0.08193863183259964, 'precision/ng': 0.9976909160614014, 'recall/ok': 0.9475806355476379, 'recall/ng': 0.6808484792709351}\n",
      "17/17 [==============================] - 7s 416ms/step - loss: 0.1156 - acc: 0.9707 - precision/ok: 0.4986 - precision/ng: 0.9908 - recall/ok: 0.6976 - recall/ng: 0.9789\n",
      "/data/aoi-wzs-p1-dip-fa-nvidia/label_heatsink_screw/trained_h5/dc0503_relabeled_trans_r50/b-VGG16_lr-3_op-adam_adv-True_ss-0.08645519584745123/final \n",
      " {'loss': 0.11556391417980194, 'acc': 0.9706990122795105, 'precision/ok': 0.4985590875148773, 'precision/ng': 0.9907986521720886, 'recall/ok': 0.6975806355476379, 'recall/ng': 0.9789090752601624}\n",
      "17/17 [==============================] - 7s 403ms/step - loss: 0.8916 - acc: 0.0700 - precision/ok: 0.0303 - precision/ng: 0.9971 - recall/ok: 0.9960 - recall/ng: 0.0422\n",
      "/data/aoi-wzs-p1-dip-fa-nvidia/label_heatsink_screw/trained_h5/dc0503_relabeled_trans_r50/b-DenseNet121_lr-4_op-adam_adv-True_ss-0.14054959574962464/final \n",
      " {'loss': 0.8915539383888245, 'acc': 0.07001647353172302, 'precision/ok': 0.03031046688556671, 'precision/ng': 0.9971346855163574, 'recall/ok': 0.9959677457809448, 'recall/ng': 0.042181819677352905}\n",
      "17/17 [==============================] - 7s 434ms/step - loss: 0.1880 - acc: 0.9785 - precision/ok: 0.7642 - precision/ng: 0.9816 - recall/ok: 0.3790 - recall/ng: 0.9965\n",
      "/data/aoi-wzs-p1-dip-fa-nvidia/label_heatsink_screw/trained_h5/dc0503_relabeled_trans_r50/b-VGG16_lr-4_op-RMSprop_adv-True_ss-0.017734547736807525/final \n",
      " {'loss': 0.1879696100950241, 'acc': 0.9784654974937439, 'precision/ok': 0.7642276287078857, 'precision/ng': 0.981611967086792, 'recall/ok': 0.3790322542190552, 'recall/ng': 0.9964848756790161}\n"
     ]
    },
    {
     "name": "stdout",
     "output_type": "stream",
     "text": [
      "17/17 [==============================] - 7s 428ms/step - loss: 1.0456 - acc: 0.6247 - precision/ok: 0.0403 - precision/ng: 0.9775 - recall/ok: 0.5202 - recall/ng: 0.6279\n",
      "/data/aoi-wzs-p1-dip-fa-nvidia/label_heatsink_screw/trained_h5/dc0503_relabeled_trans_r50/b-VGG16_lr-5_op-RMSprop_adv-True_ss-0.04511465105226098/final \n",
      " {'loss': 1.045570969581604, 'acc': 0.6247352361679077, 'precision/ok': 0.0403251014649868, 'precision/ng': 0.9775429368019104, 'recall/ok': 0.5201612710952759, 'recall/ng': 0.6278787851333618}\n",
      "17/17 [==============================] - 7s 415ms/step - loss: 0.1313 - acc: 0.9767 - precision/ok: 0.6838 - precision/ng: 0.9815 - recall/ok: 0.3750 - recall/ng: 0.9948\n",
      "/data/aoi-wzs-p1-dip-fa-nvidia/label_heatsink_screw/trained_h5/dc0503_relabeled_trans_r50/b-VGG16_lr-4_op-RMSprop_adv-True_ss-0.11923058234892084/final \n",
      " {'loss': 0.13131672143936157, 'acc': 0.9767004251480103, 'precision/ok': 0.6838235259056091, 'precision/ng': 0.9814637899398804, 'recall/ok': 0.375, 'recall/ng': 0.994787871837616}\n",
      "17/17 [==============================] - 7s 415ms/step - loss: 0.5379 - acc: 0.9775 - precision/ok: 0.7938 - precision/ng: 0.9796 - recall/ok: 0.3105 - recall/ng: 0.9976\n",
      "/data/aoi-wzs-p1-dip-fa-nvidia/label_heatsink_screw/trained_h5/dc0503_relabeled_trans_r50/b-VGG16_lr-3_op-adagrad_adv-True_ss-0.10239825411296267/final \n",
      " {'loss': 0.5379306077957153, 'acc': 0.9775241017341614, 'precision/ok': 0.7938144207000732, 'precision/ng': 0.9796452522277832, 'recall/ok': 0.3104838728904724, 'recall/ng': 0.9975757598876953}\n",
      "17/17 [==============================] - 7s 440ms/step - loss: 1.2735 - acc: 0.0700 - precision/ok: 0.0303 - precision/ng: 0.9971 - recall/ok: 0.9960 - recall/ng: 0.0422\n",
      "/data/aoi-wzs-p1-dip-fa-nvidia/label_heatsink_screw/trained_h5/dc0503_relabeled_trans_r50/b-DenseNet121_lr-4_op-adagrad_adv-True_ss-0.07707283612626917/final \n",
      " {'loss': 1.2734750509262085, 'acc': 0.07001647353172302, 'precision/ok': 0.03031046688556671, 'precision/ng': 0.9971346855163574, 'recall/ok': 0.9959677457809448, 'recall/ng': 0.042181819677352905}\n",
      "17/17 [==============================] - 8s 458ms/step - loss: 0.1665 - acc: 0.9708 - precision/ok: 0.5000 - precision/ng: 0.9823 - recall/ok: 0.4073 - recall/ng: 0.9878\n",
      "/data/aoi-wzs-p1-dip-fa-nvidia/label_heatsink_screw/trained_h5/dc0503_relabeled_trans_r50/b-VGG16_lr-4_op-adam_adv-True_ss-0.06694005561291175/final \n",
      " {'loss': 0.16648106276988983, 'acc': 0.9708166718482971, 'precision/ok': 0.5, 'precision/ng': 0.9822806119918823, 'recall/ok': 0.4072580635547638, 'recall/ng': 0.9877575635910034}\n",
      "17/17 [==============================] - 8s 484ms/step - loss: 0.9229 - acc: 0.0292 - precision/ok: 0.0292 - precision/ng: 0.0000e+00 - recall/ok: 1.0000 - recall/ng: 0.0000e+00\n",
      "/data/aoi-wzs-p1-dip-fa-nvidia/label_heatsink_screw/trained_h5/dc0503_relabeled_trans_r50/b-DenseNet121_lr-4_op-adagrad_adv-True_ss-0.06710806302494252/final \n",
      " {'loss': 0.9228968620300293, 'acc': 0.029183337464928627, 'precision/ok': 0.029183337464928627, 'precision/ng': 0.0, 'recall/ok': 1.0, 'recall/ng': 0.0}\n",
      "17/17 [==============================] - 7s 423ms/step - loss: 0.6957 - acc: 0.4387 - precision/ok: 0.0465 - precision/ng: 0.9954 - recall/ok: 0.9355 - recall/ng: 0.4238\n",
      "/data/aoi-wzs-p1-dip-fa-nvidia/label_heatsink_screw/trained_h5/dc0503_relabeled_trans_r50/b-DenseNet121_lr-5_op-adam_adv-True_ss-0.17371436517979957/final \n",
      " {'loss': 0.6956536173820496, 'acc': 0.43869146704673767, 'precision/ok': 0.046530283987522125, 'precision/ng': 0.9954441785812378, 'recall/ok': 0.9354838728904724, 'recall/ng': 0.4237575829029083}\n",
      "17/17 [==============================] - 7s 425ms/step - loss: 0.1817 - acc: 0.9828 - precision/ok: 0.7865 - precision/ng: 0.9870 - recall/ok: 0.5645 - recall/ng: 0.9954\n",
      "/data/aoi-wzs-p1-dip-fa-nvidia/label_heatsink_screw/trained_h5/dc0503_relabeled_trans_r50/b-DenseNet121_lr-3_op-adam_adv-True_ss-0.06601277020265413/final \n",
      " {'loss': 0.1817329376935959, 'acc': 0.9828194975852966, 'precision/ok': 0.7865168452262878, 'precision/ng': 0.9870192408561707, 'recall/ok': 0.5645161271095276, 'recall/ng': 0.9953939318656921}\n",
      "17/17 [==============================] - 6s 335ms/step - loss: 0.4416 - acc: 0.9235 - precision/ok: 0.1982 - precision/ng: 0.9852 - recall/ok: 0.5323 - recall/ng: 0.9353\n",
      "/data/aoi-wzs-p1-dip-fa-nvidia/label_heatsink_screw/trained_h5/dc0503_relabeled_trans_r50/b-VGG16_lr-5_op-adam_adv-True_ss-0.021105368347006187/final \n",
      " {'loss': 0.44159576296806335, 'acc': 0.9235113859176636, 'precision/ok': 0.19819819927215576, 'precision/ng': 0.9851889610290527, 'recall/ok': 0.5322580933570862, 'recall/ng': 0.935272753238678}\n",
      "17/17 [==============================] - 8s 476ms/step - loss: 0.9787 - acc: 0.7890 - precision/ok: 0.0715 - precision/ng: 0.9822 - recall/ok: 0.5202 - recall/ng: 0.7971\n",
      "/data/aoi-wzs-p1-dip-fa-nvidia/label_heatsink_screw/trained_h5/dc0503_relabeled_trans_r50/b-VGG16_lr-4_op-adam_adv-True_ss-0.06530212989875502/final \n",
      " {'loss': 0.9786875247955322, 'acc': 0.789009153842926, 'precision/ok': 0.07154741883277893, 'precision/ng': 0.9822255373001099, 'recall/ok': 0.5201612710952759, 'recall/ng': 0.7970908880233765}\n",
      "17/17 [==============================] - 7s 396ms/step - loss: 0.4543 - acc: 0.7960 - precision/ok: 0.0614 - precision/ng: 0.9788 - recall/ok: 0.4194 - recall/ng: 0.8073\n",
      "/data/aoi-wzs-p1-dip-fa-nvidia/label_heatsink_screw/trained_h5/dc0503_relabeled_trans_r50/b-VGG16_lr-3_op-adagrad_adv-True_ss-0.0669885637332582/final \n",
      " {'loss': 0.4542683959007263, 'acc': 0.7959519624710083, 'precision/ok': 0.06139315292239189, 'precision/ng': 0.9788359999656677, 'recall/ok': 0.4193548262119293, 'recall/ng': 0.807272732257843}\n",
      "17/17 [==============================] - 6s 374ms/step - loss: 1.4652 - acc: 0.0700 - precision/ok: 0.0303 - precision/ng: 0.9971 - recall/ok: 0.9960 - recall/ng: 0.0422\n",
      "/data/aoi-wzs-p1-dip-fa-nvidia/label_heatsink_screw/trained_h5/dc0503_relabeled_trans_r50/b-DenseNet121_lr-5_op-RMSprop_adv-True_ss-0.12762845531988243/final \n",
      " {'loss': 1.4652475118637085, 'acc': 0.07001647353172302, 'precision/ok': 0.03031046688556671, 'precision/ng': 0.9971346855163574, 'recall/ok': 0.9959677457809448, 'recall/ng': 0.042181819677352905}\n",
      "17/17 [==============================] - 8s 459ms/step - loss: 1.5579 - acc: 0.0292 - precision/ok: 0.0292 - precision/ng: 0.0000e+00 - recall/ok: 1.0000 - recall/ng: 0.0000e+00\n",
      "/data/aoi-wzs-p1-dip-fa-nvidia/label_heatsink_screw/trained_h5/dc0503_relabeled_trans_r50/b-DenseNet121_lr-5_op-adam_adv-True_ss-0.01464119595059522/final \n",
      " {'loss': 1.5578737258911133, 'acc': 0.029183337464928627, 'precision/ok': 0.029183337464928627, 'precision/ng': 0.0, 'recall/ok': 1.0, 'recall/ng': 0.0}\n",
      "17/17 [==============================] - 7s 383ms/step - loss: 0.1601 - acc: 0.9783 - precision/ok: 0.7581 - precision/ng: 0.9816 - recall/ok: 0.3790 - recall/ng: 0.9964\n",
      "/data/aoi-wzs-p1-dip-fa-nvidia/label_heatsink_screw/trained_h5/dc0503_relabeled_trans_r50/b-VGG16_lr-4_op-adagrad_adv-True_ss-0.16983435348865475/final \n",
      " {'loss': 0.16012705862522125, 'acc': 0.9783478379249573, 'precision/ok': 0.7580645084381104, 'precision/ng': 0.9816097617149353, 'recall/ok': 0.3790322542190552, 'recall/ng': 0.996363639831543}\n",
      "17/17 [==============================] - 7s 428ms/step - loss: 0.6841 - acc: 0.9300 - precision/ok: 0.0029 - precision/ng: 0.9697 - recall/ok: 0.0040 - recall/ng: 0.9578\n",
      "/data/aoi-wzs-p1-dip-fa-nvidia/label_heatsink_screw/trained_h5/dc0503_relabeled_trans_r50/b-VGG16_lr-3_op-adagrad_adv-True_ss-0.16712907047654796/final \n",
      " {'loss': 0.684051513671875, 'acc': 0.9299834966659546, 'precision/ok': 0.0028653296176344156, 'precision/ng': 0.9696895480155945, 'recall/ok': 0.004032257944345474, 'recall/ng': 0.9578182101249695}\n",
      "17/17 [==============================] - 7s 423ms/step - loss: 0.6972 - acc: 0.7236 - precision/ok: 0.0569 - precision/ng: 0.9816 - recall/ok: 0.5444 - recall/ng: 0.7290\n",
      "/data/aoi-wzs-p1-dip-fa-nvidia/label_heatsink_screw/trained_h5/dc0503_relabeled_trans_r50/b-VGG16_lr-3_op-adagrad_adv-True_ss-0.19986515039383504/final \n",
      " {'loss': 0.697211503982544, 'acc': 0.7235820293426514, 'precision/ok': 0.05693800002336502, 'precision/ng': 0.9815570712089539, 'recall/ok': 0.5443548560142517, 'recall/ng': 0.7289696931838989}\n"
     ]
    },
    {
     "name": "stdout",
     "output_type": "stream",
     "text": [
      "17/17 [==============================] - 8s 451ms/step - loss: 0.8583 - acc: 0.0292 - precision/ok: 0.0292 - precision/ng: 0.0000e+00 - recall/ok: 1.0000 - recall/ng: 0.0000e+00\n",
      "/data/aoi-wzs-p1-dip-fa-nvidia/label_heatsink_screw/trained_h5/dc0503_relabeled_trans_r50/b-DenseNet121_lr-5_op-RMSprop_adv-True_ss-0.058671337138140746/final \n",
      " {'loss': 0.858282744884491, 'acc': 0.029183337464928627, 'precision/ok': 0.029183337464928627, 'precision/ng': 0.0, 'recall/ok': 1.0, 'recall/ng': 0.0}\n",
      "17/17 [==============================] - 7s 392ms/step - loss: 0.8937 - acc: 0.0700 - precision/ok: 0.0303 - precision/ng: 0.9971 - recall/ok: 0.9960 - recall/ng: 0.0422\n",
      "/data/aoi-wzs-p1-dip-fa-nvidia/label_heatsink_screw/trained_h5/dc0503_relabeled_trans_r50/b-DenseNet121_lr-4_op-RMSprop_adv-True_ss-0.053488788195075965/final \n",
      " {'loss': 0.8936576247215271, 'acc': 0.07001647353172302, 'precision/ok': 0.03031046688556671, 'precision/ng': 0.9971346855163574, 'recall/ok': 0.9959677457809448, 'recall/ng': 0.042181819677352905}\n"
     ]
    }
   ],
   "source": [
    "import glob\n",
    "dc0503_pattern = '/data/aoi-wzs-p1-dip-fa-nvidia/label_heatsink_screw/trained_h5/dc0503_relabeled_trans_r50/*/final'\n",
    "dc0503 = glob.glob(dc0503_pattern)\n",
    "\n",
    "for p in dc0503:\n",
    "    loaded = tf.keras.models.load_model(p)\n",
    "    evaluate = loaded.evaluate(test_ds)\n",
    "    named_results = dict(zip(loaded.metrics_names, evaluate))\n",
    "    print(p, '\\n', named_results)"
   ]
  },
  {
   "cell_type": "markdown",
   "metadata": {},
   "source": [
    "#### ( first_tuned )"
   ]
  },
  {
   "cell_type": "markdown",
   "metadata": {},
   "source": [
    "#### ( graph_regularization_training )"
   ]
  },
  {
   "cell_type": "code",
   "execution_count": 3,
   "metadata": {},
   "outputs": [],
   "source": [
    "import tensorflow as tf\n",
    "ly = tf.keras.layers\n",
    "def BaseModel():\n",
    "    inputs = {\n",
    "        \"image\": tf.keras.Input((32, 32, 3), name=\"image\"),\n",
    "        \"degree\": tf.keras.Input([1], name=\"degree\"),\n",
    "    }\n",
    "    e = inputs[\"degree\"]\n",
    "    e = ly.Embedding(9, 32*32*3,\n",
    "                     input_length=1)(e)\n",
    "    e = ly.Reshape((32, 32, 3))(e)\n",
    "\n",
    "    x = inputs[\"image\"]\n",
    "    x = ly.Add()([x, e])\n",
    "    x = ly.Conv2D(64, 7, padding=\"same\")(x)\n",
    "    x = ly.ReLU()(x)\n",
    "    for filters in [128, 256, 512]:\n",
    "        x = ly.Conv2D(filters, 3, padding=\"same\")(x)\n",
    "        x = ly.BatchNormalization()(x)\n",
    "        x = ly.ReLU()(x)\n",
    "        x = ly.MaxPool2D()(x)\n",
    "    x = ly.Conv2D(1024, 3, padding=\"same\")(x)\n",
    "    x = ly.BatchNormalization()(x)\n",
    "    x = ly.ReLU()(x)\n",
    "    x = ly.GlobalAveragePooling2D()(x)\n",
    "    x = ly.Dense(2)(x)\n",
    "    x = ly.Activation(\"softmax\", dtype=\"float32\")(x)\n",
    "    return tf.keras.Model(inputs=inputs, outputs=x)\n",
    "base_model = BaseModel()\n",
    "metrics = [\n",
    "        tf.keras.metrics.CategoricalAccuracy(name='accuracy'),\n",
    "        tf.keras.metrics.Precision(name=\"precision/ok\", class_id=0),\n",
    "        tf.keras.metrics.Precision(name=\"precision/ng\", class_id=1),\n",
    "        tf.keras.metrics.Recall(name=\"recall/ok\", class_id=0),\n",
    "        tf.keras.metrics.Recall(name=\"recall/ng\", class_id=1),\n",
    "    ]\n",
    "base_model.compile(\n",
    "        \"adam\", tf.keras.losses.CategoricalCrossentropy(), metrics)"
   ]
  },
  {
   "cell_type": "code",
   "execution_count": 4,
   "metadata": {},
   "outputs": [
    {
     "ename": "NameError",
     "evalue": "name 'test_ds' is not defined",
     "output_type": "error",
     "traceback": [
      "\u001b[0;31m---------------------------------------------------------------------------\u001b[0m",
      "\u001b[0;31mNameError\u001b[0m                                 Traceback (most recent call last)",
      "\u001b[0;32m<ipython-input-4-4264b88a5d5e>\u001b[0m in \u001b[0;36m<module>\u001b[0;34m\u001b[0m\n\u001b[1;32m      3\u001b[0m \u001b[0mgr_h5\u001b[0m \u001b[0;34m=\u001b[0m \u001b[0;34m'/data/aoi-wzs-p1-dip-fa-nvidia/experiments/graph_regularization_training/results/graph-label-component-099-20200513/adv_graph_reg_model_nbr_3'\u001b[0m\u001b[0;34m\u001b[0m\u001b[0;34m\u001b[0m\u001b[0m\n\u001b[1;32m      4\u001b[0m \u001b[0mbase_model\u001b[0m\u001b[0;34m.\u001b[0m\u001b[0mload_weights\u001b[0m\u001b[0;34m(\u001b[0m\u001b[0mgr_h5\u001b[0m\u001b[0;34m)\u001b[0m\u001b[0;34m\u001b[0m\u001b[0;34m\u001b[0m\u001b[0m\n\u001b[0;32m----> 5\u001b[0;31m \u001b[0mbase_model\u001b[0m\u001b[0;34m.\u001b[0m\u001b[0mevaluate\u001b[0m\u001b[0;34m(\u001b[0m\u001b[0mtest_ds\u001b[0m\u001b[0;34m)\u001b[0m\u001b[0;34m\u001b[0m\u001b[0;34m\u001b[0m\u001b[0m\n\u001b[0m",
      "\u001b[0;31mNameError\u001b[0m: name 'test_ds' is not defined"
     ]
    }
   ],
   "source": [
    "gr_h5 = '/data/aoi-wzs-p1-dip-fa-nvidia/experiments/graph_regularization_training/results/graph-label-component-099-20200513/adv_graph_reg_model_nbr_3.h5'\n",
    "# base_model = tf.keras.models.load_model(gr_h5)\n",
    "gr_h5 = '/data/aoi-wzs-p1-dip-fa-nvidia/experiments/graph_regularization_training/results/graph-label-component-099-20200513/adv_graph_reg_model_nbr_3'\n",
    "base_model.load_weights(gr_h5)\n",
    "base_model.evaluate(test_ds)"
   ]
  },
  {
   "cell_type": "code",
   "execution_count": 8,
   "metadata": {},
   "outputs": [
    {
     "name": "stdout",
     "output_type": "stream",
     "text": [
      "WARNING:tensorflow:Model was constructed with shape (None, 1) for input Tensor(\"degree:0\", shape=(None, 1), dtype=float32), but it was called on an input with incompatible shape (None, 4).\n"
     ]
    },
    {
     "name": "stderr",
     "output_type": "stream",
     "text": [
      "/usr/local/lib/python3.6/dist-packages/tensorflow/python/keras/engine/functional.py:543: UserWarning: Input dict contained keys ['label'] which did not match any model input. They will be ignored by the model.\n",
      "  [n for n in tensors.keys() if n not in ref_input_names])\n"
     ]
    },
    {
     "ename": "ValueError",
     "evalue": "in user code:\n\n    /usr/local/lib/python3.6/dist-packages/tensorflow/python/keras/engine/training.py:1224 test_function  *\n        return step_function(self, iterator)\n    /usr/local/lib/python3.6/dist-packages/tensorflow/python/keras/engine/training.py:1215 step_function  **\n        outputs = model.distribute_strategy.run(run_step, args=(data,))\n    /usr/local/lib/python3.6/dist-packages/tensorflow/python/distribute/distribute_lib.py:1211 run\n        return self._extended.call_for_each_replica(fn, args=args, kwargs=kwargs)\n    /usr/local/lib/python3.6/dist-packages/tensorflow/python/distribute/distribute_lib.py:2585 call_for_each_replica\n        return self._call_for_each_replica(fn, args, kwargs)\n    /usr/local/lib/python3.6/dist-packages/tensorflow/python/distribute/distribute_lib.py:2945 _call_for_each_replica\n        return fn(*args, **kwargs)\n    /usr/local/lib/python3.6/dist-packages/tensorflow/python/keras/engine/training.py:1208 run_step  **\n        outputs = model.test_step(data)\n    /usr/local/lib/python3.6/dist-packages/tensorflow/python/keras/engine/training.py:1174 test_step\n        y_pred = self(x, training=False)\n    /usr/local/lib/python3.6/dist-packages/tensorflow/python/keras/engine/base_layer.py:985 __call__\n        outputs = call_fn(inputs, *args, **kwargs)\n    /usr/local/lib/python3.6/dist-packages/tensorflow/python/keras/engine/functional.py:386 call\n        inputs, training=training, mask=mask)\n    /usr/local/lib/python3.6/dist-packages/tensorflow/python/keras/engine/functional.py:508 _run_internal_graph\n        outputs = node.layer(*args, **kwargs)\n    /usr/local/lib/python3.6/dist-packages/tensorflow/python/keras/engine/base_layer.py:985 __call__\n        outputs = call_fn(inputs, *args, **kwargs)\n    /usr/local/lib/python3.6/dist-packages/tensorflow/python/keras/layers/core.py:544 call\n        result.set_shape(self.compute_output_shape(inputs.shape))\n    /usr/local/lib/python3.6/dist-packages/tensorflow/python/keras/layers/core.py:535 compute_output_shape\n        self.target_shape)\n    /usr/local/lib/python3.6/dist-packages/tensorflow/python/keras/layers/core.py:523 _fix_unknown_dimension\n        raise ValueError(msg)\n\n    ValueError: total size of new array must be unchanged, input_shape = [4, 3072], output_shape = [32, 32, 3]\n",
     "output_type": "error",
     "traceback": [
      "\u001b[0;31m---------------------------------------------------------------------------\u001b[0m",
      "\u001b[0;31mValueError\u001b[0m                                Traceback (most recent call last)",
      "\u001b[0;32m<ipython-input-8-b80e29418aad>\u001b[0m in \u001b[0;36m<module>\u001b[0;34m\u001b[0m\n\u001b[1;32m      1\u001b[0m \u001b[0mgr_h5\u001b[0m \u001b[0;34m=\u001b[0m \u001b[0;34m'/data/aoi-wzs-p1-dip-fa-nvidia/experiments/graph_regularization_training/results/graph-label-component-099-20200513/adv_graph_reg_model_nbr_3'\u001b[0m\u001b[0;34m\u001b[0m\u001b[0;34m\u001b[0m\u001b[0m\n\u001b[1;32m      2\u001b[0m \u001b[0mbase_model\u001b[0m\u001b[0;34m.\u001b[0m\u001b[0mload_weights\u001b[0m\u001b[0;34m(\u001b[0m\u001b[0mgr_h5\u001b[0m\u001b[0;34m)\u001b[0m\u001b[0;34m\u001b[0m\u001b[0;34m\u001b[0m\u001b[0m\n\u001b[0;32m----> 3\u001b[0;31m \u001b[0mbase_model\u001b[0m\u001b[0;34m.\u001b[0m\u001b[0mevaluate\u001b[0m\u001b[0;34m(\u001b[0m\u001b[0mtest_ds\u001b[0m\u001b[0;34m)\u001b[0m\u001b[0;34m\u001b[0m\u001b[0;34m\u001b[0m\u001b[0m\n\u001b[0m",
      "\u001b[0;32m/usr/local/lib/python3.6/dist-packages/tensorflow/python/keras/engine/training.py\u001b[0m in \u001b[0;36m_method_wrapper\u001b[0;34m(self, *args, **kwargs)\u001b[0m\n\u001b[1;32m    106\u001b[0m   \u001b[0;32mdef\u001b[0m \u001b[0m_method_wrapper\u001b[0m\u001b[0;34m(\u001b[0m\u001b[0mself\u001b[0m\u001b[0;34m,\u001b[0m \u001b[0;34m*\u001b[0m\u001b[0margs\u001b[0m\u001b[0;34m,\u001b[0m \u001b[0;34m**\u001b[0m\u001b[0mkwargs\u001b[0m\u001b[0;34m)\u001b[0m\u001b[0;34m:\u001b[0m\u001b[0;34m\u001b[0m\u001b[0;34m\u001b[0m\u001b[0m\n\u001b[1;32m    107\u001b[0m     \u001b[0;32mif\u001b[0m \u001b[0;32mnot\u001b[0m \u001b[0mself\u001b[0m\u001b[0;34m.\u001b[0m\u001b[0m_in_multi_worker_mode\u001b[0m\u001b[0;34m(\u001b[0m\u001b[0;34m)\u001b[0m\u001b[0;34m:\u001b[0m  \u001b[0;31m# pylint: disable=protected-access\u001b[0m\u001b[0;34m\u001b[0m\u001b[0;34m\u001b[0m\u001b[0m\n\u001b[0;32m--> 108\u001b[0;31m       \u001b[0;32mreturn\u001b[0m \u001b[0mmethod\u001b[0m\u001b[0;34m(\u001b[0m\u001b[0mself\u001b[0m\u001b[0;34m,\u001b[0m \u001b[0;34m*\u001b[0m\u001b[0margs\u001b[0m\u001b[0;34m,\u001b[0m \u001b[0;34m**\u001b[0m\u001b[0mkwargs\u001b[0m\u001b[0;34m)\u001b[0m\u001b[0;34m\u001b[0m\u001b[0;34m\u001b[0m\u001b[0m\n\u001b[0m\u001b[1;32m    109\u001b[0m \u001b[0;34m\u001b[0m\u001b[0m\n\u001b[1;32m    110\u001b[0m     \u001b[0;31m# Running inside `run_distribute_coordinator` already.\u001b[0m\u001b[0;34m\u001b[0m\u001b[0;34m\u001b[0m\u001b[0;34m\u001b[0m\u001b[0m\n",
      "\u001b[0;32m/usr/local/lib/python3.6/dist-packages/tensorflow/python/keras/engine/training.py\u001b[0m in \u001b[0;36mevaluate\u001b[0;34m(self, x, y, batch_size, verbose, sample_weight, steps, callbacks, max_queue_size, workers, use_multiprocessing, return_dict)\u001b[0m\n\u001b[1;32m   1377\u001b[0m             \u001b[0;32mwith\u001b[0m \u001b[0mtrace\u001b[0m\u001b[0;34m.\u001b[0m\u001b[0mTrace\u001b[0m\u001b[0;34m(\u001b[0m\u001b[0;34m'TraceContext'\u001b[0m\u001b[0;34m,\u001b[0m \u001b[0mgraph_type\u001b[0m\u001b[0;34m=\u001b[0m\u001b[0;34m'test'\u001b[0m\u001b[0;34m,\u001b[0m \u001b[0mstep_num\u001b[0m\u001b[0;34m=\u001b[0m\u001b[0mstep\u001b[0m\u001b[0;34m)\u001b[0m\u001b[0;34m:\u001b[0m\u001b[0;34m\u001b[0m\u001b[0;34m\u001b[0m\u001b[0m\n\u001b[1;32m   1378\u001b[0m               \u001b[0mcallbacks\u001b[0m\u001b[0;34m.\u001b[0m\u001b[0mon_test_batch_begin\u001b[0m\u001b[0;34m(\u001b[0m\u001b[0mstep\u001b[0m\u001b[0;34m)\u001b[0m\u001b[0;34m\u001b[0m\u001b[0;34m\u001b[0m\u001b[0m\n\u001b[0;32m-> 1379\u001b[0;31m               \u001b[0mtmp_logs\u001b[0m \u001b[0;34m=\u001b[0m \u001b[0mtest_function\u001b[0m\u001b[0;34m(\u001b[0m\u001b[0miterator\u001b[0m\u001b[0;34m)\u001b[0m\u001b[0;34m\u001b[0m\u001b[0;34m\u001b[0m\u001b[0m\n\u001b[0m\u001b[1;32m   1380\u001b[0m               \u001b[0;32mif\u001b[0m \u001b[0mdata_handler\u001b[0m\u001b[0;34m.\u001b[0m\u001b[0mshould_sync\u001b[0m\u001b[0;34m:\u001b[0m\u001b[0;34m\u001b[0m\u001b[0;34m\u001b[0m\u001b[0m\n\u001b[1;32m   1381\u001b[0m                 \u001b[0mcontext\u001b[0m\u001b[0;34m.\u001b[0m\u001b[0masync_wait\u001b[0m\u001b[0;34m(\u001b[0m\u001b[0;34m)\u001b[0m\u001b[0;34m\u001b[0m\u001b[0;34m\u001b[0m\u001b[0m\n",
      "\u001b[0;32m/usr/local/lib/python3.6/dist-packages/tensorflow/python/eager/def_function.py\u001b[0m in \u001b[0;36m__call__\u001b[0;34m(self, *args, **kwds)\u001b[0m\n\u001b[1;32m    778\u001b[0m       \u001b[0;32melse\u001b[0m\u001b[0;34m:\u001b[0m\u001b[0;34m\u001b[0m\u001b[0;34m\u001b[0m\u001b[0m\n\u001b[1;32m    779\u001b[0m         \u001b[0mcompiler\u001b[0m \u001b[0;34m=\u001b[0m \u001b[0;34m\"nonXla\"\u001b[0m\u001b[0;34m\u001b[0m\u001b[0;34m\u001b[0m\u001b[0m\n\u001b[0;32m--> 780\u001b[0;31m         \u001b[0mresult\u001b[0m \u001b[0;34m=\u001b[0m \u001b[0mself\u001b[0m\u001b[0;34m.\u001b[0m\u001b[0m_call\u001b[0m\u001b[0;34m(\u001b[0m\u001b[0;34m*\u001b[0m\u001b[0margs\u001b[0m\u001b[0;34m,\u001b[0m \u001b[0;34m**\u001b[0m\u001b[0mkwds\u001b[0m\u001b[0;34m)\u001b[0m\u001b[0;34m\u001b[0m\u001b[0;34m\u001b[0m\u001b[0m\n\u001b[0m\u001b[1;32m    781\u001b[0m \u001b[0;34m\u001b[0m\u001b[0m\n\u001b[1;32m    782\u001b[0m       \u001b[0mnew_tracing_count\u001b[0m \u001b[0;34m=\u001b[0m \u001b[0mself\u001b[0m\u001b[0;34m.\u001b[0m\u001b[0m_get_tracing_count\u001b[0m\u001b[0;34m(\u001b[0m\u001b[0;34m)\u001b[0m\u001b[0;34m\u001b[0m\u001b[0;34m\u001b[0m\u001b[0m\n",
      "\u001b[0;32m/usr/local/lib/python3.6/dist-packages/tensorflow/python/eager/def_function.py\u001b[0m in \u001b[0;36m_call\u001b[0;34m(self, *args, **kwds)\u001b[0m\n\u001b[1;32m    821\u001b[0m       \u001b[0;31m# This is the first call of __call__, so we have to initialize.\u001b[0m\u001b[0;34m\u001b[0m\u001b[0;34m\u001b[0m\u001b[0;34m\u001b[0m\u001b[0m\n\u001b[1;32m    822\u001b[0m       \u001b[0minitializers\u001b[0m \u001b[0;34m=\u001b[0m \u001b[0;34m[\u001b[0m\u001b[0;34m]\u001b[0m\u001b[0;34m\u001b[0m\u001b[0;34m\u001b[0m\u001b[0m\n\u001b[0;32m--> 823\u001b[0;31m       \u001b[0mself\u001b[0m\u001b[0;34m.\u001b[0m\u001b[0m_initialize\u001b[0m\u001b[0;34m(\u001b[0m\u001b[0margs\u001b[0m\u001b[0;34m,\u001b[0m \u001b[0mkwds\u001b[0m\u001b[0;34m,\u001b[0m \u001b[0madd_initializers_to\u001b[0m\u001b[0;34m=\u001b[0m\u001b[0minitializers\u001b[0m\u001b[0;34m)\u001b[0m\u001b[0;34m\u001b[0m\u001b[0;34m\u001b[0m\u001b[0m\n\u001b[0m\u001b[1;32m    824\u001b[0m     \u001b[0;32mfinally\u001b[0m\u001b[0;34m:\u001b[0m\u001b[0;34m\u001b[0m\u001b[0;34m\u001b[0m\u001b[0m\n\u001b[1;32m    825\u001b[0m       \u001b[0;31m# At this point we know that the initialization is complete (or less\u001b[0m\u001b[0;34m\u001b[0m\u001b[0;34m\u001b[0m\u001b[0;34m\u001b[0m\u001b[0m\n",
      "\u001b[0;32m/usr/local/lib/python3.6/dist-packages/tensorflow/python/eager/def_function.py\u001b[0m in \u001b[0;36m_initialize\u001b[0;34m(self, args, kwds, add_initializers_to)\u001b[0m\n\u001b[1;32m    695\u001b[0m     self._concrete_stateful_fn = (\n\u001b[1;32m    696\u001b[0m         self._stateful_fn._get_concrete_function_internal_garbage_collected(  # pylint: disable=protected-access\n\u001b[0;32m--> 697\u001b[0;31m             *args, **kwds))\n\u001b[0m\u001b[1;32m    698\u001b[0m \u001b[0;34m\u001b[0m\u001b[0m\n\u001b[1;32m    699\u001b[0m     \u001b[0;32mdef\u001b[0m \u001b[0minvalid_creator_scope\u001b[0m\u001b[0;34m(\u001b[0m\u001b[0;34m*\u001b[0m\u001b[0munused_args\u001b[0m\u001b[0;34m,\u001b[0m \u001b[0;34m**\u001b[0m\u001b[0munused_kwds\u001b[0m\u001b[0;34m)\u001b[0m\u001b[0;34m:\u001b[0m\u001b[0;34m\u001b[0m\u001b[0;34m\u001b[0m\u001b[0m\n",
      "\u001b[0;32m/usr/local/lib/python3.6/dist-packages/tensorflow/python/eager/function.py\u001b[0m in \u001b[0;36m_get_concrete_function_internal_garbage_collected\u001b[0;34m(self, *args, **kwargs)\u001b[0m\n\u001b[1;32m   2853\u001b[0m       \u001b[0margs\u001b[0m\u001b[0;34m,\u001b[0m \u001b[0mkwargs\u001b[0m \u001b[0;34m=\u001b[0m \u001b[0;32mNone\u001b[0m\u001b[0;34m,\u001b[0m \u001b[0;32mNone\u001b[0m\u001b[0;34m\u001b[0m\u001b[0;34m\u001b[0m\u001b[0m\n\u001b[1;32m   2854\u001b[0m     \u001b[0;32mwith\u001b[0m \u001b[0mself\u001b[0m\u001b[0;34m.\u001b[0m\u001b[0m_lock\u001b[0m\u001b[0;34m:\u001b[0m\u001b[0;34m\u001b[0m\u001b[0;34m\u001b[0m\u001b[0m\n\u001b[0;32m-> 2855\u001b[0;31m       \u001b[0mgraph_function\u001b[0m\u001b[0;34m,\u001b[0m \u001b[0m_\u001b[0m\u001b[0;34m,\u001b[0m \u001b[0m_\u001b[0m \u001b[0;34m=\u001b[0m \u001b[0mself\u001b[0m\u001b[0;34m.\u001b[0m\u001b[0m_maybe_define_function\u001b[0m\u001b[0;34m(\u001b[0m\u001b[0margs\u001b[0m\u001b[0;34m,\u001b[0m \u001b[0mkwargs\u001b[0m\u001b[0;34m)\u001b[0m\u001b[0;34m\u001b[0m\u001b[0;34m\u001b[0m\u001b[0m\n\u001b[0m\u001b[1;32m   2856\u001b[0m     \u001b[0;32mreturn\u001b[0m \u001b[0mgraph_function\u001b[0m\u001b[0;34m\u001b[0m\u001b[0;34m\u001b[0m\u001b[0m\n\u001b[1;32m   2857\u001b[0m \u001b[0;34m\u001b[0m\u001b[0m\n",
      "\u001b[0;32m/usr/local/lib/python3.6/dist-packages/tensorflow/python/eager/function.py\u001b[0m in \u001b[0;36m_maybe_define_function\u001b[0;34m(self, args, kwargs)\u001b[0m\n\u001b[1;32m   3211\u001b[0m \u001b[0;34m\u001b[0m\u001b[0m\n\u001b[1;32m   3212\u001b[0m       \u001b[0mself\u001b[0m\u001b[0;34m.\u001b[0m\u001b[0m_function_cache\u001b[0m\u001b[0;34m.\u001b[0m\u001b[0mmissed\u001b[0m\u001b[0;34m.\u001b[0m\u001b[0madd\u001b[0m\u001b[0;34m(\u001b[0m\u001b[0mcall_context_key\u001b[0m\u001b[0;34m)\u001b[0m\u001b[0;34m\u001b[0m\u001b[0;34m\u001b[0m\u001b[0m\n\u001b[0;32m-> 3213\u001b[0;31m       \u001b[0mgraph_function\u001b[0m \u001b[0;34m=\u001b[0m \u001b[0mself\u001b[0m\u001b[0;34m.\u001b[0m\u001b[0m_create_graph_function\u001b[0m\u001b[0;34m(\u001b[0m\u001b[0margs\u001b[0m\u001b[0;34m,\u001b[0m \u001b[0mkwargs\u001b[0m\u001b[0;34m)\u001b[0m\u001b[0;34m\u001b[0m\u001b[0;34m\u001b[0m\u001b[0m\n\u001b[0m\u001b[1;32m   3214\u001b[0m       \u001b[0mself\u001b[0m\u001b[0;34m.\u001b[0m\u001b[0m_function_cache\u001b[0m\u001b[0;34m.\u001b[0m\u001b[0mprimary\u001b[0m\u001b[0;34m[\u001b[0m\u001b[0mcache_key\u001b[0m\u001b[0;34m]\u001b[0m \u001b[0;34m=\u001b[0m \u001b[0mgraph_function\u001b[0m\u001b[0;34m\u001b[0m\u001b[0;34m\u001b[0m\u001b[0m\n\u001b[1;32m   3215\u001b[0m       \u001b[0;32mreturn\u001b[0m \u001b[0mgraph_function\u001b[0m\u001b[0;34m,\u001b[0m \u001b[0margs\u001b[0m\u001b[0;34m,\u001b[0m \u001b[0mkwargs\u001b[0m\u001b[0;34m\u001b[0m\u001b[0;34m\u001b[0m\u001b[0m\n",
      "\u001b[0;32m/usr/local/lib/python3.6/dist-packages/tensorflow/python/eager/function.py\u001b[0m in \u001b[0;36m_create_graph_function\u001b[0;34m(self, args, kwargs, override_flat_arg_shapes)\u001b[0m\n\u001b[1;32m   3073\u001b[0m             \u001b[0marg_names\u001b[0m\u001b[0;34m=\u001b[0m\u001b[0marg_names\u001b[0m\u001b[0;34m,\u001b[0m\u001b[0;34m\u001b[0m\u001b[0;34m\u001b[0m\u001b[0m\n\u001b[1;32m   3074\u001b[0m             \u001b[0moverride_flat_arg_shapes\u001b[0m\u001b[0;34m=\u001b[0m\u001b[0moverride_flat_arg_shapes\u001b[0m\u001b[0;34m,\u001b[0m\u001b[0;34m\u001b[0m\u001b[0;34m\u001b[0m\u001b[0m\n\u001b[0;32m-> 3075\u001b[0;31m             capture_by_value=self._capture_by_value),\n\u001b[0m\u001b[1;32m   3076\u001b[0m         \u001b[0mself\u001b[0m\u001b[0;34m.\u001b[0m\u001b[0m_function_attributes\u001b[0m\u001b[0;34m,\u001b[0m\u001b[0;34m\u001b[0m\u001b[0;34m\u001b[0m\u001b[0m\n\u001b[1;32m   3077\u001b[0m         \u001b[0mfunction_spec\u001b[0m\u001b[0;34m=\u001b[0m\u001b[0mself\u001b[0m\u001b[0;34m.\u001b[0m\u001b[0mfunction_spec\u001b[0m\u001b[0;34m,\u001b[0m\u001b[0;34m\u001b[0m\u001b[0;34m\u001b[0m\u001b[0m\n",
      "\u001b[0;32m/usr/local/lib/python3.6/dist-packages/tensorflow/python/framework/func_graph.py\u001b[0m in \u001b[0;36mfunc_graph_from_py_func\u001b[0;34m(name, python_func, args, kwargs, signature, func_graph, autograph, autograph_options, add_control_dependencies, arg_names, op_return_value, collections, capture_by_value, override_flat_arg_shapes)\u001b[0m\n\u001b[1;32m    984\u001b[0m         \u001b[0m_\u001b[0m\u001b[0;34m,\u001b[0m \u001b[0moriginal_func\u001b[0m \u001b[0;34m=\u001b[0m \u001b[0mtf_decorator\u001b[0m\u001b[0;34m.\u001b[0m\u001b[0munwrap\u001b[0m\u001b[0;34m(\u001b[0m\u001b[0mpython_func\u001b[0m\u001b[0;34m)\u001b[0m\u001b[0;34m\u001b[0m\u001b[0;34m\u001b[0m\u001b[0m\n\u001b[1;32m    985\u001b[0m \u001b[0;34m\u001b[0m\u001b[0m\n\u001b[0;32m--> 986\u001b[0;31m       \u001b[0mfunc_outputs\u001b[0m \u001b[0;34m=\u001b[0m \u001b[0mpython_func\u001b[0m\u001b[0;34m(\u001b[0m\u001b[0;34m*\u001b[0m\u001b[0mfunc_args\u001b[0m\u001b[0;34m,\u001b[0m \u001b[0;34m**\u001b[0m\u001b[0mfunc_kwargs\u001b[0m\u001b[0;34m)\u001b[0m\u001b[0;34m\u001b[0m\u001b[0;34m\u001b[0m\u001b[0m\n\u001b[0m\u001b[1;32m    987\u001b[0m \u001b[0;34m\u001b[0m\u001b[0m\n\u001b[1;32m    988\u001b[0m       \u001b[0;31m# invariant: `func_outputs` contains only Tensors, CompositeTensors,\u001b[0m\u001b[0;34m\u001b[0m\u001b[0;34m\u001b[0m\u001b[0;34m\u001b[0m\u001b[0m\n",
      "\u001b[0;32m/usr/local/lib/python3.6/dist-packages/tensorflow/python/eager/def_function.py\u001b[0m in \u001b[0;36mwrapped_fn\u001b[0;34m(*args, **kwds)\u001b[0m\n\u001b[1;32m    598\u001b[0m         \u001b[0;31m# __wrapped__ allows AutoGraph to swap in a converted function. We give\u001b[0m\u001b[0;34m\u001b[0m\u001b[0;34m\u001b[0m\u001b[0;34m\u001b[0m\u001b[0m\n\u001b[1;32m    599\u001b[0m         \u001b[0;31m# the function a weak reference to itself to avoid a reference cycle.\u001b[0m\u001b[0;34m\u001b[0m\u001b[0;34m\u001b[0m\u001b[0;34m\u001b[0m\u001b[0m\n\u001b[0;32m--> 600\u001b[0;31m         \u001b[0;32mreturn\u001b[0m \u001b[0mweak_wrapped_fn\u001b[0m\u001b[0;34m(\u001b[0m\u001b[0;34m)\u001b[0m\u001b[0;34m.\u001b[0m\u001b[0m__wrapped__\u001b[0m\u001b[0;34m(\u001b[0m\u001b[0;34m*\u001b[0m\u001b[0margs\u001b[0m\u001b[0;34m,\u001b[0m \u001b[0;34m**\u001b[0m\u001b[0mkwds\u001b[0m\u001b[0;34m)\u001b[0m\u001b[0;34m\u001b[0m\u001b[0;34m\u001b[0m\u001b[0m\n\u001b[0m\u001b[1;32m    601\u001b[0m     \u001b[0mweak_wrapped_fn\u001b[0m \u001b[0;34m=\u001b[0m \u001b[0mweakref\u001b[0m\u001b[0;34m.\u001b[0m\u001b[0mref\u001b[0m\u001b[0;34m(\u001b[0m\u001b[0mwrapped_fn\u001b[0m\u001b[0;34m)\u001b[0m\u001b[0;34m\u001b[0m\u001b[0;34m\u001b[0m\u001b[0m\n\u001b[1;32m    602\u001b[0m \u001b[0;34m\u001b[0m\u001b[0m\n",
      "\u001b[0;32m/usr/local/lib/python3.6/dist-packages/tensorflow/python/framework/func_graph.py\u001b[0m in \u001b[0;36mwrapper\u001b[0;34m(*args, **kwargs)\u001b[0m\n\u001b[1;32m    971\u001b[0m           \u001b[0;32mexcept\u001b[0m \u001b[0mException\u001b[0m \u001b[0;32mas\u001b[0m \u001b[0me\u001b[0m\u001b[0;34m:\u001b[0m  \u001b[0;31m# pylint:disable=broad-except\u001b[0m\u001b[0;34m\u001b[0m\u001b[0;34m\u001b[0m\u001b[0m\n\u001b[1;32m    972\u001b[0m             \u001b[0;32mif\u001b[0m \u001b[0mhasattr\u001b[0m\u001b[0;34m(\u001b[0m\u001b[0me\u001b[0m\u001b[0;34m,\u001b[0m \u001b[0;34m\"ag_error_metadata\"\u001b[0m\u001b[0;34m)\u001b[0m\u001b[0;34m:\u001b[0m\u001b[0;34m\u001b[0m\u001b[0;34m\u001b[0m\u001b[0m\n\u001b[0;32m--> 973\u001b[0;31m               \u001b[0;32mraise\u001b[0m \u001b[0me\u001b[0m\u001b[0;34m.\u001b[0m\u001b[0mag_error_metadata\u001b[0m\u001b[0;34m.\u001b[0m\u001b[0mto_exception\u001b[0m\u001b[0;34m(\u001b[0m\u001b[0me\u001b[0m\u001b[0;34m)\u001b[0m\u001b[0;34m\u001b[0m\u001b[0;34m\u001b[0m\u001b[0m\n\u001b[0m\u001b[1;32m    974\u001b[0m             \u001b[0;32melse\u001b[0m\u001b[0;34m:\u001b[0m\u001b[0;34m\u001b[0m\u001b[0;34m\u001b[0m\u001b[0m\n\u001b[1;32m    975\u001b[0m               \u001b[0;32mraise\u001b[0m\u001b[0;34m\u001b[0m\u001b[0;34m\u001b[0m\u001b[0m\n",
      "\u001b[0;31mValueError\u001b[0m: in user code:\n\n    /usr/local/lib/python3.6/dist-packages/tensorflow/python/keras/engine/training.py:1224 test_function  *\n        return step_function(self, iterator)\n    /usr/local/lib/python3.6/dist-packages/tensorflow/python/keras/engine/training.py:1215 step_function  **\n        outputs = model.distribute_strategy.run(run_step, args=(data,))\n    /usr/local/lib/python3.6/dist-packages/tensorflow/python/distribute/distribute_lib.py:1211 run\n        return self._extended.call_for_each_replica(fn, args=args, kwargs=kwargs)\n    /usr/local/lib/python3.6/dist-packages/tensorflow/python/distribute/distribute_lib.py:2585 call_for_each_replica\n        return self._call_for_each_replica(fn, args, kwargs)\n    /usr/local/lib/python3.6/dist-packages/tensorflow/python/distribute/distribute_lib.py:2945 _call_for_each_replica\n        return fn(*args, **kwargs)\n    /usr/local/lib/python3.6/dist-packages/tensorflow/python/keras/engine/training.py:1208 run_step  **\n        outputs = model.test_step(data)\n    /usr/local/lib/python3.6/dist-packages/tensorflow/python/keras/engine/training.py:1174 test_step\n        y_pred = self(x, training=False)\n    /usr/local/lib/python3.6/dist-packages/tensorflow/python/keras/engine/base_layer.py:985 __call__\n        outputs = call_fn(inputs, *args, **kwargs)\n    /usr/local/lib/python3.6/dist-packages/tensorflow/python/keras/engine/functional.py:386 call\n        inputs, training=training, mask=mask)\n    /usr/local/lib/python3.6/dist-packages/tensorflow/python/keras/engine/functional.py:508 _run_internal_graph\n        outputs = node.layer(*args, **kwargs)\n    /usr/local/lib/python3.6/dist-packages/tensorflow/python/keras/engine/base_layer.py:985 __call__\n        outputs = call_fn(inputs, *args, **kwargs)\n    /usr/local/lib/python3.6/dist-packages/tensorflow/python/keras/layers/core.py:544 call\n        result.set_shape(self.compute_output_shape(inputs.shape))\n    /usr/local/lib/python3.6/dist-packages/tensorflow/python/keras/layers/core.py:535 compute_output_shape\n        self.target_shape)\n    /usr/local/lib/python3.6/dist-packages/tensorflow/python/keras/layers/core.py:523 _fix_unknown_dimension\n        raise ValueError(msg)\n\n    ValueError: total size of new array must be unchanged, input_shape = [4, 3072], output_shape = [32, 32, 3]\n"
     ]
    }
   ],
   "source": [
    "gr_h5 = '/data/aoi-wzs-p1-dip-fa-nvidia/experiments/graph_regularization_training/results/graph-label-component-099-20200513/adv_graph_reg_model_nbr_3'\n",
    "base_model.load_weights(gr_h5)\n",
    "base_model.evaluate(test_ds)"
   ]
  },
  {
   "cell_type": "markdown",
   "metadata": {},
   "source": [
    "#### ( ori metadata )"
   ]
  },
  {
   "cell_type": "code",
   "execution_count": 8,
   "metadata": {},
   "outputs": [
    {
     "name": "stdout",
     "output_type": "stream",
     "text": [
      "17/17 [==============================] - 8s 466ms/step - loss: 0.2516 - acc: 0.9821 - precision/ok: 0.8243 - precision/ng: 0.9849 - recall/ok: 0.4919 - recall/ng: 0.9968\n",
      "17/17 [==============================] - 8s 484ms/step - loss: 0.2664 - acc: 0.9792 - precision/ok: 0.7076 - precision/ng: 0.9847 - recall/ok: 0.4879 - recall/ng: 0.9939\n",
      "17/17 [==============================] - 6s 380ms/step - loss: 1.5816 - acc: 0.8495 - precision/ok: 0.0995 - precision/ng: 0.9834 - recall/ok: 0.5161 - recall/ng: 0.8595\n",
      "17/17 [==============================] - 8s 495ms/step - loss: 0.2143 - acc: 0.9552 - precision/ok: 0.3815 - precision/ng: 0.9957 - recall/ok: 0.8629 - recall/ng: 0.9579\n",
      "17/17 [==============================] - 9s 508ms/step - loss: 0.2016 - acc: 0.9561 - precision/ok: 0.3853 - precision/ng: 0.9952 - recall/ok: 0.8468 - recall/ng: 0.9594\n",
      "17/17 [==============================] - 9s 514ms/step - loss: 0.1957 - acc: 0.9529 - precision/ok: 0.3721 - precision/ng: 0.9966 - recall/ok: 0.8911 - recall/ng: 0.9548\n"
     ]
    }
   ],
   "source": [
    "orim_h5_paths = [ '/data/aoi-wzs-p1-dip-fa-nvidia/label_heatsink_screw/trained_h5/ori_metadata_trans_r50/b-VGG16_lr-4_op-adagrad_adv-True_ss-0.03654886093937098/final', \n",
    "            '/data/aoi-wzs-p1-dip-fa-nvidia/label_heatsink_screw/trained_h5/ori_metadata_trans_r50/b-VGG16_lr-4_op-adam_adv-True_ss-0.028690168136067472/final', \n",
    "            '/data/aoi-wzs-p1-dip-fa-nvidia/label_heatsink_screw/trained_h5/ori_metadata_trans_r50/b-VGG16_lr-4_op-adam_adv-True_ss-0.15538295745111494/final', \n",
    "            '/data/aoi-wzs-p1-dip-fa-nvidia/label_heatsink_screw/trained_h5/ori_metadata_convs_r50/cc-4_ff-32_ks-2_s-3_mp-False_lr-4_op-adam_adv-True/ep_093-vl_0.104213-va_0.996125.h5', \n",
    "            '/data/aoi-wzs-p1-dip-fa-nvidia/label_heatsink_screw/trained_h5/ori_metadata_convs_r50/cc-4_ff-32_ks-2_s-3_mp-False_lr-4_op-adam_adv-True/ep_094-vl_0.097888-va_0.996250.h5', \n",
    "            '/data/aoi-wzs-p1-dip-fa-nvidia/label_heatsink_screw/trained_h5/ori_metadata_convs_r50/cc-4_ff-32_ks-2_s-3_mp-False_lr-4_op-adam_adv-True/final',\n",
    "          ]\n",
    "for e in map(tf.keras.models.load_model, orim_h5_paths):\n",
    "    e.evaluate(test_ds)"
   ]
  },
  {
   "cell_type": "markdown",
   "metadata": {},
   "source": [
    "#### ( re_labeled )"
   ]
  },
  {
   "cell_type": "code",
   "execution_count": null,
   "metadata": {},
   "outputs": [
    {
     "name": "stdout",
     "output_type": "stream",
     "text": [
      "17/17 [==============================] - 7s 436ms/step - loss: 0.4799 - acc: 0.8867 - precision/ok: 0.1371 - precision/ng: 0.9850 - recall/ok: 0.5444 - recall/ng: 0.8970\n",
      "17/17 [==============================] - 8s 454ms/step - loss: 0.3355 - acc: 0.9097 - precision/ok: 0.1634 - precision/ng: 0.9842 - recall/ok: 0.5081 - recall/ng: 0.9218\n",
      "17/17 [==============================] - 8s 480ms/step - loss: 0.1922 - acc: 0.9815 - precision/ok: 0.7826 - precision/ng: 0.9854 - recall/ok: 0.5081 - recall/ng: 0.9958\n",
      "17/17 [==============================] - 6s 372ms/step - loss: 0.1922 - acc: 0.9815 - precision/ok: 0.7826 - precision/ng: 0.9854 - recall/ok: 0.5081 - recall/ng: 0.9958\n",
      "17/17 [==============================] - 7s 404ms/step - loss: 0.3748 - acc: 0.8909 - precision/ok: 0.1377 - precision/ng: 0.9843 - recall/ok: 0.5202 - recall/ng: 0.9021\n",
      "17/17 [==============================] - 7s 393ms/step - loss: 0.2072 - acc: 0.9694 - precision/ok: 0.4774 - precision/ng: 0.9853 - recall/ok: 0.5121 - recall/ng: 0.9832\n",
      "17/17 [==============================] - 6s 379ms/step - loss: 0.2232 - acc: 0.9652 - precision/ok: 0.4195 - precision/ng: 0.9850 - recall/ok: 0.5040 - recall/ng: 0.9790\n",
      "17/17 [==============================] - 7s 416ms/step - loss: 0.1941 - acc: 0.9822 - precision/ok: 0.8212 - precision/ng: 0.9851 - recall/ok: 0.5000 - recall/ng: 0.9967\n",
      "17/17 [==============================] - 6s 382ms/step - loss: 0.3027 - acc: 0.9135 - precision/ok: 0.2012 - precision/ng: 0.9891 - recall/ok: 0.6613 - recall/ng: 0.9211\n"
     ]
    }
   ],
   "source": [
    "rl_h5_paths = [ '/data/aoi-wzs-p1-dip-fa-nvidia/label_heatsink_screw/trained_h5/re_labeled_trans_r50/b-VGG16_lr-4_op-adam_adv-True_ss-0.17064132560395412/final', \n",
    "            '/data/aoi-wzs-p1-dip-fa-nvidia/label_heatsink_screw/trained_h5/re_labeled_trans_r50/b-VGG16_lr-4_op-adam_adv-True_ss-0.17064132560395412/ep_028-vl_0.001341-va_1.000000.h5', \n",
    "            '/data/aoi-wzs-p1-dip-fa-nvidia/label_heatsink_screw/trained_h5/re_labeled_trans_r50/b-VGG16_lr-5_op-RMSprop_adv-True_ss-0.06535055175652027/final',\n",
    "            '/data/aoi-wzs-p1-dip-fa-nvidia/label_heatsink_screw/trained_h5/re_labeled_trans_r50/b-VGG16_lr-5_op-RMSprop_adv-True_ss-0.06535055175652027/ep_093-vl_0.003489-va_0.999375.h5',\n",
    "            '/data/aoi-wzs-p1-dip-fa-nvidia/label_heatsink_screw/trained_h5/re_labeled_trans_r50/b-VGG16_lr-5_op-adam_adv-True_ss-0.19638963328377465/final',\n",
    "            '/data/aoi-wzs-p1-dip-fa-nvidia/label_heatsink_screw/trained_h5/re_labeled_trans_r50/b-VGG16_lr-5_op-adam_adv-True_ss-0.19638963328377465/ep_090-vl_0.009936-va_1.000000.h5',\n",
    "            '/data/aoi-wzs-p1-dip-fa-nvidia/label_heatsink_screw/trained_h5/re_labeled_trans_r50/b-VGG16_lr-5_op-RMSprop_adv-True_ss-0.1472465226446634/final',\n",
    "            '/data/aoi-wzs-p1-dip-fa-nvidia/label_heatsink_screw/trained_h5/re_labeled_trans_r50/b-VGG16_lr-5_op-RMSprop_adv-True_ss-0.1472465226446634/ep_098-vl_0.013516-va_1.000000.h5',\n",
    "            '/data/aoi-wzs-p1-dip-fa-nvidia/label_heatsink_screw/trained_h5/re_labeled_convs_r50/cc-4_ff-8_ks-3_s-3_mp-False_lr-3_op-adam_adv-True/final',\n",
    "            '/data/aoi-wzs-p1-dip-fa-nvidia/label_heatsink_screw/trained_h5/re_labeled_convs_r50/cc-4_ff-8_ks-3_s-3_mp-False_lr-3_op-adam_adv-True/ep_099-vl_0.005794-va_0.999875.h5'\n",
    "          ]\n",
    "for e in map(tf.keras.models.load_model, rl_h5_paths):\n",
    "    e.evaluate(test_ds)"
   ]
  },
  {
   "cell_type": "code",
   "execution_count": null,
   "metadata": {},
   "outputs": [],
   "source": []
  }
 ],
 "metadata": {
  "kernelspec": {
   "display_name": "Python 3",
   "language": "python",
   "name": "python3"
  },
  "language_info": {
   "codemirror_mode": {
    "name": "ipython",
    "version": 3
   },
   "file_extension": ".py",
   "mimetype": "text/x-python",
   "name": "python",
   "nbconvert_exporter": "python",
   "pygments_lexer": "ipython3",
   "version": "3.6.9"
  }
 },
 "nbformat": 4,
 "nbformat_minor": 4
}
