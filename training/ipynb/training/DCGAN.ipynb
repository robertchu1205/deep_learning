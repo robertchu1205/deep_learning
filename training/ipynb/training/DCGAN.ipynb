{
 "cells": [
  {
   "cell_type": "code",
   "execution_count": 1,
   "metadata": {},
   "outputs": [],
   "source": [
    "import tensorflow as tf"
   ]
  },
  {
   "cell_type": "code",
   "execution_count": 2,
   "metadata": {},
   "outputs": [
    {
     "name": "stdout",
     "output_type": "stream",
     "text": [
      "WARNING:tensorflow:From <ipython-input-2-17bb7203622b>:1: is_gpu_available (from tensorflow.python.framework.test_util) is deprecated and will be removed in a future version.\n",
      "Instructions for updating:\n",
      "Use `tf.config.list_physical_devices('GPU')` instead.\n"
     ]
    },
    {
     "data": {
      "text/plain": [
       "True"
      ]
     },
     "execution_count": 2,
     "metadata": {},
     "output_type": "execute_result"
    }
   ],
   "source": [
    "tf.test.is_gpu_available()"
   ]
  },
  {
   "cell_type": "code",
   "execution_count": 3,
   "metadata": {},
   "outputs": [
    {
     "data": {
      "text/plain": [
       "[PhysicalDevice(name='/physical_device:GPU:0', device_type='GPU'),\n",
       " PhysicalDevice(name='/physical_device:GPU:1', device_type='GPU')]"
      ]
     },
     "execution_count": 3,
     "metadata": {},
     "output_type": "execute_result"
    }
   ],
   "source": [
    "tf.config.list_physical_devices('GPU')"
   ]
  },
  {
   "cell_type": "code",
   "execution_count": 4,
   "metadata": {},
   "outputs": [
    {
     "data": {
      "text/plain": [
       "'2.1.0'"
      ]
     },
     "execution_count": 4,
     "metadata": {},
     "output_type": "execute_result"
    }
   ],
   "source": [
    "tf.__version__"
   ]
  },
  {
   "cell_type": "code",
   "execution_count": 5,
   "metadata": {},
   "outputs": [],
   "source": [
    "from IPython import display\n",
    "# import PIL\n",
    "import os\n",
    "import time\n",
    "import glob\n",
    "import matplotlib.pyplot as plt\n",
    "BUFFER_SIZE = 80000\n",
    "BATCH_SIZE = 256"
   ]
  },
  {
   "cell_type": "code",
   "execution_count": 7,
   "metadata": {},
   "outputs": [],
   "source": [
    "def to_its_ds(root, cache=False):\n",
    "    list_ds = tf.data.Dataset.list_files(root)\n",
    "    image_ds = list_ds.map(process_path, num_parallel_calls=tf.data.experimental.AUTOTUNE)\n",
    "    image_ds = prepare_for_training(image_ds, cache=cache, shuffle_buffer_size=BUFFER_SIZE)\n",
    "    return image_ds\n",
    "\n",
    "def process_path(file_path):\n",
    "    img = tf.io.read_file(file_path)\n",
    "    img = decode_img(img) # input tensor is numpy array\n",
    "    return img\n",
    "\n",
    "def decode_img(img):\n",
    "    img = tf.io.decode_png(img, channels=3)\n",
    "#     img = tf.dtypes.as_dtype(tf.float32)\n",
    "    img = tf.image.convert_image_dtype(img, tf.float32)\n",
    "    img = (img - 0.5) / 0.5 # Normalize the images to [-1, 1]\n",
    "    img = tf.image.resize(img, [96, 96])\n",
    "    return img\n",
    "\n",
    "# For well shuffled, batched which gonna to be available\n",
    "def prepare_for_training(ds, cache=True, shuffle_buffer_size=200000):\n",
    "    # This is a small dataset, only load it once, and keep it in memory.\n",
    "    # use `.cache(filename)` to cache preprocessing work for datasets that don't\n",
    "    # fit in memory.\n",
    "    if cache:\n",
    "        if isinstance(cache, str):\n",
    "            ds = ds.cache(cache)\n",
    "        else:\n",
    "            ds = ds.cache()\n",
    "    ds = ds.shuffle(buffer_size=BUFFER_SIZE)\n",
    "    # Repeat forever\n",
    "#     ds = ds.repeat()\n",
    "    ds = ds.batch(BATCH_SIZE)\n",
    "    # `prefetch` lets the dataset fetch batches in the background while the model\n",
    "    # is training.\n",
    "    ds = ds.prefetch(buffer_size=tf.data.experimental.AUTOTUNE)\n",
    "    return ds"
   ]
  },
  {
   "cell_type": "code",
   "execution_count": 8,
   "metadata": {},
   "outputs": [],
   "source": [
    "degree_0_dir = \"/tf/robertnb/p3-prewave-aoi-saiap/Alu-M2-08231119/OK/0/*.png\"\n",
    "degree_0_ds = to_its_ds(degree_0_dir)"
   ]
  },
  {
   "cell_type": "code",
   "execution_count": 16,
   "metadata": {},
   "outputs": [
    {
     "data": {
      "text/plain": [
       "array([[[[-0.8980392 , -0.84313726, -0.92941177],\n",
       "         [-0.85061276, -0.7957108 , -0.8977941 ],\n",
       "         [-0.74215686, -0.6979166 , -0.82549024],\n",
       "         ...,\n",
       "         [-0.923652  , -0.8723039 , -0.94007355],\n",
       "         [-0.8955882 , -0.8355392 , -0.91654414],\n",
       "         [-0.8745098 , -0.8039216 , -0.8901961 ]],\n",
       "\n",
       "        [[-0.8980392 , -0.84926474, -0.94779414],\n",
       "         [-0.85472965, -0.810072  , -0.9161765 ],\n",
       "         [-0.76494336, -0.7301816 , -0.85497856],\n",
       "         ...,\n",
       "         [-0.92700297, -0.8756549 , -0.9367226 ],\n",
       "         [-0.8997051 , -0.8396561 , -0.91041666],\n",
       "         [-0.8745098 , -0.8039216 , -0.8840686 ]],\n",
       "\n",
       "        [[-0.8731209 , -0.83104575, -0.9230392 ],\n",
       "         [-0.83766085, -0.7908101 , -0.89476997],\n",
       "         [-0.76766366, -0.7255885 , -0.84283346],\n",
       "         ...,\n",
       "         [-0.9356503 , -0.89154416, -0.9434934 ],\n",
       "         [-0.90264887, -0.8492188 , -0.91212726],\n",
       "         [-0.8595588 , -0.7989379 , -0.8723856 ]],\n",
       "\n",
       "        ...,\n",
       "\n",
       "        [[-0.92156863, -0.8638072 , -0.91870916],\n",
       "         [-0.92156863, -0.8657284 , -0.93643916],\n",
       "         [-0.9189772 , -0.8605213 , -0.9473563 ],\n",
       "         ...,\n",
       "         [-0.9069381 , -0.85858357, -0.9080346 ],\n",
       "         [-0.88978505, -0.8452998 , -0.8918697 ],\n",
       "         [-0.8830883 , -0.8438726 , -0.89379096]],\n",
       "\n",
       "        [[-0.92156863, -0.8571079 , -0.9137255 ],\n",
       "         [-0.92156863, -0.86353016, -0.9348039 ],\n",
       "         [-0.91368335, -0.8552275 , -0.94587547],\n",
       "         ...,\n",
       "         [-0.910455  , -0.8590648 , -0.914905  ],\n",
       "         [-0.9032131 , -0.8587278 , -0.9147825 ],\n",
       "         [-0.8997549 , -0.8605392 , -0.91544116]],\n",
       "\n",
       "        [[-0.92156863, -0.8509804 , -0.9137255 ],\n",
       "         [-0.92156863, -0.86151963, -0.9348039 ],\n",
       "         [-0.91090685, -0.85245097, -0.94865197],\n",
       "         ...,\n",
       "         [-0.92941177, -0.8752451 , -0.93443626],\n",
       "         [-0.9216912 , -0.8772059 , -0.93737745],\n",
       "         [-0.90588236, -0.8666667 , -0.92156863]]],\n",
       "\n",
       "\n",
       "       [[[-0.6313726 , -0.5607843 , -0.67058825],\n",
       "         [-0.6530638 , -0.5824755 , -0.7139706 ],\n",
       "         [-0.67536765, -0.59113556, -0.72446895],\n",
       "         ...,\n",
       "         [-0.65592325, -0.56180555, -0.7176471 ],\n",
       "         [-0.66151965, -0.5680147 , -0.7164216 ],\n",
       "         [-0.64705884, -0.5607843 , -0.7019608 ]],\n",
       "\n",
       "        [[-0.6313726 , -0.53799015, -0.6477941 ],\n",
       "         [-0.6530638 , -0.57369024, -0.7051854 ],\n",
       "         [-0.6026718 , -0.53066784, -0.65739256],\n",
       "         ...,\n",
       "         [-0.6645106 , -0.5551969 , -0.7110384 ],\n",
       "         [-0.6784965 , -0.5692018 , -0.7176088 ],\n",
       "         [-0.68504906, -0.57598037, -0.7171569 ]],\n",
       "\n",
       "        [[-0.57933   , -0.47777775, -0.580147  ],\n",
       "         [-0.60102123, -0.51392967, -0.63799024],\n",
       "         [-0.55475086, -0.48217335, -0.6141833 ],\n",
       "         ...,\n",
       "         [-0.6796569 , -0.5679168 , -0.73216105],\n",
       "         [-0.6939134 , -0.5686593 , -0.73193556],\n",
       "         [-0.7011438 , -0.5690359 , -0.72508174]],\n",
       "\n",
       "        ...,\n",
       "\n",
       "        [[-0.35106218, -0.2656047 , -0.37377456],\n",
       "         [-0.37734753, -0.29874384, -0.44991943],\n",
       "         [-0.561279  , -0.4825455 , -0.65889734],\n",
       "         ...,\n",
       "         [-0.74087435, -0.6627983 , -0.77362347],\n",
       "         [-0.74164885, -0.6632175 , -0.7814773 ],\n",
       "         [-0.742402  , -0.66397065, -0.78946084]],\n",
       "\n",
       "        [[-0.39215684, -0.32107842, -0.3992647 ],\n",
       "         [-0.36730236, -0.2964499 , -0.41056216],\n",
       "         [-0.49950212, -0.41545138, -0.5733264 ],\n",
       "         ...,\n",
       "         [-0.7355891 , -0.6637983 , -0.77483666],\n",
       "         [-0.7502642 , -0.67207795, -0.7903186 ],\n",
       "         [-0.764951  , -0.6867647 , -0.8120098 ]],\n",
       "\n",
       "        [[-0.51372546, -0.42745095, -0.4980392 ],\n",
       "         [-0.3908088 , -0.3117647 , -0.4112745 ],\n",
       "         [-0.44861108, -0.3701797 , -0.50624996],\n",
       "         ...,\n",
       "         [-0.74219775, -0.66478765, -0.7824347 ],\n",
       "         [-0.75085783, -0.6802696 , -0.79791665],\n",
       "         [-0.77254903, -0.7019608 , -0.81960785]]],\n",
       "\n",
       "\n",
       "       [[[-0.6627451 , -0.6627451 , -0.7254902 ],\n",
       "         [-0.6582108 , -0.6582108 , -0.70281863],\n",
       "         [-0.65723044, -0.654902  , -0.688603  ],\n",
       "         ...,\n",
       "         [-0.6525735 , -0.5349264 , -0.70428926],\n",
       "         [-0.65159315, -0.53725487, -0.69865197],\n",
       "         [-0.64705884, -0.53725487, -0.69411767]],\n",
       "\n",
       "        [[-0.68149513, -0.6627451 , -0.7254902 ],\n",
       "         [-0.68057406, -0.66905063, -0.72088504],\n",
       "         [-0.676664  , -0.66994107, -0.7124311 ],\n",
       "         ...,\n",
       "         [-0.63938993, -0.52799284, -0.70175016],\n",
       "         [-0.63547987, -0.5247549 , -0.69240195],\n",
       "         [-0.63455886, -0.5247549 , -0.68786764]],\n",
       "\n",
       "        [[-0.6966503 , -0.6575572 , -0.7254902 ],\n",
       "         [-0.6966503 , -0.6666258 , -0.7254902 ],\n",
       "         [-0.6919935 , -0.6716669 , -0.7215852 ],\n",
       "         ...,\n",
       "         [-0.62411344, -0.5225777 , -0.69437486],\n",
       "         [-0.625374  , -0.51638067, -0.6921869 ],\n",
       "         [-0.6313726 , -0.51638067, -0.6966503 ]],\n",
       "\n",
       "        ...,\n",
       "\n",
       "        [[-0.6600899 , -0.6078431 , -0.7176471 ],\n",
       "         [-0.6646242 , -0.6078431 , -0.7176471 ],\n",
       "         [-0.66947323, -0.60551465, -0.71918726],\n",
       "         ...,\n",
       "         [-0.7659513 , -0.7683659 , -0.82152337],\n",
       "         [-0.7520166 , -0.75325924, -0.80781716],\n",
       "         [-0.73513114, -0.73790884, -0.795466  ]],\n",
       "\n",
       "        [[-0.65330887, -0.60625   , -0.7144608 ],\n",
       "         [-0.6578432 , -0.60625   , -0.71538186],\n",
       "         [-0.66162497, -0.6043945 , -0.7165269 ],\n",
       "         ...,\n",
       "         [-0.71787494, -0.7360122 , -0.8063381 ],\n",
       "         [-0.670347  , -0.6927773 , -0.7596297 ],\n",
       "         [-0.6186275 , -0.64375   , -0.7096814 ]],\n",
       "\n",
       "        [[-0.64705884, -0.59999996, -0.7019608 ],\n",
       "         [-0.65159315, -0.59999996, -0.7064951 ],\n",
       "         [-0.65723044, -0.59999996, -0.7121324 ],\n",
       "         ...,\n",
       "         [-0.6822304 , -0.71911764, -0.81004906],\n",
       "         [-0.62757355, -0.6634804 , -0.7464461 ],\n",
       "         [-0.5686274 , -0.59999996, -0.6784314 ]]],\n",
       "\n",
       "\n",
       "       ...,\n",
       "\n",
       "\n",
       "       [[[-0.7019608 , -0.654902  , -0.7254902 ],\n",
       "         [-0.7064951 , -0.654902  , -0.7209559 ],\n",
       "         [-0.7074755 , -0.6525735 , -0.7129902 ],\n",
       "         ...,\n",
       "         [-0.61568624, -0.52389705, -0.6862745 ],\n",
       "         [-0.6189951 , -0.5215686 , -0.68958336],\n",
       "         [-0.6235294 , -0.5215686 , -0.69411767]],\n",
       "\n",
       "        [[-0.6894608 , -0.642402  , -0.7129902 ],\n",
       "         [-0.6939951 , -0.642402  , -0.71206915],\n",
       "         [-0.6986865 , -0.6437845 , -0.7123066 ],\n",
       "         ...,\n",
       "         [-0.62008077, -0.52389705, -0.6825636 ],\n",
       "         [-0.61997163, -0.5242053 , -0.68958336],\n",
       "         [-0.61727935, -0.5278186 , -0.69411767]],\n",
       "\n",
       "        [[-0.6862745 , -0.64440364, -0.72017974],\n",
       "         [-0.69080883, -0.6414044 , -0.7171805 ],\n",
       "         [-0.69798625, -0.6430843 , -0.71886045],\n",
       "         ...,\n",
       "         [-0.6294692 , -0.535813  , -0.68834573],\n",
       "         [-0.62103117, -0.5308759 , -0.6860167 ],\n",
       "         [-0.6104983 , -0.52941173, -0.67855394]],\n",
       "\n",
       "        ...,\n",
       "\n",
       "        [[-0.64971405, -0.59734476, -0.6993056 ],\n",
       "         [-0.6511783 , -0.58827615, -0.69630635],\n",
       "         [-0.6561518 , -0.583235  , -0.6972344 ],\n",
       "         ...,\n",
       "         [-0.5672055 , -0.54526925, -0.7000079 ],\n",
       "         [-0.38243476, -0.39544225, -0.5603352 ],\n",
       "         [-0.21013081, -0.25187925, -0.4243058 ]],\n",
       "\n",
       "        [[-0.654902  , -0.5921568 , -0.69730395],\n",
       "         [-0.65220976, -0.5849303 , -0.6963829 ],\n",
       "         [-0.6567575 , -0.5843137 , -0.7008406 ],\n",
       "         ...,\n",
       "         [-0.5493126 , -0.50143224, -0.6469152 ],\n",
       "         [-0.38456836, -0.3687672 , -0.5213446 ],\n",
       "         [-0.23713228, -0.24938719, -0.40465683]],\n",
       "\n",
       "        [[-0.654902  , -0.5921568 , -0.70980394],\n",
       "         [-0.6594363 , -0.5921568 , -0.70526963],\n",
       "         [-0.66740197, -0.5968137 , -0.7089461 ],\n",
       "         ...,\n",
       "         [-0.6177696 , -0.52916664, -0.6790441 ],\n",
       "         [-0.5557598 , -0.47941172, -0.6329657 ],\n",
       "         [-0.5058823 , -0.44313723, -0.5921568 ]]],\n",
       "\n",
       "\n",
       "       [[[-0.92941177, -0.88235295, -0.96862745],\n",
       "         [-0.8977941 , -0.8507353 , -0.96335787],\n",
       "         [-0.81482846, -0.7784314 , -0.9145833 ],\n",
       "         ...,\n",
       "         [-0.94436276, -0.8659314 , -0.92585784],\n",
       "         [-0.9218137 , -0.8459559 , -0.9191176 ],\n",
       "         [-0.8901961 , -0.81960785, -0.8980392 ]],\n",
       "\n",
       "        [[-0.9110294 , -0.8517157 , -0.9196079 ],\n",
       "         [-0.88352865, -0.82009804, -0.91022134],\n",
       "         [-0.84144455, -0.78111213, -0.88164824],\n",
       "         ...,\n",
       "         [-0.93488437, -0.862006  , -0.90967757],\n",
       "         [-0.9155905 , -0.8377221 , -0.90063953],\n",
       "         [-0.89632356, -0.81960785, -0.89191175]],\n",
       "\n",
       "        [[-0.8012255 , -0.7235294 , -0.76135623],\n",
       "         [-0.79496783, -0.718699  , -0.7541654 ],\n",
       "         [-0.78317505, -0.70889884, -0.7464333 ],\n",
       "         ...,\n",
       "         [-0.9426649 , -0.87905055, -0.9255489 ],\n",
       "         [-0.9238932 , -0.8537939 , -0.91547817],\n",
       "         [-0.8980392 , -0.8245915 , -0.9001634 ]],\n",
       "\n",
       "        ...,\n",
       "\n",
       "        [[-0.92941177, -0.8901961 , -0.9137255 ],\n",
       "         [-0.931333  , -0.8901961 , -0.9472644 ],\n",
       "         [-0.91287273, -0.86046904, -0.94457847],\n",
       "         ...,\n",
       "         [-0.9529412 , -0.8901961 , -0.9265523 ],\n",
       "         [-0.95457643, -0.89183134, -0.92912585],\n",
       "         [-0.95792484, -0.89517975, -0.93439543]],\n",
       "\n",
       "        [[-0.92941177, -0.8901961 , -0.91544116],\n",
       "         [-0.9358341 , -0.89250153, -0.9523284 ],\n",
       "         [-0.9105392 , -0.86086476, -0.9490196 ],\n",
       "         ...,\n",
       "         [-0.95200294, -0.8901961 , -0.92156863],\n",
       "         [-0.9512255 , -0.8896331 , -0.9235792 ],\n",
       "         [-0.9512255 , -0.8884804 , -0.9276961 ]],\n",
       "\n",
       "        [[-0.92941177, -0.8901961 , -0.92156863],\n",
       "         [-0.939951  , -0.9007353 , -0.95845586],\n",
       "         [-0.9166667 , -0.87034315, -0.9551471 ],\n",
       "         ...,\n",
       "         [-0.94865197, -0.8901961 , -0.92156863],\n",
       "         [-0.94509804, -0.88762254, -0.92156863],\n",
       "         [-0.94509804, -0.88235295, -0.92156863]]],\n",
       "\n",
       "\n",
       "       [[[-0.6627451 , -0.5843137 , -0.73333335],\n",
       "         [-0.6469363 , -0.57377446, -0.71225494],\n",
       "         [-0.64632356, -0.5686274 , -0.6984069 ],\n",
       "         ...,\n",
       "         [-0.5734069 , -0.49999997, -0.6047794 ],\n",
       "         [-0.48272055, -0.42769605, -0.51924014],\n",
       "         [-0.4352941 , -0.3960784 , -0.4823529 ]],\n",
       "\n",
       "        [[-0.6504902 , -0.5781862 , -0.714951  ],\n",
       "         [-0.63879824, -0.567647  , -0.7021063 ],\n",
       "         [-0.6401961 , -0.568053  , -0.70060897],\n",
       "         ...,\n",
       "         [-0.55397135, -0.48056445, -0.5869715 ],\n",
       "         [-0.49478397, -0.4377489 , -0.5170381 ],\n",
       "         [-0.4720588 , -0.42671567, -0.5007353 ]],\n",
       "\n",
       "        [[-0.6570262 , -0.5714869 , -0.6998366 ],\n",
       "         [-0.65318376, -0.5676445 , -0.69934255],\n",
       "         [-0.6516404 , -0.5683594 , -0.70395094],\n",
       "         ...,\n",
       "         [-0.51317656, -0.44428614, -0.5597924 ],\n",
       "         [-0.47300982, -0.40887073, -0.5062985 ],\n",
       "         [-0.48733658, -0.4203431 , -0.51584965]],\n",
       "\n",
       "        ...,\n",
       "\n",
       "        [[-0.3241014 , -0.26993474, -0.36977142],\n",
       "         [-0.40127933, -0.33800063, -0.46177003],\n",
       "         [-0.51552826, -0.44779947, -0.59391874],\n",
       "         ...,\n",
       "         [-0.37552583, -0.33512044, -0.41800302],\n",
       "         [-0.38543177, -0.3536035 , -0.44433442],\n",
       "         [-0.43088198, -0.39812064, -0.49362707]],\n",
       "\n",
       "        [[-0.38848037, -0.34411764, -0.4573529 ],\n",
       "         [-0.49568394, -0.4378178 , -0.5558287 ],\n",
       "         [-0.6077895 , -0.54488355, -0.6735562 ],\n",
       "         ...,\n",
       "         [-0.35747164, -0.32454425, -0.37867644],\n",
       "         [-0.33711317, -0.31177235, -0.38189337],\n",
       "         [-0.3343137 , -0.3213235 , -0.38848037]],\n",
       "\n",
       "        [[-0.52941173, -0.46666664, -0.5921568 ],\n",
       "         [-0.6242647 , -0.55625   , -0.66593134],\n",
       "         [-0.70257354, -0.6390931 , -0.74105394],\n",
       "         ...,\n",
       "         [-0.36752447, -0.3290441 , -0.372549  ],\n",
       "         [-0.34142154, -0.310049  , -0.35968134],\n",
       "         [-0.3098039 , -0.27843136, -0.3333333 ]]]], dtype=float32)"
      ]
     },
     "execution_count": 16,
     "metadata": {},
     "output_type": "execute_result"
    }
   ],
   "source": [
    "next(iter(degree_0_ds)).numpy()"
   ]
  },
  {
   "cell_type": "code",
   "execution_count": 18,
   "metadata": {},
   "outputs": [
    {
     "data": {
      "text/plain": [
       "<matplotlib.image.AxesImage at 0x7f124c54add8>"
      ]
     },
     "execution_count": 18,
     "metadata": {},
     "output_type": "execute_result"
    },
    {
     "data": {
      "image/png": "[encoded data removed]",
      "text/plain": [
       "<Figure size 432x288 with 1 Axes>"
      ]
     },
     "metadata": {
      "needs_background": "light"
     },
     "output_type": "display_data"
    }
   ],
   "source": [
    "x = next(iter(degree_0_ds)).numpy() * 0.5 + 0.5\n",
    "plt.figure()\n",
    "plt.imshow(x[0])"
   ]
  },
  {
   "cell_type": "code",
   "execution_count": 19,
   "metadata": {},
   "outputs": [],
   "source": [
    "layers = tf.keras.layers\n",
    "def make_generator_model():\n",
    "    model = tf.keras.Sequential()\n",
    "    model.add(layers.Dense(12*12*256, use_bias=False, input_shape=(100,)))\n",
    "    model.add(layers.BatchNormalization())\n",
    "    model.add(layers.LeakyReLU())\n",
    "\n",
    "    model.add(layers.Reshape((12, 12, 256)))\n",
    "    assert model.output_shape == (None, 12, 12, 256) # Note: None is the batch size\n",
    "\n",
    "    model.add(layers.Conv2DTranspose(128, (5, 5), strides=(1, 1), padding='same', use_bias=False))\n",
    "    assert model.output_shape == (None, 12, 12, 128)\n",
    "    model.add(layers.BatchNormalization())\n",
    "    model.add(layers.LeakyReLU())\n",
    "\n",
    "    model.add(layers.Conv2DTranspose(64, (5, 5), strides=(2, 2), padding='same', use_bias=False))\n",
    "    assert model.output_shape == (None, 24, 24, 64)\n",
    "    model.add(layers.BatchNormalization())\n",
    "    model.add(layers.LeakyReLU())\n",
    "    \n",
    "    model.add(layers.Conv2DTranspose(32, (5, 5), strides=(2, 2), padding='same', use_bias=False))\n",
    "    assert model.output_shape == (None, 48, 48, 32)\n",
    "    model.add(layers.BatchNormalization())\n",
    "    model.add(layers.LeakyReLU())\n",
    "\n",
    "    model.add(layers.Conv2DTranspose(3, (5, 5), strides=(2, 2), padding='same', use_bias=False, activation='tanh'))\n",
    "    assert model.output_shape == (None, 96, 96, 3)\n",
    "\n",
    "    return model"
   ]
  },
  {
   "cell_type": "code",
   "execution_count": 20,
   "metadata": {},
   "outputs": [],
   "source": [
    "generator = make_generator_model()\n",
    "\n",
    "noise = tf.random.normal([1, 100])\n",
    "generated_image = generator(noise, training=False)"
   ]
  },
  {
   "cell_type": "code",
   "execution_count": 23,
   "metadata": {},
   "outputs": [
    {
     "data": {
      "text/plain": [
       "<tf.Tensor: shape=(96, 96, 3), dtype=float32, numpy=\n",
       "array([[[-1.61104367e-06,  4.03775521e-05, -1.24141297e-04],\n",
       "        [ 2.55194871e-04, -4.94407199e-04,  5.61132154e-04],\n",
       "        [-7.50331674e-06, -6.44333068e-06,  2.57461303e-04],\n",
       "        ...,\n",
       "        [-2.37739156e-03, -2.81891844e-05,  8.62197485e-04],\n",
       "        [ 5.82475099e-04,  3.35705932e-04, -1.30191082e-04],\n",
       "        [ 9.52996634e-05, -1.24606211e-03, -3.55399417e-04]],\n",
       "\n",
       "       [[ 1.67131861e-04, -3.09205701e-04,  7.50114152e-04],\n",
       "        [-1.71060034e-03,  6.66735112e-04, -1.40274887e-03],\n",
       "        [-2.98884086e-04,  1.28954111e-04,  2.16984481e-05],\n",
       "        ...,\n",
       "        [-1.59102352e-03, -1.17971550e-03, -2.64505506e-03],\n",
       "        [ 1.08019495e-03,  4.97690577e-04, -2.63246987e-03],\n",
       "        [ 9.53321171e-04, -2.62316922e-03, -1.27128582e-03]],\n",
       "\n",
       "       [[-2.09483434e-04,  3.42394458e-04, -1.40674078e-04],\n",
       "        [-3.38756945e-06,  6.09265408e-04, -4.86898207e-04],\n",
       "        [-7.84932752e-04,  3.31886840e-04,  9.16090794e-05],\n",
       "        ...,\n",
       "        [ 6.50749716e-04, -1.69895077e-03,  4.99074988e-04],\n",
       "        [ 9.71615897e-04,  2.02398933e-03, -1.06810930e-03],\n",
       "        [ 3.21510481e-03, -1.00964902e-03, -4.03484562e-04]],\n",
       "\n",
       "       ...,\n",
       "\n",
       "       [[ 2.52738758e-03, -3.07249720e-05, -1.09627465e-04],\n",
       "        [ 8.68507370e-04,  8.36120220e-04,  1.77212665e-03],\n",
       "        [-7.28437153e-04,  1.56960660e-03, -2.71646096e-03],\n",
       "        ...,\n",
       "        [ 8.51414981e-04,  3.24307405e-03,  3.81010841e-03],\n",
       "        [-2.20320071e-03,  1.00498949e-03,  3.99393030e-05],\n",
       "        [ 5.58927422e-05, -6.01728866e-03,  3.14528705e-03]],\n",
       "\n",
       "       [[-8.07118544e-04,  9.34819516e-04, -2.85994611e-06],\n",
       "        [-2.18833331e-04,  2.18771078e-04,  4.61776217e-04],\n",
       "        [-1.76995655e-03,  1.82225223e-04, -1.46526669e-03],\n",
       "        ...,\n",
       "        [-3.32912873e-03, -2.07006861e-03, -3.93457245e-03],\n",
       "        [-1.88353471e-04,  3.87534383e-05, -1.99026312e-04],\n",
       "        [ 1.30916398e-03, -3.71949957e-03,  9.44769825e-04]],\n",
       "\n",
       "       [[ 7.41294934e-04, -9.05607129e-04, -1.44006248e-04],\n",
       "        [ 1.57854659e-03,  1.62079546e-03,  8.32860416e-04],\n",
       "        [-4.51319705e-04, -3.70258931e-06,  9.16215940e-04],\n",
       "        ...,\n",
       "        [ 3.36929387e-03,  1.56690643e-04, -1.99893676e-03],\n",
       "        [ 1.22779945e-03,  1.47817598e-03, -8.84606387e-04],\n",
       "        [-1.82639400e-03,  3.65150627e-05,  5.73787431e-04]]],\n",
       "      dtype=float32)>"
      ]
     },
     "execution_count": 23,
     "metadata": {},
     "output_type": "execute_result"
    }
   ],
   "source": [
    "generated_image[0, :, :, :]"
   ]
  },
  {
   "cell_type": "code",
   "execution_count": 22,
   "metadata": {},
   "outputs": [
    {
     "name": "stderr",
     "output_type": "stream",
     "text": [
      "Clipping input data to the valid range for imshow with RGB data ([0..1] for floats or [0..255] for integers).\n"
     ]
    },
    {
     "data": {
      "text/plain": [
       "<matplotlib.image.AxesImage at 0x7f13451dc0f0>"
      ]
     },
     "execution_count": 22,
     "metadata": {},
     "output_type": "execute_result"
    },
    {
     "data": {
      "image/png": "[encoded data removed]",
      "text/plain": [
       "<Figure size 432x288 with 1 Axes>"
      ]
     },
     "metadata": {
      "needs_background": "light"
     },
     "output_type": "display_data"
    }
   ],
   "source": [
    "plt.imshow(generated_image[0, :, :, :])"
   ]
  },
  {
   "cell_type": "code",
   "execution_count": 24,
   "metadata": {},
   "outputs": [],
   "source": [
    "def make_discriminator_model():\n",
    "    model = tf.keras.Sequential()\n",
    "    model.add(layers.Conv2D(32, (5, 5), strides=(2, 2), padding='same',\n",
    "                                     input_shape=[96, 96, 3]))\n",
    "    model.add(layers.LeakyReLU())\n",
    "    model.add(layers.Dropout(0.3))\n",
    "    \n",
    "    model.add(layers.Conv2D(64, (5, 5), strides=(2, 2), padding='same'))\n",
    "    model.add(layers.LeakyReLU())\n",
    "    model.add(layers.Dropout(0.3))\n",
    "\n",
    "    model.add(layers.Conv2D(128, (5, 5), strides=(2, 2), padding='same'))\n",
    "    model.add(layers.LeakyReLU())\n",
    "    model.add(layers.Dropout(0.3))\n",
    "\n",
    "    model.add(layers.Flatten())\n",
    "    model.add(layers.Dense(1))\n",
    "\n",
    "    return model"
   ]
  },
  {
   "cell_type": "code",
   "execution_count": 25,
   "metadata": {},
   "outputs": [
    {
     "name": "stdout",
     "output_type": "stream",
     "text": [
      "tf.Tensor([[-0.00136578]], shape=(1, 1), dtype=float32)\n"
     ]
    }
   ],
   "source": [
    "discriminator = make_discriminator_model()\n",
    "decision = discriminator(generated_image)\n",
    "print (decision)"
   ]
  },
  {
   "cell_type": "markdown",
   "metadata": {},
   "source": [
    "# Define the loss and optimizers"
   ]
  },
  {
   "cell_type": "code",
   "execution_count": 26,
   "metadata": {},
   "outputs": [],
   "source": [
    "# This method returns a helper function to compute cross entropy loss\n",
    "cross_entropy = tf.keras.losses.BinaryCrossentropy(from_logits=True)"
   ]
  },
  {
   "cell_type": "code",
   "execution_count": 27,
   "metadata": {},
   "outputs": [],
   "source": [
    "# real images to an array of 1s, and the discriminator's predictions on fake (generated) images to an array of 0s\n",
    "def discriminator_loss(real_output, fake_output):\n",
    "    real_loss = cross_entropy(tf.ones_like(real_output), real_output)\n",
    "    fake_loss = cross_entropy(tf.zeros_like(fake_output), fake_output)\n",
    "    total_loss = real_loss + fake_loss\n",
    "    return total_loss"
   ]
  },
  {
   "cell_type": "code",
   "execution_count": 28,
   "metadata": {},
   "outputs": [],
   "source": [
    "def generator_loss(fake_output):\n",
    "    return cross_entropy(tf.ones_like(fake_output), fake_output)"
   ]
  },
  {
   "cell_type": "code",
   "execution_count": 29,
   "metadata": {},
   "outputs": [],
   "source": [
    "generator_optimizer = tf.keras.optimizers.Adam(1e-4)\n",
    "discriminator_optimizer = tf.keras.optimizers.Adam(1e-4)"
   ]
  },
  {
   "cell_type": "markdown",
   "metadata": {},
   "source": [
    "# CheckPoints - helpful in case a long running training task is interrupted. "
   ]
  },
  {
   "cell_type": "code",
   "execution_count": 31,
   "metadata": {},
   "outputs": [],
   "source": [
    "checkpoint_dir = '/tf/training_checkpoints'\n",
    "checkpoint_prefix = os.path.join(checkpoint_dir, \"ckpt\")\n",
    "checkpoint = tf.train.Checkpoint(generator_optimizer=generator_optimizer,\n",
    "                                 discriminator_optimizer=discriminator_optimizer,\n",
    "                                 generator=generator,\n",
    "                                 discriminator=discriminator)"
   ]
  },
  {
   "cell_type": "markdown",
   "metadata": {},
   "source": [
    "# Define the training loop"
   ]
  },
  {
   "cell_type": "code",
   "execution_count": 32,
   "metadata": {},
   "outputs": [],
   "source": [
    "EPOCHS = 50\n",
    "noise_dim = 100\n",
    "num_examples_to_generate = 16\n",
    "\n",
    "# We will reuse this seed overtime (so it's easier)\n",
    "# to visualize progress in the animated GIF)\n",
    "seed = tf.random.normal([num_examples_to_generate, noise_dim])"
   ]
  },
  {
   "cell_type": "code",
   "execution_count": 33,
   "metadata": {},
   "outputs": [],
   "source": [
    "# Notice the use of `tf.function`\n",
    "# This annotation causes the function to be \"compiled\".\n",
    "@tf.function\n",
    "def train_step(images):\n",
    "    noise = tf.random.normal([BATCH_SIZE, noise_dim])\n",
    "\n",
    "    with tf.GradientTape() as gen_tape, tf.GradientTape() as disc_tape:\n",
    "      generated_images = generator(noise, training=True)\n",
    "\n",
    "      real_output = discriminator(images, training=True)\n",
    "      fake_output = discriminator(generated_images, training=True)\n",
    "\n",
    "      gen_loss = generator_loss(fake_output)\n",
    "      disc_loss = discriminator_loss(real_output, fake_output)\n",
    "\n",
    "    gradients_of_generator = gen_tape.gradient(gen_loss, generator.trainable_variables)\n",
    "    gradients_of_discriminator = disc_tape.gradient(disc_loss, discriminator.trainable_variables)\n",
    "\n",
    "    generator_optimizer.apply_gradients(zip(gradients_of_generator, generator.trainable_variables))\n",
    "    discriminator_optimizer.apply_gradients(zip(gradients_of_discriminator, discriminator.trainable_variables))"
   ]
  },
  {
   "cell_type": "code",
   "execution_count": 34,
   "metadata": {},
   "outputs": [],
   "source": [
    "def generate_and_save_images(model, epoch, test_input):\n",
    "  # Notice `training` is set to False.\n",
    "  # This is so all layers run in inference mode (batchnorm).\n",
    "  predictions = model(test_input, training=False)\n",
    "\n",
    "  fig = plt.figure(figsize=(4,4))\n",
    "\n",
    "  for i in range(predictions.shape[0]):\n",
    "      plt.subplot(4, 4, i+1)\n",
    "      plt.imshow(predictions[i, :, :, :] * 0.5 + 0.5)\n",
    "      plt.axis('off')\n",
    "\n",
    "  plt.savefig('/tf/robertnb/image_at_epoch_{:04d}.png'.format(epoch))\n",
    "  plt.show()"
   ]
  },
  {
   "cell_type": "code",
   "execution_count": 35,
   "metadata": {},
   "outputs": [],
   "source": [
    "def train(dataset, epochs):\n",
    "  for epoch in range(epochs):\n",
    "    start = time.time()\n",
    "\n",
    "    for image_batch in dataset:\n",
    "      train_step(image_batch)\n",
    "\n",
    "    # Produce images for the GIF as we go\n",
    "    display.clear_output(wait=True)\n",
    "    generate_and_save_images(generator,\n",
    "                             epoch + 1,\n",
    "                             seed)\n",
    "\n",
    "    # Save the model every 15 epochs\n",
    "    if (epoch + 1) % 15 == 0:\n",
    "      checkpoint.save(file_prefix = checkpoint_prefix)\n",
    "\n",
    "    print ('Time for epoch {} is {} sec'.format(epoch + 1, time.time()-start))\n",
    "\n",
    "  # Generate after the final epoch\n",
    "  display.clear_output(wait=True)\n",
    "  generate_and_save_images(generator,\n",
    "                           epochs,\n",
    "                           seed)"
   ]
  },
  {
   "cell_type": "markdown",
   "metadata": {},
   "source": [
    "# TRAIN"
   ]
  },
  {
   "cell_type": "code",
   "execution_count": 36,
   "metadata": {},
   "outputs": [
    {
     "data": {
      "image/png": "[encoded data removed]",
      "text/plain": [
       "<Figure size 288x288 with 16 Axes>"
      ]
     },
     "metadata": {
      "needs_background": "light"
     },
     "output_type": "display_data"
    }
   ],
   "source": [
    "train(degree_0_ds, EPOCHS)"
   ]
  },
  {
   "cell_type": "markdown",
   "metadata": {},
   "source": [
    "# Restore CheckPoints"
   ]
  },
  {
   "cell_type": "code",
   "execution_count": 37,
   "metadata": {},
   "outputs": [
    {
     "data": {
      "text/plain": [
       "<tensorflow.python.training.tracking.util.CheckpointLoadStatus at 0x7f1344482048>"
      ]
     },
     "execution_count": 37,
     "metadata": {},
     "output_type": "execute_result"
    }
   ],
   "source": [
    "checkpoint.restore(tf.train.latest_checkpoint(checkpoint_dir))"
   ]
  },
  {
   "cell_type": "code",
   "execution_count": 39,
   "metadata": {},
   "outputs": [
    {
     "data": {
      "text/plain": [
       "<tf.Tensor: shape=(16, 96, 96, 3), dtype=float32, numpy=\n",
       "array([[[[-0.53460556, -0.5044894 , -0.5806381 ],\n",
       "         [-0.64344394, -0.564259  , -0.6268725 ],\n",
       "         [-0.7038529 , -0.6091543 , -0.7116569 ],\n",
       "         ...,\n",
       "         [-0.7760157 , -0.711427  , -0.8177697 ],\n",
       "         [-0.7973349 , -0.68952215, -0.7721234 ],\n",
       "         [-0.7022891 , -0.58345294, -0.67807364]],\n",
       "\n",
       "        [[-0.6724405 , -0.5587019 , -0.6812798 ],\n",
       "         [-0.6660475 , -0.610595  , -0.7270235 ],\n",
       "         [-0.7201923 , -0.61905766, -0.74597764],\n",
       "         ...,\n",
       "         [-0.7955178 , -0.73359394, -0.8666234 ],\n",
       "         [-0.85215485, -0.7730636 , -0.8328147 ],\n",
       "         [-0.7826319 , -0.6483133 , -0.81980056]],\n",
       "\n",
       "        [[-0.669173  , -0.6009496 , -0.6946052 ],\n",
       "         [-0.699533  , -0.62384856, -0.7142414 ],\n",
       "         [-0.70826906, -0.59664965, -0.6958017 ],\n",
       "         ...,\n",
       "         [-0.8776219 , -0.79784846, -0.8601813 ],\n",
       "         [-0.89761096, -0.83041704, -0.8874928 ],\n",
       "         [-0.8413292 , -0.75173616, -0.8469684 ]],\n",
       "\n",
       "        ...,\n",
       "\n",
       "        [[-0.69982874, -0.5883286 , -0.7007129 ],\n",
       "         [-0.63723475, -0.57867354, -0.76208085],\n",
       "         [-0.73742354, -0.608461  , -0.77299476],\n",
       "         ...,\n",
       "         [-0.72211254, -0.62279356, -0.77509296],\n",
       "         [-0.7587602 , -0.6607055 , -0.728058  ],\n",
       "         [-0.70310605, -0.5929725 , -0.7253754 ]],\n",
       "\n",
       "        [[-0.73159426, -0.6294553 , -0.7281482 ],\n",
       "         [-0.71605474, -0.6104523 , -0.76124686],\n",
       "         [-0.7802993 , -0.6467235 , -0.7803462 ],\n",
       "         ...,\n",
       "         [-0.71879363, -0.6198209 , -0.7207633 ],\n",
       "         [-0.7668482 , -0.6058224 , -0.7047862 ],\n",
       "         [-0.7084795 , -0.5943154 , -0.7102804 ]],\n",
       "\n",
       "        [[-0.66830814, -0.63399833, -0.66557884],\n",
       "         [-0.69107527, -0.610953  , -0.75971484],\n",
       "         [-0.75065297, -0.67042804, -0.7805755 ],\n",
       "         ...,\n",
       "         [-0.6759478 , -0.5706686 , -0.7004607 ],\n",
       "         [-0.66733265, -0.5905286 , -0.6651226 ],\n",
       "         [-0.64712465, -0.5030769 , -0.6699398 ]]],\n",
       "\n",
       "\n",
       "       [[[-0.67652607, -0.63266253, -0.7186498 ],\n",
       "         [-0.797087  , -0.7220445 , -0.78323895],\n",
       "         [-0.8531529 , -0.7576705 , -0.8484697 ],\n",
       "         ...,\n",
       "         [-0.70212317, -0.62950104, -0.71060085],\n",
       "         [-0.7098875 , -0.5969239 , -0.6701915 ],\n",
       "         [-0.6171262 , -0.46765023, -0.5666186 ]],\n",
       "\n",
       "        [[-0.8151709 , -0.71400297, -0.82266766],\n",
       "         [-0.82835686, -0.76392776, -0.87012094],\n",
       "         [-0.8828376 , -0.7869942 , -0.89512426],\n",
       "         ...,\n",
       "         [-0.69313693, -0.6097796 , -0.72680336],\n",
       "         [-0.7422129 , -0.6351713 , -0.69158995],\n",
       "         [-0.6560214 , -0.50238967, -0.6927681 ]],\n",
       "\n",
       "        [[-0.80497   , -0.72920156, -0.8316507 ],\n",
       "         [-0.85377026, -0.7655734 , -0.84603095],\n",
       "         [-0.8547562 , -0.7466736 , -0.8499926 ],\n",
       "         ...,\n",
       "         [-0.7038778 , -0.5916858 , -0.65953195],\n",
       "         [-0.74427986, -0.6237265 , -0.66815823],\n",
       "         [-0.67690694, -0.5579542 , -0.66271555]],\n",
       "\n",
       "        ...,\n",
       "\n",
       "        [[-0.6599896 , -0.57199347, -0.7105744 ],\n",
       "         [-0.59523726, -0.55473244, -0.75238764],\n",
       "         [-0.6797715 , -0.5436492 , -0.74607545],\n",
       "         ...,\n",
       "         [-0.7303065 , -0.6391796 , -0.80269873],\n",
       "         [-0.7543308 , -0.6561218 , -0.75229836],\n",
       "         [-0.6770611 , -0.5674579 , -0.7126657 ]],\n",
       "\n",
       "        [[-0.6756618 , -0.58248186, -0.71906173],\n",
       "         [-0.64642626, -0.54873013, -0.73353314],\n",
       "         [-0.6811391 , -0.5723667 , -0.7515814 ],\n",
       "         ...,\n",
       "         [-0.7376845 , -0.6463047 , -0.7574004 ],\n",
       "         [-0.7740305 , -0.61795115, -0.73374593],\n",
       "         [-0.7052978 , -0.5925872 , -0.7198465 ]],\n",
       "\n",
       "        [[-0.6053742 , -0.58619034, -0.6257386 ],\n",
       "         [-0.6206506 , -0.56615806, -0.72397745],\n",
       "         [-0.681232  , -0.5855875 , -0.74280167],\n",
       "         ...,\n",
       "         [-0.70899785, -0.6198931 , -0.73792976],\n",
       "         [-0.6932534 , -0.621856  , -0.70051485],\n",
       "         [-0.66663367, -0.52473253, -0.6988561 ]]],\n",
       "\n",
       "\n",
       "       [[[-0.5499211 , -0.515569  , -0.59476954],\n",
       "         [-0.66859174, -0.58701396, -0.65544164],\n",
       "         [-0.73051226, -0.6296352 , -0.7332524 ],\n",
       "         ...,\n",
       "         [-0.6602939 , -0.5917877 , -0.6753798 ],\n",
       "         [-0.6815235 , -0.5711761 , -0.6466352 ],\n",
       "         [-0.58961093, -0.45249048, -0.5460576 ]],\n",
       "\n",
       "        [[-0.70212877, -0.5892099 , -0.7153889 ],\n",
       "         [-0.70557964, -0.6431555 , -0.7661817 ],\n",
       "         [-0.7684998 , -0.66724896, -0.7947741 ],\n",
       "         ...,\n",
       "         [-0.6625047 , -0.58780867, -0.70431924],\n",
       "         [-0.7187671 , -0.62341154, -0.67339164],\n",
       "         [-0.63757086, -0.48942536, -0.6746636 ]],\n",
       "\n",
       "        [[-0.70700896, -0.634053  , -0.7347729 ],\n",
       "         [-0.7559221 , -0.6733885 , -0.7571118 ],\n",
       "         [-0.7694447 , -0.6580814 , -0.7655275 ],\n",
       "         ...,\n",
       "         [-0.6954634 , -0.59737337, -0.6599782 ],\n",
       "         [-0.73357   , -0.62022454, -0.6732482 ],\n",
       "         [-0.6686608 , -0.5617515 , -0.6639968 ]],\n",
       "\n",
       "        ...,\n",
       "\n",
       "        [[-0.57371503, -0.46953282, -0.62152237],\n",
       "         [-0.47234327, -0.45759988, -0.6556969 ],\n",
       "         [-0.5888719 , -0.4591728 , -0.67237496],\n",
       "         ...,\n",
       "         [-0.70764095, -0.5758419 , -0.7496926 ],\n",
       "         [-0.7226472 , -0.61010414, -0.6910247 ],\n",
       "         [-0.64557636, -0.5135896 , -0.6516346 ]],\n",
       "\n",
       "        [[-0.5976    , -0.5101624 , -0.64283705],\n",
       "         [-0.5505415 , -0.48425627, -0.6613158 ],\n",
       "         [-0.6156626 , -0.50121903, -0.6855724 ],\n",
       "         ...,\n",
       "         [-0.6765859 , -0.5844773 , -0.6811446 ],\n",
       "         [-0.72298   , -0.54670304, -0.6590276 ],\n",
       "         [-0.6695414 , -0.5389845 , -0.6711247 ]],\n",
       "\n",
       "        [[-0.54248166, -0.52493244, -0.5625453 ],\n",
       "         [-0.56759703, -0.5246718 , -0.670641  ],\n",
       "         [-0.6409233 , -0.55849624, -0.6989456 ],\n",
       "         ...,\n",
       "         [-0.6497389 , -0.5637715 , -0.6706906 ],\n",
       "         [-0.63520217, -0.5620206 , -0.63220817],\n",
       "         [-0.60437024, -0.47486576, -0.64169097]]],\n",
       "\n",
       "\n",
       "       ...,\n",
       "\n",
       "\n",
       "       [[[-0.45923886, -0.4434333 , -0.515761  ],\n",
       "         [-0.5477373 , -0.47251967, -0.5380624 ],\n",
       "         [-0.60775304, -0.5437025 , -0.6458852 ],\n",
       "         ...,\n",
       "         [-0.6851343 , -0.6534855 , -0.77602077],\n",
       "         [-0.72266746, -0.62702024, -0.7345281 ],\n",
       "         [-0.62825584, -0.5467911 , -0.6462574 ]],\n",
       "\n",
       "        [[-0.5659188 , -0.45340914, -0.5828301 ],\n",
       "         [-0.5319278 , -0.49983886, -0.60922825],\n",
       "         [-0.5331907 , -0.45531043, -0.616495  ],\n",
       "         ...,\n",
       "         [-0.6887504 , -0.6750592 , -0.8237214 ],\n",
       "         [-0.78238213, -0.7125745 , -0.8079387 ],\n",
       "         [-0.697821  , -0.6083702 , -0.78887916]],\n",
       "\n",
       "        [[-0.5743511 , -0.5188988 , -0.60054064],\n",
       "         [-0.56662667, -0.4892141 , -0.61198497],\n",
       "         [-0.54662484, -0.42354318, -0.544719  ],\n",
       "         ...,\n",
       "         [-0.84808916, -0.79537183, -0.87320143],\n",
       "         [-0.8774204 , -0.8244411 , -0.90748286],\n",
       "         [-0.81859076, -0.753945  , -0.86291087]],\n",
       "\n",
       "        ...,\n",
       "\n",
       "        [[-0.36590096, -0.26470494, -0.39876193],\n",
       "         [-0.28270727, -0.27604598, -0.44590777],\n",
       "         [-0.4138392 , -0.297653  , -0.49932837],\n",
       "         ...,\n",
       "         [-0.64950025, -0.509497  , -0.6577215 ],\n",
       "         [-0.66296434, -0.5382447 , -0.6045333 ],\n",
       "         [-0.5789273 , -0.43530694, -0.5709653 ]],\n",
       "\n",
       "        [[-0.47276703, -0.37514928, -0.48784205],\n",
       "         [-0.4275691 , -0.39373338, -0.5412129 ],\n",
       "         [-0.5884268 , -0.45714274, -0.6015192 ],\n",
       "         ...,\n",
       "         [-0.56318974, -0.47557387, -0.5551901 ],\n",
       "         [-0.6181606 , -0.42656898, -0.525585  ],\n",
       "         [-0.58244467, -0.44252142, -0.57443076]],\n",
       "\n",
       "        [[-0.4567336 , -0.43351942, -0.4474474 ],\n",
       "         [-0.5378966 , -0.47116998, -0.5959188 ],\n",
       "         [-0.6473396 , -0.57443076, -0.67201865],\n",
       "         ...,\n",
       "         [-0.5571875 , -0.471601  , -0.5609616 ],\n",
       "         [-0.5375496 , -0.4614112 , -0.529114  ],\n",
       "         [-0.49665385, -0.39557588, -0.53643835]]],\n",
       "\n",
       "\n",
       "       [[[-0.64495695, -0.60487676, -0.6915941 ],\n",
       "         [-0.7554976 , -0.68142533, -0.7397289 ],\n",
       "         [-0.81173   , -0.71906936, -0.81814116],\n",
       "         ...,\n",
       "         [-0.59277797, -0.5566504 , -0.66494775],\n",
       "         [-0.6249556 , -0.52036655, -0.60521096],\n",
       "         [-0.5319308 , -0.44209474, -0.5236714 ]],\n",
       "\n",
       "        [[-0.77257127, -0.663308  , -0.77575594],\n",
       "         [-0.7768031 , -0.7156488 , -0.8219579 ],\n",
       "         [-0.8267479 , -0.71961856, -0.84419274],\n",
       "         ...,\n",
       "         [-0.61415994, -0.56236446, -0.6905509 ],\n",
       "         [-0.68054473, -0.60535085, -0.6648518 ],\n",
       "         [-0.5957575 , -0.48699194, -0.65249246]],\n",
       "\n",
       "        [[-0.74465114, -0.67118967, -0.7739832 ],\n",
       "         [-0.7733321 , -0.6818831 , -0.77999806],\n",
       "         [-0.75820935, -0.6363349 , -0.7469858 ],\n",
       "         ...,\n",
       "         [-0.71843654, -0.6588266 , -0.712432  ],\n",
       "         [-0.778401  , -0.69669676, -0.7591628 ],\n",
       "         [-0.7060666 , -0.6162317 , -0.71799886]],\n",
       "\n",
       "        ...,\n",
       "\n",
       "        [[-0.68365896, -0.5887906 , -0.72752905],\n",
       "         [-0.605237  , -0.57452404, -0.7689546 ],\n",
       "         [-0.69355947, -0.54630226, -0.75961596],\n",
       "         ...,\n",
       "         [-0.77411866, -0.69558656, -0.8814535 ],\n",
       "         [-0.75768816, -0.66510797, -0.8153141 ],\n",
       "         [-0.70907736, -0.6443262 , -0.82096434]],\n",
       "\n",
       "        [[-0.710745  , -0.61497   , -0.7457546 ],\n",
       "         [-0.6726127 , -0.5665543 , -0.75254685],\n",
       "         [-0.70929164, -0.5867821 , -0.7648581 ],\n",
       "         ...,\n",
       "         [-0.8163346 , -0.6986176 , -0.8528472 ],\n",
       "         [-0.79789066, -0.70795286, -0.84680367],\n",
       "         [-0.74127305, -0.64295393, -0.7953924 ]],\n",
       "\n",
       "        [[-0.6470562 , -0.6238183 , -0.6601804 ],\n",
       "         [-0.6595057 , -0.60747766, -0.75735855],\n",
       "         [-0.7185608 , -0.629494  , -0.77471185],\n",
       "         ...,\n",
       "         [-0.75959074, -0.63189197, -0.80139273],\n",
       "         [-0.73198867, -0.6401616 , -0.7861597 ],\n",
       "         [-0.67902243, -0.5532063 , -0.77208644]]],\n",
       "\n",
       "\n",
       "       [[[-0.32638347, -0.34467855, -0.41492364],\n",
       "         [-0.3150498 , -0.23436542, -0.3511974 ],\n",
       "         [-0.2695668 , -0.29286054, -0.48591423],\n",
       "         ...,\n",
       "         [-0.27439216, -0.33468747, -0.4413841 ],\n",
       "         [-0.31201693, -0.262814  , -0.40885788],\n",
       "         [-0.26098818, -0.26883167, -0.3601794 ]],\n",
       "\n",
       "        [[-0.37569278, -0.23095104, -0.3613197 ],\n",
       "         [-0.21445128, -0.22086906, -0.3013989 ],\n",
       "         [ 0.01854141,  0.06554299, -0.18166295],\n",
       "         ...,\n",
       "         [-0.17025527, -0.25708476, -0.32391617],\n",
       "         [-0.16627078, -0.20406951, -0.3136984 ],\n",
       "         [-0.13147485, -0.1900132 , -0.333235  ]],\n",
       "\n",
       "        [[-0.29980013, -0.2660254 , -0.34032503],\n",
       "         [-0.07920668, -0.05632688, -0.20556256],\n",
       "         [ 0.23567393,  0.25669542,  0.13705789],\n",
       "         ...,\n",
       "         [-0.08868851, -0.1380943 , -0.28355867],\n",
       "         [-0.03093069, -0.09052382, -0.27445886],\n",
       "         [-0.09956995, -0.155451  , -0.31621847]],\n",
       "\n",
       "        ...,\n",
       "\n",
       "        [[-0.26421565, -0.19301607, -0.357025  ],\n",
       "         [-0.17782098, -0.19824894, -0.35652715],\n",
       "         [-0.30050108, -0.18798934, -0.44575894],\n",
       "         ...,\n",
       "         [-0.63647103, -0.5064167 , -0.68274605],\n",
       "         [-0.6412774 , -0.49778304, -0.60721797],\n",
       "         [-0.54500186, -0.39627367, -0.56625473]],\n",
       "\n",
       "        [[-0.38291997, -0.30021092, -0.43893233],\n",
       "         [-0.33170402, -0.30447403, -0.4908978 ],\n",
       "         [-0.4821653 , -0.37376466, -0.55413574],\n",
       "         ...,\n",
       "         [-0.5134756 , -0.46460202, -0.57537377],\n",
       "         [-0.5957918 , -0.39265224, -0.5362749 ],\n",
       "         [-0.6054876 , -0.4484105 , -0.5968833 ]],\n",
       "\n",
       "        [[-0.37654057, -0.3684738 , -0.38113514],\n",
       "         [-0.47634327, -0.43344757, -0.5432378 ],\n",
       "         [-0.5978271 , -0.5222173 , -0.6354982 ],\n",
       "         ...,\n",
       "         [-0.56832325, -0.50167984, -0.59423435],\n",
       "         [-0.5714458 , -0.48251677, -0.57598686],\n",
       "         [-0.54534394, -0.4365226 , -0.59740436]]]], dtype=float32)>"
      ]
     },
     "execution_count": 39,
     "metadata": {},
     "output_type": "execute_result"
    }
   ],
   "source": [
    "predictions = generator(seed, training=False)\n",
    "predictions\n",
    "#   fig = plt.figure(figsize=(4,4))\n",
    "\n",
    "#   for i in range(predictions.shape[0]):\n",
    "#       plt.subplot(4, 4, i+1)\n",
    "#       plt.imshow(predictions[i, :, :, :] * 0.5 + 0.5)\n",
    "#       plt.axis('off')"
   ]
  },
  {
   "cell_type": "code",
   "execution_count": 41,
   "metadata": {},
   "outputs": [
    {
     "data": {
      "text/plain": [
       "<matplotlib.image.AxesImage at 0x7f13353a20f0>"
      ]
     },
     "execution_count": 41,
     "metadata": {},
     "output_type": "execute_result"
    },
    {
     "data": {
      "image/png": "[encoded data removed]",
      "text/plain": [
       "<Figure size 432x288 with 1 Axes>"
      ]
     },
     "metadata": {
      "needs_background": "light"
     },
     "output_type": "display_data"
    }
   ],
   "source": [
    "plt.figure()\n",
    "plt.imshow(predictions[0, :, :, :] * 0.5 + 0.5)"
   ]
  },
  {
   "cell_type": "code",
   "execution_count": 46,
   "metadata": {},
   "outputs": [],
   "source": [
    "def convert_and_save(image, filename):\n",
    "    img = tf.image.convert_image_dtype(image, tf.uint8)\n",
    "#     img = tf.image.convert_image_dtype(predictions[0, :, :, :] * 0.5 + 0.5, tf.uint8)\n",
    "    encoded_img = tf.image.encode_png(img)\n",
    "    tf.io.write_file(\n",
    "                        filename= filename,\n",
    "                        contents= encoded_img,\n",
    "                        name=None\n",
    "                    )"
   ]
  },
  {
   "cell_type": "markdown",
   "metadata": {},
   "source": [
    "# Continue training from last checkpoints"
   ]
  },
  {
   "cell_type": "code",
   "execution_count": 54,
   "metadata": {},
   "outputs": [],
   "source": [
    "EPOCHS = 1000\n",
    "noise_dim = 100\n",
    "num_examples_to_generate = 10\n",
    "seed = tf.random.normal([num_examples_to_generate, noise_dim])\n",
    "\n",
    "def train_and_save_image(dataset, epochs):\n",
    "  for epoch in range(epochs):\n",
    "    if not os.path.exists('/tf/dcgan_generator_img/E'+str(epoch+1)):\n",
    "            os.makedirs('/tf/dcgan_generator_img/E'+str(epoch+1))\n",
    "    start = time.time()\n",
    "\n",
    "    for image_batch in dataset:\n",
    "      train_step(image_batch)\n",
    "\n",
    "    display.clear_output(wait=True)\n",
    "    predictions = generator(seed, training=False)\n",
    "    for i in range(predictions.shape[0]):\n",
    "        convert_and_save(predictions[i, :, :, :] * 0.5 + 0.5, '/tf/dcgan_generator_img/E'+str((epoch+1))+'/'+str(i)+'.png')\n",
    "\n",
    "    # Save the model every 15 epochs\n",
    "    if (epoch + 1) % 5 == 0:\n",
    "      checkpoint.save(file_prefix = checkpoint_prefix)\n",
    "\n",
    "    print ('Time for epoch {} is {} sec'.format(epoch + 1, time.time()-start))\n",
    "\n",
    "  # Generate after the final epoch\n",
    "  display.clear_output(wait=True)\n",
    "  predictions = generator(seed, training=False)\n",
    "  for i in range(predictions.shape[0]):\n",
    "        convert_and_save(predictions[i, :, :, :] * 0.5 + 0.5, '/tf/dcgan_generator_img/E'+str(epochs)+'/'+str(i)+'.png')\n"
   ]
  },
  {
   "cell_type": "code",
   "execution_count": null,
   "metadata": {},
   "outputs": [
    {
     "name": "stdout",
     "output_type": "stream",
     "text": [
      "Time for epoch 520 is 20.631237506866455 sec\n"
     ]
    }
   ],
   "source": [
    "train_and_save_image(degree_0_ds, EPOCHS)"
   ]
  },
  {
   "cell_type": "code",
   "execution_count": null,
   "metadata": {},
   "outputs": [],
   "source": []
  }
 ],
 "metadata": {
  "kernelspec": {
   "display_name": "Python 3",
   "language": "python",
   "name": "python3"
  },
  "language_info": {
   "codemirror_mode": {
    "name": "ipython",
    "version": 3
   },
   "file_extension": ".py",
   "mimetype": "text/x-python",
   "name": "python",
   "nbconvert_exporter": "python",
   "pygments_lexer": "ipython3",
   "version": "3.6.9"
  }
 },
 "nbformat": 4,
 "nbformat_minor": 4
}
