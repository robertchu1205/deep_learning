{
 "cells": [
  {
   "cell_type": "code",
   "execution_count": 1,
   "metadata": {},
   "outputs": [],
   "source": [
    "import sqlite3\n",
    "DB_PATH = \"/data/robert/training/p1-dip-metadata.db\"\n",
    "\n",
    "conn = sqlite3.connect(DB_PATH)\n",
    "# conn = sqlite3.connect(\":memory:\")\n",
    "c = conn.cursor()"
   ]
  },
  {
   "cell_type": "code",
   "execution_count": 2,
   "metadata": {},
   "outputs": [
    {
     "data": {
      "text/plain": [
       "(1190,)"
      ]
     },
     "execution_count": 2,
     "metadata": {},
     "output_type": "execute_result"
    }
   ],
   "source": [
    "c.execute(\"select count(*) from metadata where component_class='label' and label='NG'\").fetchone()"
   ]
  },
  {
   "cell_type": "code",
   "execution_count": 3,
   "metadata": {},
   "outputs": [],
   "source": [
    "import os, shutil\n",
    "target_comp_path = \"/data/aoi-wzs-p1-dip-fa-nvidia/5class_label/NG/\"\n",
    "srcs_labeled = c.execute(f\"\"\"\n",
    "    select path from metadata where component_class='label' and label='NG'\n",
    "\"\"\").fetchall()\n",
    "if not os.path.exists(target_comp_path):\n",
    "    os.makedirs(target_comp_path)\n",
    "for s in srcs_labeled:\n",
    "    shutil.copyfile(s[0], f\"{target_comp_path}{os.path.split(s[0])[1]}\")"
   ]
  },
  {
   "cell_type": "code",
   "execution_count": 4,
   "metadata": {},
   "outputs": [
    {
     "data": {
      "text/plain": [
       "[('000', 15541), ('090', 1720), ('180', 2450), ('270', 1866)]"
      ]
     },
     "execution_count": 4,
     "metadata": {},
     "output_type": "execute_result"
    }
   ],
   "source": [
    "c.execute(\"select degree, count(*) from metadata where component_class='label' and label='OK' group by degree\").fetchall()"
   ]
  },
  {
   "cell_type": "code",
   "execution_count": 5,
   "metadata": {},
   "outputs": [],
   "source": [
    "import os, shutil\n",
    "target_path = \"/data/aoi-wzs-p1-dip-fa-nvidia/5class_label/\"\n",
    "for degree in ['000', '090', '180', '270']:\n",
    "    srcs_labeled = c.execute(f\"\"\"\n",
    "        select path from metadata where component_class='label' and label='OK' and degree='{degree}'\n",
    "    \"\"\").fetchall()\n",
    "    target_comp_path = f\"{target_path}{degree}/\"\n",
    "    if not os.path.exists(target_comp_path):\n",
    "        os.makedirs(target_comp_path)\n",
    "    for s in srcs_labeled:\n",
    "        shutil.copyfile(s[0], f\"{target_comp_path}{os.path.split(s[0])[1]}\")"
   ]
  }
 ],
 "metadata": {
  "kernelspec": {
   "display_name": "Python 3",
   "language": "python",
   "name": "python3"
  },
  "language_info": {
   "codemirror_mode": {
    "name": "ipython",
    "version": 3
   },
   "file_extension": ".py",
   "mimetype": "text/x-python",
   "name": "python",
   "nbconvert_exporter": "python",
   "pygments_lexer": "ipython3",
   "version": "3.6.9"
  }
 },
 "nbformat": 4,
 "nbformat_minor": 4
}
