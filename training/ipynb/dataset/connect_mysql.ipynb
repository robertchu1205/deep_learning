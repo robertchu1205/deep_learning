{
 "cells": [
  {
   "cell_type": "markdown",
   "metadata": {},
   "source": [
    "### mysql Table Schema ( NULL if empty )\n",
    "| column | type | description |\n",
    "| --- | --- | --- |\n",
    "| path | text (primary key) | |\n",
    "| filename | text (not null) | XX.xxx |\n",
    "| date | text | YYYYMMDD |\n",
    "| label | text | |\n",
    "| online_test | text | OK/NG/Overkill/Leak |\n",
    "| SN | text | 版號 |\n",
    "| location | text (not null) | 位號 |\n",
    "| component | text (not null) | 元件代號 |\n",
    "| degree | text | 正確角度( 000, 090, 180, 270 ) |\n",
    "| capacity | text | 正確容值 |\n",
    "| voltage | text | 正確耐壓值 |\n",
    "| index_count | text | in case images replaced |\n",
    "| part_name | text | 料號 |\n",
    "| width | integer | 圖片寬 |\n",
    "| height | integer | 圖片長 |\n",
    "| file_url | text | file-server-url |"
   ]
  },
  {
   "cell_type": "code",
   "execution_count": 1,
   "metadata": {},
   "outputs": [
    {
     "data": {
      "text/plain": [
       "('/data/aoi-wzs-p1-dip-fa-nvidia/image/20190808/OK/CN0C2GT0WS30098200H8A06_L-J-T340-NG_270_000_000.jpg',\n",
       " 'CN0C2GT0WS30098200H8A06_L-J-T340-NG_270_000_000.jpg',\n",
       " '20190808',\n",
       " 'OK',\n",
       " 'CN0C2GT0WS30098200H8A06',\n",
       " 'L-J-T340-NG',\n",
       " '270',\n",
       " '000',\n",
       " '000',\n",
       " 'label',\n",
       " 765,\n",
       " 823)"
      ]
     },
     "execution_count": 1,
     "metadata": {},
     "output_type": "execute_result"
    }
   ],
   "source": [
    "sample_data_from_sqlite3 = ('/data/aoi-wzs-p1-dip-fa-nvidia/image/20190808/OK/CN0C2GT0WS30098200H8A06_L-J-T340-NG_270_000_000.jpg', 'CN0C2GT0WS30098200H8A06_L-J-T340-NG_270_000_000.jpg', '20190808', 'OK', 'CN0C2GT0WS30098200H8A06', 'L-J-T340-NG', '270', '000', '000', 'label', 765, 823)\n",
    "sample_data_from_sqlite3"
   ]
  },
  {
   "cell_type": "code",
   "execution_count": 10,
   "metadata": {},
   "outputs": [],
   "source": [
    "# ! pip install mysql-connector-python-rf\n",
    "import mysql.connector\n",
    "\n",
    "mydb = mysql.connector.connect(\n",
    "  host=\"10.41.241.230\",\n",
    "  port=\"30003\",\n",
    "  user=\"aoi_ai\",\n",
    "  password=\"finding_way_out\",\n",
    "  database=\"P1\"\n",
    ")\n",
    "\n",
    "mycursor = mydb.cursor()"
   ]
  },
  {
   "cell_type": "code",
   "execution_count": 11,
   "metadata": {},
   "outputs": [
    {
     "name": "stdout",
     "output_type": "stream",
     "text": [
      "1062 (23000): Duplicate entry '/data/aoi-wzs-p1-dip-fa-nvidia/image/20190808/OK/CN0C2GT0WS30...' for key 'PRIMARY' ('/data/aoi-wzs-p1-dip-fa-nvidia/image/20190808/OK/CN0C2GT0WS30098200H8A06_L-J-T340-NG_270_000_000.jpg', 'CN0C2GT0WS30098200H8A06_L-J-T340-NG_270_000_000.jpg', '20190808', 'OK', 'CN0C2GT0WS30098200H8A06', 'L-J-T340-NG', '270', '000', '000', 'label', 765, 823)\n",
      "1406 (22001): Data too long for column 'voltage' at row 1 ('/data/aoi-wzs-p1-dip-fa-nvidia/image/20190909/OK/8SSB27A18611W5ZS99500FP_LabelMAC_270_000_0000.jpg', '8SSB27A18611W5ZS99500FP_LabelMAC_270_000_0000.jpg', '20190909', 'OK', '8SSB27A18611W5ZS99500FP', 'LabelMAC', '270', '000', '0000', 'label', 893, 1037)\n",
      "1406 (22001): Data too long for column 'capacity' at row 1 ('/data/aoi-wzs-p1-dip-fa-nvidia/data-center/D9/NOAI_Image/2020-09-17/ZHX168E26A020200917092932853_HS_U1_VNEST_0.jpg', 'ZHX168E26A020200917092932853_HS_U1_VNEST_0.jpg', '20200917', 'other', 'ZHX168E26A020200917092932853', 'HS', 'U1', 'VNEST', '0', 'heat_sink', 387, 407)\n",
      "1406 (22001): Data too long for column 'capacity' at row 1 ('/data/aoi-wzs-p1-dip-fa-nvidia/data-center/D9/NOAI_Image/2020-09-10/11S02WF038YA10UF06501V_HS_U1_VNEST_0.jpg', '11S02WF038YA10UF06501V_HS_U1_VNEST_0.jpg', '20200910', 'other', '11S02WF038YA10UF06501V', 'HS', 'U1', 'VNEST', '0', 'heat_sink', 380, 400)\n",
      "1 record inserted.\n"
     ]
    }
   ],
   "source": [
    "sql = \"INSERT INTO dip_fa (path, filename, date, label, online_test, SN, location, component, degree, capacity, voltage, index_count, part_name, width, height, file_url) VALUES (%s, %s, %s, %s, %s, %s, %s, %s, %s, %s, %s, %s, %s, %s, %s, %s)\"\n",
    "failed = []\n",
    "for x in xx:\n",
    "    try:\n",
    "        to_insert = (x[0], x[1], x[2], x[3], None, x[4], x[5], x[-3], x[6], x[7], x[8], None, None, x[-2], x[-1], '10.41.241.230:30038'+x[0])\n",
    "        mycursor.execute(sql, to_insert)\n",
    "        mydb.commit()\n",
    "    except Exception as e:\n",
    "        print(e, x)\n",
    "        failed.append(x)\n",
    "print(mycursor.rowcount, \"record inserted.\")"
   ]
  },
  {
   "cell_type": "code",
   "execution_count": 31,
   "metadata": {},
   "outputs": [],
   "source": [
    "mydb.close()"
   ]
  },
  {
   "cell_type": "markdown",
   "metadata": {},
   "source": [
    "##### it's too long to insert b64 decoded string of image. The length increase by images bytes. 3 bytes to 4 characters"
   ]
  },
  {
   "cell_type": "code",
   "execution_count": 23,
   "metadata": {},
   "outputs": [
    {
     "data": {
      "text/plain": [
       "104452"
      ]
     },
     "execution_count": 23,
     "metadata": {},
     "output_type": "execute_result"
    }
   ],
   "source": [
    "# import base64\n",
    "b64_image = base64.b64encode(open(x[0], \"rb\").read()).decode(\"utf-8\")\n",
    "len(b64_image)"
   ]
  }
 ],
 "metadata": {
  "kernelspec": {
   "display_name": "Python 3",
   "language": "python",
   "name": "python3"
  },
  "language_info": {
   "codemirror_mode": {
    "name": "ipython",
    "version": 3
   },
   "file_extension": ".py",
   "mimetype": "text/x-python",
   "name": "python",
   "nbconvert_exporter": "python",
   "pygments_lexer": "ipython3",
   "version": "3.6.9"
  }
 },
 "nbformat": 4,
 "nbformat_minor": 4
}
