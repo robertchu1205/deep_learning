{
 "cells": [
  {
   "cell_type": "markdown",
   "metadata": {},
   "source": [
    "### mysql"
   ]
  },
  {
   "cell_type": "code",
   "execution_count": 15,
   "metadata": {},
   "outputs": [],
   "source": [
    "# ! pip install mysql-connector-python-rf\n",
    "import mysql.connector\n",
    "\n",
    "mydb = mysql.connector.connect(\n",
    "  host=\"10.41.241.230\",\n",
    "  port=\"30003\",\n",
    "  user=\"aoi_ai\",\n",
    "  password=\"finding_way_out\",\n",
    ")\n",
    "\n",
    "mycursor = mydb.cursor()"
   ]
  },
  {
   "cell_type": "code",
   "execution_count": 33,
   "metadata": {},
   "outputs": [
    {
     "data": {
      "text/plain": [
       "37976"
      ]
     },
     "execution_count": 33,
     "metadata": {},
     "output_type": "execute_result"
    }
   ],
   "source": [
    "mycursor.execute(\"SELECT * FROM P3.dip_prewave where component='AluCap' and path like '%/dip-prewave-saiap/%'\")\n",
    "test = mycursor.fetchall()\n",
    "len(test)"
   ]
  },
  {
   "cell_type": "code",
   "execution_count": 34,
   "metadata": {},
   "outputs": [],
   "source": [
    "import os\n",
    "for t in test:\n",
    "    try:\n",
    "        directory, filename = os.path.split(t[0])\n",
    "        path = ''\n",
    "        for d in directory.split(os.path.sep):\n",
    "            try:\n",
    "                x = int(d)\n",
    "            except:\n",
    "                continue\n",
    "            if len(d)==4 and int(d)>0:\n",
    "                path = t[0].replace(d, '2020'+d)\n",
    "        if path == '':\n",
    "            print(t)\n",
    "            break\n",
    "        else:\n",
    "            try:\n",
    "                file_url = '10.41.241.230:30038'+path\n",
    "                sql = f\"update P3.dip_prewave set path='{path}', file_url='{file_url}' where path='{t[0]}'\"\n",
    "                mycursor.execute(sql)\n",
    "                mydb.commit()\n",
    "            except Exception as e:\n",
    "                print(e, t[0])\n",
    "                break\n",
    "    except Exception as e:\n",
    "        print(e, t)\n",
    "        break"
   ]
  },
  {
   "cell_type": "markdown",
   "metadata": {},
   "source": [
    "## check db in dip-prewave-saiap"
   ]
  },
  {
   "cell_type": "code",
   "execution_count": 1,
   "metadata": {},
   "outputs": [
    {
     "data": {
      "text/plain": [
       "257"
      ]
     },
     "execution_count": 1,
     "metadata": {},
     "output_type": "execute_result"
    }
   ],
   "source": [
    "import os, glob\n",
    "# /line/date/A4_result/PanelNo_eagle_location_component_degree_capacity_voltage_index.extension\n",
    "base_path = '/data/aoi-wzs-p3-dip-prewave-saiap/dip-prewave-saiap/*/0808/*/*.png' \n",
    "img_list = glob.glob(base_path)\n",
    "len(img_list)\n",
    "# for i in img_list:\n",
    "#     print(i)"
   ]
  },
  {
   "cell_type": "code",
   "execution_count": 11,
   "metadata": {},
   "outputs": [
    {
     "data": {
      "text/plain": [
       "49617"
      ]
     },
     "execution_count": 11,
     "metadata": {},
     "output_type": "execute_result"
    }
   ],
   "source": [
    "import os\n",
    "img_list = []\n",
    "base_path = '/data/aoi-wzs-p3-dip-prewave-saiap/dip-prewave-saiap/'\n",
    "for root, dirs, files in os.walk(base_path):\n",
    "    for img_file in files:\n",
    "        if img_file.endswith(\".png\") or img_file.endswith(\".bmp\") or img_file.endswith(\".jpg\"):\n",
    "            img_list.append(os.path.join(root, img_file))\n",
    "len(img_list)"
   ]
  },
  {
   "cell_type": "code",
   "execution_count": 17,
   "metadata": {},
   "outputs": [
    {
     "data": {
      "text/plain": [
       "9"
      ]
     },
     "execution_count": 17,
     "metadata": {},
     "output_type": "execute_result"
    }
   ],
   "source": [
    "ip_img_list = []\n",
    "for i in img_list:\n",
    "    if i.split('/')[-2] == 'InversePolarity':\n",
    "        ip_img_list.append(i)\n",
    "len(ip_img_list)"
   ]
  },
  {
   "cell_type": "code",
   "execution_count": 1,
   "metadata": {},
   "outputs": [],
   "source": [
    "import sqlite3, sys\n",
    "db_path = '/data/aoi-wzs-p3-dip-prewave-saiap/metadata.db'\n",
    "con = sqlite3.connect(db_path)\n",
    "c = con.cursor()"
   ]
  },
  {
   "cell_type": "code",
   "execution_count": 4,
   "metadata": {},
   "outputs": [
    {
     "data": {
      "text/plain": [
       "('20200729',)"
      ]
     },
     "execution_count": 4,
     "metadata": {},
     "output_type": "execute_result"
    }
   ],
   "source": [
    "c.execute('select date from metadata order by date desc').fetchone()"
   ]
  },
  {
   "cell_type": "code",
   "execution_count": 4,
   "metadata": {},
   "outputs": [
    {
     "data": {
      "text/plain": [
       "[('AluCap', 8380),\n",
       " ('ElecCap', 14092),\n",
       " ('L', 3066),\n",
       " ('PCI', 295),\n",
       " ('SATA', 1367)]"
      ]
     },
     "execution_count": 4,
     "metadata": {},
     "output_type": "execute_result"
    }
   ],
   "source": [
    "c.execute(\"\"\"select component, count(*) from new_metadata group by component\"\"\").fetchall()"
   ]
  },
  {
   "cell_type": "code",
   "execution_count": 3,
   "metadata": {},
   "outputs": [
    {
     "data": {
      "text/plain": [
       "[('AluCap', 492843),\n",
       " ('ElecCap', 140070),\n",
       " ('L', 149535),\n",
       " ('PCI', 918),\n",
       " ('SATA', 107778)]"
      ]
     },
     "execution_count": 3,
     "metadata": {},
     "output_type": "execute_result"
    }
   ],
   "source": [
    "c.execute(\"\"\"select component, count(*) from metadata group by component\"\"\").fetchall()"
   ]
  },
  {
   "cell_type": "code",
   "execution_count": 58,
   "metadata": {},
   "outputs": [
    {
     "name": "stdout",
     "output_type": "stream",
     "text": [
      "[('/data/aoi-wzs-p3-dip-prewave-saiap/dip-prewave-saiap/DA2/0724/Leak/InversePolarity/CN05GD68WS20007N00XLA00_355_0DG01_A001_TC3501_ElecCap_270_220_NA_0.png',)]\n",
      "[('/data/aoi-wzs-p3-dip-prewave-saiap/dip-prewave-saiap/DA2/0725/Leak/InversePolarity/CN05GD68WS20007P00BVA00_355_0DG01_A001_PT4706_AluCap_270_270_NA_0.png',)]\n"
     ]
    }
   ],
   "source": [
    "for ip in ip_img_list:\n",
    "    if int(ip.split(os.path.sep)[-4]) < 720:\n",
    "        continue\n",
    "    filename = ip.split(os.path.sep)[-1]\n",
    "    p = c.execute('select path from new_metadata where filename=?', (filename,)).fetchall()\n",
    "    print(p)\n",
    "#     try:\n",
    "#         c.execute('''INSERT INTO new_metadata VALUES \n",
    "#                     (?, ?, ?, ?, ?, ?, ?, ?, ?, ?, ?, ?, ?, ?, ?, ?, ?, ?, ?)\n",
    "#                     ''', new_path_to_symbol(ip)).fetchone()\n",
    "#         c.execute('commit')\n",
    "#     except Exception as e:\n",
    "#         # c.execute('rollback')\n",
    "#         print(f'{ip} occured error while inserting to new_metadata')\n",
    "#         print(f'Exception msg: {e}')"
   ]
  },
  {
   "cell_type": "code",
   "execution_count": 5,
   "metadata": {},
   "outputs": [
    {
     "data": {
      "text/plain": [
       "(1,\n",
       " '/data/aoi-wzs-p3-dip-prewave-saiap/dip-prewave-saiap/DA2/0808/Leak/InversePolarity/CN0RM5DRWS20008700REA00_355_0DJ01_0001_TC3501_ElecCap_270_220_NA_0.png',\n",
       " 'CN0RM5DRWS20008700REA00_355_0DJ01_0001_TC3501_ElecCap_270_220_NA_0.png',\n",
       " 'CN0RM5DRWS20008700REA00_TC3501',\n",
       " 'CN0RM5DRWS20008700REA00',\n",
       " 'TC3501',\n",
       " 'ElecCap',\n",
       " '270',\n",
       " '220',\n",
       " None,\n",
       " 'NA',\n",
       " '0',\n",
       " '3550DJ010001',\n",
       " 'png',\n",
       " '77',\n",
       " '85',\n",
       " '20200808',\n",
       " None,\n",
       " None,\n",
       " 'InversePolarity')"
      ]
     },
     "execution_count": 5,
     "metadata": {},
     "output_type": "execute_result"
    }
   ],
   "source": [
    "c.execute('select count(*), * from new_metadata where date=\"20200808\" and A4_result=\"InversePolarity\"').fetchone()"
   ]
  },
  {
   "cell_type": "code",
   "execution_count": 12,
   "metadata": {},
   "outputs": [
    {
     "data": {
      "text/plain": [
       "[]"
      ]
     },
     "execution_count": 12,
     "metadata": {},
     "output_type": "execute_result"
    }
   ],
   "source": [
    "c.execute('delete from new_metadata where date=\"20200808\"').fetchall()"
   ]
  },
  {
   "cell_type": "code",
   "execution_count": 59,
   "metadata": {},
   "outputs": [],
   "source": [
    "# c.execute('commit')\n",
    "con.commit()"
   ]
  },
  {
   "cell_type": "markdown",
   "metadata": {},
   "source": [
    "# fill 0612, 16, 18-22 up"
   ]
  },
  {
   "cell_type": "code",
   "execution_count": 45,
   "metadata": {},
   "outputs": [],
   "source": [
    "import tensorflow as tf\n",
    "def read_width_height(path):\n",
    "    img = tf.io.read_file(path)\n",
    "    img = tf.io.decode_image(img, channels=3)\n",
    "    width = img.shape[1]\n",
    "    height = img.shape[0]\n",
    "    return width, height"
   ]
  },
  {
   "cell_type": "code",
   "execution_count": 47,
   "metadata": {},
   "outputs": [],
   "source": [
    "possible_comps = ['AluCap', 'ElecCap', 'acpi', 'Ins', 'SATA', 'L', 'BH', 'Jumper', 'PCI', 'Aud', 'Stud', 'NI', 'DimSoc', 'CONN', 'USB', 'VGA']\n",
    "def new_path_to_symbol(ip):\n",
    "    # d: IMAGE_FOLDER_PATH/line/date/A4_result\n",
    "    # f: PanelNo_eagle_location_component_degree_capacity_voltage_index.extension\n",
    "    # new version: CN0HMX8DWS20006A03RDA01_355_0AH01_B002_PT4_AluCap_0_270_NA_0\n",
    "    directory, filename = os.path.split(ip)\n",
    "    directory = directory.split(os.path.sep)\n",
    "    fn, ext = os.path.splitext(filename)\n",
    "    ext = ext.split('.')[-1]\n",
    "    width, height = read_width_height(ip)\n",
    "    if len(directory[-2]) != 4:\n",
    "        directory[-2] = '0' + directory[-2]\n",
    "    for c in possible_comps:\n",
    "        if c in fn.split('_'):\n",
    "            possible_bool = True\n",
    "            splited_filename = fn.split(f'_{c}_')\n",
    "            back_filename = splited_filename[-1] # 0_270_NA_0\n",
    "            front_filename = splited_filename[0] # CN0HMX8DWS20006A03RDA01_355_0AH01_B002_PT4\n",
    "            PanelNo = front_filename.split('_')[0]\n",
    "            front_filename = front_filename.replace(f'{PanelNo}_', '') # 355_0AH01_B002_PT4\n",
    "            location = front_filename.split('_')[-1]\n",
    "            front_filename = front_filename.replace(f'_{location}', '') # 355_0AH01_B002\n",
    "            eagle = front_filename.replace('_', '')\n",
    "            degree = back_filename.split('_')[0]\n",
    "            capacity = back_filename.split('_')[1]\n",
    "            voltage = back_filename.split('_')[2]\n",
    "            index_count = back_filename.split('_')[3]\n",
    "            try:\n",
    "                intdate = int(directory[-2])\n",
    "                date = directory[-2]\n",
    "            except:\n",
    "                date = directory[-3]\n",
    "            symbol = (\n",
    "                        ip, \n",
    "                        filename, \n",
    "                        f'{PanelNo}_{location}', \n",
    "                        PanelNo, \n",
    "                        location,\n",
    "                        c,\n",
    "                        degree,\n",
    "                        capacity,\n",
    "                        None,\n",
    "                        voltage,\n",
    "                        index_count,\n",
    "                        eagle,\n",
    "                        ext,\n",
    "                        width,\n",
    "                        height,\n",
    "                        f'2020{date}',\n",
    "                        None,\n",
    "                        None,\n",
    "                        directory[-1]\n",
    "                    )\n",
    "            return symbol"
   ]
  },
  {
   "cell_type": "code",
   "execution_count": 34,
   "metadata": {},
   "outputs": [
    {
     "name": "stdout",
     "output_type": "stream",
     "text": [
      "WARNING:tensorflow:The operation `tf.image.convert_image_dtype` will be skipped since the input and output dtypes are identical.\n"
     ]
    },
    {
     "data": {
      "text/plain": [
       "('/data/aoi-wzs-p3-dip-prewave-saiap/dip-prewave-saiap/DA2/0706/NG/CN0RM5DRWS20007600GLA00_355_0DJ01_0001_PL4502_L_180_NA_NA_0.png',\n",
       " 'CN0RM5DRWS20007600GLA00_355_0DJ01_0001_PL4502_L_180_NA_NA_0.png',\n",
       " 'CN0RM5DRWS20007600GLA00_PL4502',\n",
       " 'CN0RM5DRWS20007600GLA00',\n",
       " 'PL4502',\n",
       " 'L',\n",
       " '180',\n",
       " 'NA',\n",
       " None,\n",
       " 'NA',\n",
       " '0',\n",
       " '3550DJ010001',\n",
       " 'png',\n",
       " 123,\n",
       " 85,\n",
       " '20200706',\n",
       " None,\n",
       " None,\n",
       " 'NG')"
      ]
     },
     "execution_count": 34,
     "metadata": {},
     "output_type": "execute_result"
    }
   ],
   "source": [
    "new_path_to_symbol('/data/aoi-wzs-p3-dip-prewave-saiap/dip-prewave-saiap/DA2/0706/NG/CN0RM5DRWS20007600GLA00_355_0DJ01_0001_PL4502_L_180_NA_NA_0.png')"
   ]
  },
  {
   "cell_type": "code",
   "execution_count": 20,
   "metadata": {},
   "outputs": [
    {
     "name": "stdout",
     "output_type": "stream",
     "text": [
      "/data/aoi-wzs-p3-dip-prewave-saiap/dip-prewave-saiap/DA2/0706/NG/CN0RM5DRWS200074012RA00_355_0DJ01_0001_TC1201_AluCap_270_820_NA_0.png\n",
      "WARNING:tensorflow:The operation `tf.image.convert_image_dtype` will be skipped since the input and output dtypes are identical.\n",
      "('/data/aoi-wzs-p3-dip-prewave-saiap/dip-prewave-saiap/DA2/0706/NG/CN0RM5DRWS200074012RA00_355_0DJ01_0001_TC1201_AluCap_270_820_NA_0.png', 'CN0RM5DRWS200074012RA00_355_0DJ01_0001_TC1201_AluCap_270_820_NA_0.png', 'CN0RM5DRWS200074012RA00_TC1201', 'CN0RM5DRWS200074012RA00', 'TC1201', 'AluCap', '270', '820', None, 'NA', '0', '3550DJ010001', 'png', 82, 75, '20200706', None, None, 'NG')\n",
      "/data/aoi-wzs-p3-dip-prewave-saiap/dip-prewave-saiap/DA2/0706/NG/CN0RM5DRWS20007600H6A00_355_0DJ01_0001_PL4801_L_0_NA_NA_0.png\n",
      "WARNING:tensorflow:The operation `tf.image.convert_image_dtype` will be skipped since the input and output dtypes are identical.\n",
      "('/data/aoi-wzs-p3-dip-prewave-saiap/dip-prewave-saiap/DA2/0706/NG/CN0RM5DRWS20007600H6A00_355_0DJ01_0001_PL4801_L_0_NA_NA_0.png', 'CN0RM5DRWS20007600H6A00_355_0DJ01_0001_PL4801_L_0_NA_NA_0.png', 'CN0RM5DRWS20007600H6A00_0001', 'CN0RM5DRWS20007600H6A00', '0001', 'L', '0', 'NA', None, 'NA', '0', '3550DJ01P', 'png', 123, 85, '20200706', None, None, 'NG')\n",
      "/data/aoi-wzs-p3-dip-prewave-saiap/dip-prewave-saiap/DA2/0706/NG/CN0RM5DRWS20007400T8A00_355_0DJ01_0001_TC4308_AluCap_0_270_NA_0.png\n",
      "WARNING:tensorflow:The operation `tf.image.convert_image_dtype` will be skipped since the input and output dtypes are identical.\n",
      "('/data/aoi-wzs-p3-dip-prewave-saiap/dip-prewave-saiap/DA2/0706/NG/CN0RM5DRWS20007400T8A00_355_0DJ01_0001_TC4308_AluCap_0_270_NA_0.png', 'CN0RM5DRWS20007400T8A00_355_0DJ01_0001_TC4308_AluCap_0_270_NA_0.png', 'CN0RM5DRWS20007400T8A00_TC4308', 'CN0RM5DRWS20007400T8A00', 'TC4308', 'AluCap', '0', '270', None, 'NA', '0', '3550DJ010001', 'png', 91, 94, '20200706', None, None, 'NG')\n",
      "/data/aoi-wzs-p3-dip-prewave-saiap/dip-prewave-saiap/DA2/0706/NG/CN0RM5DRWS20007600PAA00_355_0DJ01_0001_TC9401_ElecCap_270_220_NA_0.png\n",
      "WARNING:tensorflow:The operation `tf.image.convert_image_dtype` will be skipped since the input and output dtypes are identical.\n",
      "('/data/aoi-wzs-p3-dip-prewave-saiap/dip-prewave-saiap/DA2/0706/NG/CN0RM5DRWS20007600PAA00_355_0DJ01_0001_TC9401_ElecCap_270_220_NA_0.png', 'CN0RM5DRWS20007600PAA00_355_0DJ01_0001_TC9401_ElecCap_270_220_NA_0.png', 'CN0RM5DRWS20007600PAA00_TC9401', 'CN0RM5DRWS20007600PAA00', 'TC9401', 'ElecCap', '270', '220', None, 'NA', '0', '3550DJ010001', 'png', 77, 85, '20200706', None, None, 'NG')\n",
      "/data/aoi-wzs-p3-dip-prewave-saiap/dip-prewave-saiap/DA2/0706/NG/CN0RM5DRWS20007400T2A00_355_0DJ01_0001_PT4704_AluCap_270_270_NA_0.png\n",
      "WARNING:tensorflow:The operation `tf.image.convert_image_dtype` will be skipped since the input and output dtypes are identical.\n",
      "('/data/aoi-wzs-p3-dip-prewave-saiap/dip-prewave-saiap/DA2/0706/NG/CN0RM5DRWS20007400T2A00_355_0DJ01_0001_PT4704_AluCap_270_270_NA_0.png', 'CN0RM5DRWS20007400T2A00_355_0DJ01_0001_PT4704_AluCap_270_270_NA_0.png', 'CN0RM5DRWS20007400T2A00_PT4704', 'CN0RM5DRWS20007400T2A00', 'PT4704', 'AluCap', '270', '270', None, 'NA', '0', '3550DJ010001', 'png', 94, 91, '20200706', None, None, 'NG')\n",
      "/data/aoi-wzs-p3-dip-prewave-saiap/dip-prewave-saiap/DA2/0706/NG/CN0RM5DRWS200076013BA00_355_0DJ01_0001_TC9401_ElecCap_270_220_NA_0.png\n",
      "WARNING:tensorflow:The operation `tf.image.convert_image_dtype` will be skipped since the input and output dtypes are identical.\n",
      "('/data/aoi-wzs-p3-dip-prewave-saiap/dip-prewave-saiap/DA2/0706/NG/CN0RM5DRWS200076013BA00_355_0DJ01_0001_TC9401_ElecCap_270_220_NA_0.png', 'CN0RM5DRWS200076013BA00_355_0DJ01_0001_TC9401_ElecCap_270_220_NA_0.png', 'CN0RM5DRWS200076013BA00_TC9401', 'CN0RM5DRWS200076013BA00', 'TC9401', 'ElecCap', '270', '220', None, 'NA', '0', '3550DJ010001', 'png', 77, 85, '20200706', None, None, 'NG')\n",
      "/data/aoi-wzs-p3-dip-prewave-saiap/dip-prewave-saiap/DA2/0706/NG/CN0RM5DRWS20007400T5A00_355_0DJ01_0001_HDD2_SATA_270_3_NA_0.png\n",
      "WARNING:tensorflow:The operation `tf.image.convert_image_dtype` will be skipped since the input and output dtypes are identical.\n",
      "('/data/aoi-wzs-p3-dip-prewave-saiap/dip-prewave-saiap/DA2/0706/NG/CN0RM5DRWS20007400T5A00_355_0DJ01_0001_HDD2_SATA_270_3_NA_0.png', 'CN0RM5DRWS20007400T5A00_355_0DJ01_0001_HDD2_SATA_270_3_NA_0.png', 'CN0RM5DRWS20007400T5A00_HDD2', 'CN0RM5DRWS20007400T5A00', 'HDD2', 'SATA', '270', '3', None, 'NA', '0', '3550DJ010001', 'png', 171, 73, '20200706', None, None, 'NG')\n",
      "/data/aoi-wzs-p3-dip-prewave-saiap/dip-prewave-saiap/DA2/0706/NG/CN0RM5DRWS20007400T8A00_355_0DJ01_0001_PT4501_AluCap_270_270_NA_0.png\n",
      "WARNING:tensorflow:The operation `tf.image.convert_image_dtype` will be skipped since the input and output dtypes are identical.\n",
      "('/data/aoi-wzs-p3-dip-prewave-saiap/dip-prewave-saiap/DA2/0706/NG/CN0RM5DRWS20007400T8A00_355_0DJ01_0001_PT4501_AluCap_270_270_NA_0.png', 'CN0RM5DRWS20007400T8A00_355_0DJ01_0001_PT4501_AluCap_270_270_NA_0.png', 'CN0RM5DRWS20007400T8A00_PT4501', 'CN0RM5DRWS20007400T8A00', 'PT4501', 'AluCap', '270', '270', None, 'NA', '0', '3550DJ010001', 'png', 94, 91, '20200706', None, None, 'NG')\n",
      "/data/aoi-wzs-p3-dip-prewave-saiap/dip-prewave-saiap/DA2/0706/NG/CN0RM5DRWS200074011SA00_355_0DJ01_0001_PL5101_L_180_NA_NA_0.png\n",
      "WARNING:tensorflow:The operation `tf.image.convert_image_dtype` will be skipped since the input and output dtypes are identical.\n",
      "('/data/aoi-wzs-p3-dip-prewave-saiap/dip-prewave-saiap/DA2/0706/NG/CN0RM5DRWS200074011SA00_355_0DJ01_0001_PL5101_L_180_NA_NA_0.png', 'CN0RM5DRWS200074011SA00_355_0DJ01_0001_PL5101_L_180_NA_NA_0.png', 'CN0RM5DRWS200074011SA00_0001', 'CN0RM5DRWS200074011SA00', '0001', 'L', '180', 'NA', None, 'NA', '0', '3550DJ01P', 'png', 123, 85, '20200706', None, None, 'NG')\n",
      "/data/aoi-wzs-p3-dip-prewave-saiap/dip-prewave-saiap/DA2/0706/NG/CN0RM5DRWS200076007YA00_355_0DJ01_0001_PT4704_AluCap_270_270_NA_0.png\n",
      "WARNING:tensorflow:The operation `tf.image.convert_image_dtype` will be skipped since the input and output dtypes are identical.\n",
      "('/data/aoi-wzs-p3-dip-prewave-saiap/dip-prewave-saiap/DA2/0706/NG/CN0RM5DRWS200076007YA00_355_0DJ01_0001_PT4704_AluCap_270_270_NA_0.png', 'CN0RM5DRWS200076007YA00_355_0DJ01_0001_PT4704_AluCap_270_270_NA_0.png', 'CN0RM5DRWS200076007YA00_PT4704', 'CN0RM5DRWS200076007YA00', 'PT4704', 'AluCap', '270', '270', None, 'NA', '0', '3550DJ010001', 'png', 94, 91, '20200706', None, None, 'NG')\n",
      "/data/aoi-wzs-p3-dip-prewave-saiap/dip-prewave-saiap/DA2/0706/NG/CN0RM5DRWS200074015AA00_355_0DJ01_0001_PL4502_L_180_NA_NA_0.png\n",
      "WARNING:tensorflow:The operation `tf.image.convert_image_dtype` will be skipped since the input and output dtypes are identical.\n",
      "('/data/aoi-wzs-p3-dip-prewave-saiap/dip-prewave-saiap/DA2/0706/NG/CN0RM5DRWS200074015AA00_355_0DJ01_0001_PL4502_L_180_NA_NA_0.png', 'CN0RM5DRWS200074015AA00_355_0DJ01_0001_PL4502_L_180_NA_NA_0.png', 'CN0RM5DRWS200074015AA00_0001', 'CN0RM5DRWS200074015AA00', '0001', 'L', '180', 'NA', None, 'NA', '0', '3550DJ01P', 'png', 123, 85, '20200706', None, None, 'NG')\n",
      "/data/aoi-wzs-p3-dip-prewave-saiap/dip-prewave-saiap/DA2/0706/NG/CN0RM5DRWS20007400RIA00_355_0DJ01_0001_TC3201_ElecCap_270_220_NA_0.png\n",
      "WARNING:tensorflow:The operation `tf.image.convert_image_dtype` will be skipped since the input and output dtypes are identical.\n",
      "('/data/aoi-wzs-p3-dip-prewave-saiap/dip-prewave-saiap/DA2/0706/NG/CN0RM5DRWS20007400RIA00_355_0DJ01_0001_TC3201_ElecCap_270_220_NA_0.png', 'CN0RM5DRWS20007400RIA00_355_0DJ01_0001_TC3201_ElecCap_270_220_NA_0.png', 'CN0RM5DRWS20007400RIA00_TC3201', 'CN0RM5DRWS20007400RIA00', 'TC3201', 'ElecCap', '270', '220', None, 'NA', '0', '3550DJ010001', 'png', 77, 85, '20200706', None, None, 'NG')\n",
      "/data/aoi-wzs-p3-dip-prewave-saiap/dip-prewave-saiap/DA2/0706/NG/CN0RM5DRWS2000740010A00_355_0DJ01_0001_PL4502_L_180_NA_NA_0.png\n",
      "WARNING:tensorflow:The operation `tf.image.convert_image_dtype` will be skipped since the input and output dtypes are identical.\n",
      "('/data/aoi-wzs-p3-dip-prewave-saiap/dip-prewave-saiap/DA2/0706/NG/CN0RM5DRWS2000740010A00_355_0DJ01_0001_PL4502_L_180_NA_NA_0.png', 'CN0RM5DRWS2000740010A00_355_0DJ01_0001_PL4502_L_180_NA_NA_0.png', 'CN0RM5DRWS2000740010A00_0001', 'CN0RM5DRWS2000740010A00', '0001', 'L', '180', 'NA', None, 'NA', '0', '3550DJ01P', 'png', 123, 85, '20200706', None, None, 'NG')\n",
      "/data/aoi-wzs-p3-dip-prewave-saiap/dip-prewave-saiap/DA2/0706/NG/CN0RM5DRWS20007400RIA00_355_0DJ01_0001_TC3501_ElecCap_270_220_NA_0.png\n",
      "WARNING:tensorflow:The operation `tf.image.convert_image_dtype` will be skipped since the input and output dtypes are identical.\n",
      "('/data/aoi-wzs-p3-dip-prewave-saiap/dip-prewave-saiap/DA2/0706/NG/CN0RM5DRWS20007400RIA00_355_0DJ01_0001_TC3501_ElecCap_270_220_NA_0.png', 'CN0RM5DRWS20007400RIA00_355_0DJ01_0001_TC3501_ElecCap_270_220_NA_0.png', 'CN0RM5DRWS20007400RIA00_TC3501', 'CN0RM5DRWS20007400RIA00', 'TC3501', 'ElecCap', '270', '220', None, 'NA', '0', '3550DJ010001', 'png', 77, 85, '20200706', None, None, 'NG')\n",
      "/data/aoi-wzs-p3-dip-prewave-saiap/dip-prewave-saiap/DA2/0706/NG/CN0RM5DRWS2000740149A00_355_0DJ01_0001_PL5101_L_180_NA_NA_0.png\n",
      "WARNING:tensorflow:The operation `tf.image.convert_image_dtype` will be skipped since the input and output dtypes are identical.\n",
      "('/data/aoi-wzs-p3-dip-prewave-saiap/dip-prewave-saiap/DA2/0706/NG/CN0RM5DRWS2000740149A00_355_0DJ01_0001_PL5101_L_180_NA_NA_0.png', 'CN0RM5DRWS2000740149A00_355_0DJ01_0001_PL5101_L_180_NA_NA_0.png', 'CN0RM5DRWS2000740149A00_0001', 'CN0RM5DRWS2000740149A00', '0001', 'L', '180', 'NA', None, 'NA', '0', '3550DJ01P', 'png', 123, 85, '20200706', None, None, 'NG')\n",
      "/data/aoi-wzs-p3-dip-prewave-saiap/dip-prewave-saiap/DA2/0706/NG/CN0RM5DRWS200076013OA00_355_0DJ01_0001_TC9404_ElecCap_270_220_NA_0.png\n",
      "WARNING:tensorflow:The operation `tf.image.convert_image_dtype` will be skipped since the input and output dtypes are identical.\n",
      "('/data/aoi-wzs-p3-dip-prewave-saiap/dip-prewave-saiap/DA2/0706/NG/CN0RM5DRWS200076013OA00_355_0DJ01_0001_TC9404_ElecCap_270_220_NA_0.png', 'CN0RM5DRWS200076013OA00_355_0DJ01_0001_TC9404_ElecCap_270_220_NA_0.png', 'CN0RM5DRWS200076013OA00_TC9404', 'CN0RM5DRWS200076013OA00', 'TC9404', 'ElecCap', '270', '220', None, 'NA', '0', '3550DJ010001', 'png', 77, 85, '20200706', None, None, 'NG')\n",
      "/data/aoi-wzs-p3-dip-prewave-saiap/dip-prewave-saiap/DA2/0706/NG/CN0RM5DRWS20007400YOA00_355_0DJ01_0001_PL5101_L_180_NA_NA_0.png\n",
      "WARNING:tensorflow:The operation `tf.image.convert_image_dtype` will be skipped since the input and output dtypes are identical.\n",
      "('/data/aoi-wzs-p3-dip-prewave-saiap/dip-prewave-saiap/DA2/0706/NG/CN0RM5DRWS20007400YOA00_355_0DJ01_0001_PL5101_L_180_NA_NA_0.png', 'CN0RM5DRWS20007400YOA00_355_0DJ01_0001_PL5101_L_180_NA_NA_0.png', 'CN0RM5DRWS20007400YOA00_0001', 'CN0RM5DRWS20007400YOA00', '0001', 'L', '180', 'NA', None, 'NA', '0', '3550DJ01P', 'png', 123, 85, '20200706', None, None, 'NG')\n",
      "/data/aoi-wzs-p3-dip-prewave-saiap/dip-prewave-saiap/DA2/0706/NG/CN0RM5DRWS20007600C7A00_355_0DJ01_0001_PT4701_AluCap_270_270_NA_0.png\n",
      "WARNING:tensorflow:The operation `tf.image.convert_image_dtype` will be skipped since the input and output dtypes are identical.\n",
      "('/data/aoi-wzs-p3-dip-prewave-saiap/dip-prewave-saiap/DA2/0706/NG/CN0RM5DRWS20007600C7A00_355_0DJ01_0001_PT4701_AluCap_270_270_NA_0.png', 'CN0RM5DRWS20007600C7A00_355_0DJ01_0001_PT4701_AluCap_270_270_NA_0.png', 'CN0RM5DRWS20007600C7A00_PT4701', 'CN0RM5DRWS20007600C7A00', 'PT4701', 'AluCap', '270', '270', None, 'NA', '0', '3550DJ010001', 'png', 94, 91, '20200706', None, None, 'NG')\n",
      "/data/aoi-wzs-p3-dip-prewave-saiap/dip-prewave-saiap/DA2/0706/NG/CN0RM5DRWS2000740062A00_355_0DJ01_0001_PT4706_AluCap_270_270_NA_0.png\n",
      "WARNING:tensorflow:The operation `tf.image.convert_image_dtype` will be skipped since the input and output dtypes are identical.\n",
      "('/data/aoi-wzs-p3-dip-prewave-saiap/dip-prewave-saiap/DA2/0706/NG/CN0RM5DRWS2000740062A00_355_0DJ01_0001_PT4706_AluCap_270_270_NA_0.png', 'CN0RM5DRWS2000740062A00_355_0DJ01_0001_PT4706_AluCap_270_270_NA_0.png', 'CN0RM5DRWS2000740062A00_PT4706', 'CN0RM5DRWS2000740062A00', 'PT4706', 'AluCap', '270', '270', None, 'NA', '0', '3550DJ010001', 'png', 94, 91, '20200706', None, None, 'NG')\n",
      "/data/aoi-wzs-p3-dip-prewave-saiap/dip-prewave-saiap/DA2/0706/NG/CN0RM5DRWS20007400T4A00_355_0DJ01_0001_PT4501_AluCap_270_270_NA_0.png\n",
      "WARNING:tensorflow:The operation `tf.image.convert_image_dtype` will be skipped since the input and output dtypes are identical.\n",
      "('/data/aoi-wzs-p3-dip-prewave-saiap/dip-prewave-saiap/DA2/0706/NG/CN0RM5DRWS20007400T4A00_355_0DJ01_0001_PT4501_AluCap_270_270_NA_0.png', 'CN0RM5DRWS20007400T4A00_355_0DJ01_0001_PT4501_AluCap_270_270_NA_0.png', 'CN0RM5DRWS20007400T4A00_PT4501', 'CN0RM5DRWS20007400T4A00', 'PT4501', 'AluCap', '270', '270', None, 'NA', '0', '3550DJ010001', 'png', 94, 91, '20200706', None, None, 'NG')\n",
      "/data/aoi-wzs-p3-dip-prewave-saiap/dip-prewave-saiap/DA2/0706/NG/CN0RM5DRWS200076010FA00_355_0DJ01_0001_TC9401_ElecCap_270_220_NA_0.png\n",
      "WARNING:tensorflow:The operation `tf.image.convert_image_dtype` will be skipped since the input and output dtypes are identical.\n",
      "('/data/aoi-wzs-p3-dip-prewave-saiap/dip-prewave-saiap/DA2/0706/NG/CN0RM5DRWS200076010FA00_355_0DJ01_0001_TC9401_ElecCap_270_220_NA_0.png', 'CN0RM5DRWS200076010FA00_355_0DJ01_0001_TC9401_ElecCap_270_220_NA_0.png', 'CN0RM5DRWS200076010FA00_TC9401', 'CN0RM5DRWS200076010FA00', 'TC9401', 'ElecCap', '270', '220', None, 'NA', '0', '3550DJ010001', 'png', 77, 85, '20200706', None, None, 'NG')\n",
      "/data/aoi-wzs-p3-dip-prewave-saiap/dip-prewave-saiap/DA2/0706/NG/CN0RM5DRWS20007600CAA00_355_0DJ01_0001_PL4502_L_180_NA_NA_0.png\n",
      "WARNING:tensorflow:The operation `tf.image.convert_image_dtype` will be skipped since the input and output dtypes are identical.\n",
      "('/data/aoi-wzs-p3-dip-prewave-saiap/dip-prewave-saiap/DA2/0706/NG/CN0RM5DRWS20007600CAA00_355_0DJ01_0001_PL4502_L_180_NA_NA_0.png', 'CN0RM5DRWS20007600CAA00_355_0DJ01_0001_PL4502_L_180_NA_NA_0.png', 'CN0RM5DRWS20007600CAA00_0001', 'CN0RM5DRWS20007600CAA00', '0001', 'L', '180', 'NA', None, 'NA', '0', '3550DJ01P', 'png', 123, 85, '20200706', None, None, 'NG')\n",
      "/data/aoi-wzs-p3-dip-prewave-saiap/dip-prewave-saiap/DA2/0706/NG/CN0RM5DRWS200076007QA00_355_0DJ01_0001_PT4706_AluCap_270_270_NA_0.png\n",
      "WARNING:tensorflow:The operation `tf.image.convert_image_dtype` will be skipped since the input and output dtypes are identical.\n",
      "('/data/aoi-wzs-p3-dip-prewave-saiap/dip-prewave-saiap/DA2/0706/NG/CN0RM5DRWS200076007QA00_355_0DJ01_0001_PT4706_AluCap_270_270_NA_0.png', 'CN0RM5DRWS200076007QA00_355_0DJ01_0001_PT4706_AluCap_270_270_NA_0.png', 'CN0RM5DRWS200076007QA00_PT4706', 'CN0RM5DRWS200076007QA00', 'PT4706', 'AluCap', '270', '270', None, 'NA', '0', '3550DJ010001', 'png', 94, 91, '20200706', None, None, 'NG')\n",
      "/data/aoi-wzs-p3-dip-prewave-saiap/dip-prewave-saiap/DA2/0706/NG/CN0RM5DRWS20007400P6A00_355_0DJ01_0001_PT5402_ElecCap_270_220_NA_0.png\n",
      "WARNING:tensorflow:The operation `tf.image.convert_image_dtype` will be skipped since the input and output dtypes are identical.\n",
      "('/data/aoi-wzs-p3-dip-prewave-saiap/dip-prewave-saiap/DA2/0706/NG/CN0RM5DRWS20007400P6A00_355_0DJ01_0001_PT5402_ElecCap_270_220_NA_0.png', 'CN0RM5DRWS20007400P6A00_355_0DJ01_0001_PT5402_ElecCap_270_220_NA_0.png', 'CN0RM5DRWS20007400P6A00_PT5402', 'CN0RM5DRWS20007400P6A00', 'PT5402', 'ElecCap', '270', '220', None, 'NA', '0', '3550DJ010001', 'png', 85, 77, '20200706', None, None, 'NG')\n",
      "/data/aoi-wzs-p3-dip-prewave-saiap/dip-prewave-saiap/DA2/0706/NG/CN0RM5DRWS20007600UPA00_355_0DJ01_0001_TC9401_ElecCap_270_220_NA_0.png\n",
      "WARNING:tensorflow:The operation `tf.image.convert_image_dtype` will be skipped since the input and output dtypes are identical.\n",
      "('/data/aoi-wzs-p3-dip-prewave-saiap/dip-prewave-saiap/DA2/0706/NG/CN0RM5DRWS20007600UPA00_355_0DJ01_0001_TC9401_ElecCap_270_220_NA_0.png', 'CN0RM5DRWS20007600UPA00_355_0DJ01_0001_TC9401_ElecCap_270_220_NA_0.png', 'CN0RM5DRWS20007600UPA00_TC9401', 'CN0RM5DRWS20007600UPA00', 'TC9401', 'ElecCap', '270', '220', None, 'NA', '0', '3550DJ010001', 'png', 77, 85, '20200706', None, None, 'NG')\n",
      "/data/aoi-wzs-p3-dip-prewave-saiap/dip-prewave-saiap/DA2/0706/NG/CN0RM5DRWS20007600DFA00_355_0DJ01_0001_TC9401_ElecCap_270_220_NA_0.png\n",
      "WARNING:tensorflow:The operation `tf.image.convert_image_dtype` will be skipped since the input and output dtypes are identical.\n",
      "('/data/aoi-wzs-p3-dip-prewave-saiap/dip-prewave-saiap/DA2/0706/NG/CN0RM5DRWS20007600DFA00_355_0DJ01_0001_TC9401_ElecCap_270_220_NA_0.png', 'CN0RM5DRWS20007600DFA00_355_0DJ01_0001_TC9401_ElecCap_270_220_NA_0.png', 'CN0RM5DRWS20007600DFA00_TC9401', 'CN0RM5DRWS20007600DFA00', 'TC9401', 'ElecCap', '270', '220', None, 'NA', '0', '3550DJ010001', 'png', 77, 85, '20200706', None, None, 'NG')\n",
      "/data/aoi-wzs-p3-dip-prewave-saiap/dip-prewave-saiap/DA2/0706/NG/CN0RM5DRWS20007600EKA00_355_0DJ01_0001_PT4803_AluCap_270_820_NA_0.png\n",
      "WARNING:tensorflow:The operation `tf.image.convert_image_dtype` will be skipped since the input and output dtypes are identical.\n",
      "('/data/aoi-wzs-p3-dip-prewave-saiap/dip-prewave-saiap/DA2/0706/NG/CN0RM5DRWS20007600EKA00_355_0DJ01_0001_PT4803_AluCap_270_820_NA_0.png', 'CN0RM5DRWS20007600EKA00_355_0DJ01_0001_PT4803_AluCap_270_820_NA_0.png', 'CN0RM5DRWS20007600EKA00_PT4803', 'CN0RM5DRWS20007600EKA00', 'PT4803', 'AluCap', '270', '820', None, 'NA', '0', '3550DJ010001', 'png', 82, 75, '20200706', None, None, 'NG')\n",
      "/data/aoi-wzs-p3-dip-prewave-saiap/dip-prewave-saiap/DA2/0706/NG/CN0RM5DRWS2000760054A00_355_0DJ01_0001_PL5101_L_180_NA_NA_0.png\n",
      "WARNING:tensorflow:The operation `tf.image.convert_image_dtype` will be skipped since the input and output dtypes are identical.\n",
      "('/data/aoi-wzs-p3-dip-prewave-saiap/dip-prewave-saiap/DA2/0706/NG/CN0RM5DRWS2000760054A00_355_0DJ01_0001_PL5101_L_180_NA_NA_0.png', 'CN0RM5DRWS2000760054A00_355_0DJ01_0001_PL5101_L_180_NA_NA_0.png', 'CN0RM5DRWS2000760054A00_0001', 'CN0RM5DRWS2000760054A00', '0001', 'L', '180', 'NA', None, 'NA', '0', '3550DJ01P', 'png', 123, 85, '20200706', None, None, 'NG')\n",
      "/data/aoi-wzs-p3-dip-prewave-saiap/dip-prewave-saiap/DA2/0706/NG/CN0RM5DRWS20007400P0A00_355_0DJ01_0001_PT4701_AluCap_270_270_NA_0.png\n",
      "WARNING:tensorflow:The operation `tf.image.convert_image_dtype` will be skipped since the input and output dtypes are identical.\n",
      "('/data/aoi-wzs-p3-dip-prewave-saiap/dip-prewave-saiap/DA2/0706/NG/CN0RM5DRWS20007400P0A00_355_0DJ01_0001_PT4701_AluCap_270_270_NA_0.png', 'CN0RM5DRWS20007400P0A00_355_0DJ01_0001_PT4701_AluCap_270_270_NA_0.png', 'CN0RM5DRWS20007400P0A00_PT4701', 'CN0RM5DRWS20007400P0A00', 'PT4701', 'AluCap', '270', '270', None, 'NA', '0', '3550DJ010001', 'png', 94, 91, '20200706', None, None, 'NG')\n",
      "/data/aoi-wzs-p3-dip-prewave-saiap/dip-prewave-saiap/DA2/0706/NG/CN0RM5DRWS200076011FA00_355_0DJ01_0001_TC9401_ElecCap_270_220_NA_0.png\n",
      "WARNING:tensorflow:The operation `tf.image.convert_image_dtype` will be skipped since the input and output dtypes are identical.\n",
      "('/data/aoi-wzs-p3-dip-prewave-saiap/dip-prewave-saiap/DA2/0706/NG/CN0RM5DRWS200076011FA00_355_0DJ01_0001_TC9401_ElecCap_270_220_NA_0.png', 'CN0RM5DRWS200076011FA00_355_0DJ01_0001_TC9401_ElecCap_270_220_NA_0.png', 'CN0RM5DRWS200076011FA00_TC9401', 'CN0RM5DRWS200076011FA00', 'TC9401', 'ElecCap', '270', '220', None, 'NA', '0', '3550DJ010001', 'png', 77, 85, '20200706', None, None, 'NG')\n",
      "/data/aoi-wzs-p3-dip-prewave-saiap/dip-prewave-saiap/DA2/0706/NG/CN0RM5DRWS20007600GLA00_355_0DJ01_0001_PL4502_L_180_NA_NA_0.png\n",
      "WARNING:tensorflow:The operation `tf.image.convert_image_dtype` will be skipped since the input and output dtypes are identical.\n"
     ]
    },
    {
     "ename": "IndexError",
     "evalue": "list index out of range",
     "output_type": "error",
     "traceback": [
      "\u001b[0;31m---------------------------------------------------------------------------\u001b[0m",
      "\u001b[0;31mIndexError\u001b[0m                                Traceback (most recent call last)",
      "\u001b[0;32m<ipython-input-20-cb4523fa3669>\u001b[0m in \u001b[0;36m<module>\u001b[0;34m\u001b[0m\n\u001b[1;32m      6\u001b[0m     \u001b[0mx\u001b[0m \u001b[0;34m=\u001b[0m \u001b[0;34m[\u001b[0m\u001b[0;34m]\u001b[0m\u001b[0;34m\u001b[0m\u001b[0;34m\u001b[0m\u001b[0m\n\u001b[1;32m      7\u001b[0m     \u001b[0;32mif\u001b[0m \u001b[0mx\u001b[0m \u001b[0;34m==\u001b[0m \u001b[0;34m[\u001b[0m\u001b[0;34m]\u001b[0m\u001b[0;34m:\u001b[0m\u001b[0;34m\u001b[0m\u001b[0;34m\u001b[0m\u001b[0m\n\u001b[0;32m----> 8\u001b[0;31m         \u001b[0msymbol\u001b[0m \u001b[0;34m=\u001b[0m \u001b[0mnew_path_to_symbol\u001b[0m\u001b[0;34m(\u001b[0m\u001b[0mip\u001b[0m\u001b[0;34m)\u001b[0m\u001b[0;34m\u001b[0m\u001b[0;34m\u001b[0m\u001b[0m\n\u001b[0m\u001b[1;32m      9\u001b[0m         \u001b[0mprint\u001b[0m\u001b[0;34m(\u001b[0m\u001b[0msymbol\u001b[0m\u001b[0;34m)\u001b[0m\u001b[0;34m\u001b[0m\u001b[0;34m\u001b[0m\u001b[0m\n\u001b[1;32m     10\u001b[0m \u001b[0;31m#         print(symbol)\u001b[0m\u001b[0;34m\u001b[0m\u001b[0;34m\u001b[0m\u001b[0;34m\u001b[0m\u001b[0m\n",
      "\u001b[0;32m<ipython-input-3-ed0ab5aa8f41>\u001b[0m in \u001b[0;36mnew_path_to_symbol\u001b[0;34m(ip)\u001b[0m\n\u001b[1;32m     19\u001b[0m             \u001b[0mPanelNo\u001b[0m \u001b[0;34m=\u001b[0m \u001b[0mfront_filename\u001b[0m\u001b[0;34m.\u001b[0m\u001b[0msplit\u001b[0m\u001b[0;34m(\u001b[0m\u001b[0;34m'_'\u001b[0m\u001b[0;34m)\u001b[0m\u001b[0;34m[\u001b[0m\u001b[0;36m0\u001b[0m\u001b[0;34m]\u001b[0m\u001b[0;34m\u001b[0m\u001b[0;34m\u001b[0m\u001b[0m\n\u001b[1;32m     20\u001b[0m             \u001b[0mfront_filename\u001b[0m \u001b[0;34m=\u001b[0m \u001b[0mfront_filename\u001b[0m\u001b[0;34m.\u001b[0m\u001b[0mreplace\u001b[0m\u001b[0;34m(\u001b[0m\u001b[0;34mf'{PanelNo}_'\u001b[0m\u001b[0;34m,\u001b[0m \u001b[0;34m''\u001b[0m\u001b[0;34m)\u001b[0m \u001b[0;31m# 355_0AH01_B002_PT4_\u001b[0m\u001b[0;34m\u001b[0m\u001b[0;34m\u001b[0m\u001b[0m\n\u001b[0;32m---> 21\u001b[0;31m             \u001b[0mlocation\u001b[0m \u001b[0;34m=\u001b[0m \u001b[0mfront_filename\u001b[0m\u001b[0;34m.\u001b[0m\u001b[0msplit\u001b[0m\u001b[0;34m(\u001b[0m\u001b[0;34m'_'\u001b[0m\u001b[0;34m)\u001b[0m\u001b[0;34m[\u001b[0m\u001b[0;34m-\u001b[0m\u001b[0;36m2\u001b[0m\u001b[0;34m]\u001b[0m\u001b[0;34m\u001b[0m\u001b[0;34m\u001b[0m\u001b[0m\n\u001b[0m\u001b[1;32m     22\u001b[0m             \u001b[0mfront_filename\u001b[0m \u001b[0;34m=\u001b[0m \u001b[0mfront_filename\u001b[0m\u001b[0;34m.\u001b[0m\u001b[0mreplace\u001b[0m\u001b[0;34m(\u001b[0m\u001b[0;34mf'_{location}_'\u001b[0m\u001b[0;34m,\u001b[0m \u001b[0;34m''\u001b[0m\u001b[0;34m)\u001b[0m \u001b[0;31m# 355_0AH01_B002\u001b[0m\u001b[0;34m\u001b[0m\u001b[0;34m\u001b[0m\u001b[0m\n\u001b[1;32m     23\u001b[0m             \u001b[0meagle\u001b[0m \u001b[0;34m=\u001b[0m \u001b[0mfront_filename\u001b[0m\u001b[0;34m.\u001b[0m\u001b[0mreplace\u001b[0m\u001b[0;34m(\u001b[0m\u001b[0;34m'_'\u001b[0m\u001b[0;34m,\u001b[0m \u001b[0;34m''\u001b[0m\u001b[0;34m)\u001b[0m\u001b[0;34m\u001b[0m\u001b[0;34m\u001b[0m\u001b[0m\n",
      "\u001b[0;31mIndexError\u001b[0m: list index out of range"
     ]
    }
   ],
   "source": [
    "for ip in img_list:\n",
    "    _, filename = os.path.split(ip)\n",
    "#     x = c.execute('select * from new_metadata where filename=?', (filename,)).fetchall()\n",
    "    x = []\n",
    "    if x == []:\n",
    "        symbol = new_path_to_symbol(ip)\n",
    "#         print(symbol)\n",
    "        try:\n",
    "            c.execute('''INSERT INTO new_metadata VALUES \n",
    "                        (?, ?, ?, ?, ?, ?, ?, ?, ?, ?, ?, ?, ?, ?, ?, ?, ?, ?, ?)\n",
    "                        ''', symbol)\n",
    "            c.fetchone()\n",
    "        except Exception as e:\n",
    "    #         print(f'Exception msg: {e}')\n",
    "            continue\n",
    "    #         sys.exit(f'{ip} occured error while inserting')"
   ]
  },
  {
   "cell_type": "code",
   "execution_count": 45,
   "metadata": {
    "scrolled": true
   },
   "outputs": [
    {
     "data": {
      "text/plain": [
       "<sqlite3.Cursor at 0x7fc6c8304030>"
      ]
     },
     "execution_count": 45,
     "metadata": {},
     "output_type": "execute_result"
    }
   ],
   "source": [
    "c.execute('rollback')"
   ]
  },
  {
   "cell_type": "markdown",
   "metadata": {},
   "source": [
    "## alter degree 90 to 270"
   ]
  },
  {
   "cell_type": "code",
   "execution_count": 12,
   "metadata": {},
   "outputs": [
    {
     "data": {
      "text/plain": [
       "[(0,)]"
      ]
     },
     "execution_count": 12,
     "metadata": {},
     "output_type": "execute_result"
    }
   ],
   "source": [
    "c.execute('select count(*) from new_metadata where degree=\"180\"').fetchall()"
   ]
  },
  {
   "cell_type": "code",
   "execution_count": 11,
   "metadata": {},
   "outputs": [
    {
     "data": {
      "text/plain": [
       "[]"
      ]
     },
     "execution_count": 11,
     "metadata": {},
     "output_type": "execute_result"
    }
   ],
   "source": [
    "c.execute('update new_metadata set degree=\"0\" where degree=\"180\"').fetchall()"
   ]
  },
  {
   "cell_type": "code",
   "execution_count": 6,
   "metadata": {},
   "outputs": [
    {
     "data": {
      "text/plain": [
       "447"
      ]
     },
     "execution_count": 6,
     "metadata": {},
     "output_type": "execute_result"
    }
   ],
   "source": [
    "import os, glob\n",
    "# /line/date/A4_result/PanelNo_eagle_location_component_degree_capacity_voltage_index.extension\n",
    "base_path = '/p3/dip-prewave-saiap/*/0602/*/*.png' \n",
    "img_list = glob.glob(base_path)\n",
    "len(img_list)\n",
    "# for i in img_list:\n",
    "#     print(i)"
   ]
  },
  {
   "cell_type": "code",
   "execution_count": 2,
   "metadata": {},
   "outputs": [
    {
     "data": {
      "text/plain": [
       "0"
      ]
     },
     "execution_count": 2,
     "metadata": {},
     "output_type": "execute_result"
    }
   ],
   "source": [
    "from shutil import move\n",
    "tree_format = ['OK', 'NG', 'Overkill', 'Leak']\n",
    "count = 0\n",
    "for ip in img_list:\n",
    "    directory, fn = os.path.split(ip)\n",
    "    fn, ext = os.path.splitext(fn)\n",
    "    splitted_fn = fn.split('_')\n",
    "    if directory.split(os.path.sep)[-1] in tree_format:\n",
    "        if splitted_fn[-4] == '90':\n",
    "#             splitted_fn[-4] = '270'\n",
    "#             correct_fn = '_'.join(splitted_fn)\n",
    "#             correct_fn = correct_fn + ext\n",
    "#             correct_path = os.path.join(directory, correct_fn)\n",
    "#             move(ip, correct_path)\n",
    "            count+=1\n",
    "count"
   ]
  },
  {
   "cell_type": "markdown",
   "metadata": {},
   "source": [
    "## fill 0425, 0507-09, 0511, 0602, 0605"
   ]
  },
  {
   "cell_type": "code",
   "execution_count": 10,
   "metadata": {},
   "outputs": [],
   "source": [
    "# # wipe all data in specific date\n",
    "# c.execute('delete from new_metadata where date=\"20200602\"').fetchall()\n",
    "# c.execute('commit')\n",
    "# con.commit()\n",
    "# con.close()"
   ]
  },
  {
   "cell_type": "code",
   "execution_count": 1,
   "metadata": {},
   "outputs": [
    {
     "data": {
      "text/plain": [
       "123"
      ]
     },
     "execution_count": 1,
     "metadata": {},
     "output_type": "execute_result"
    }
   ],
   "source": [
    "import os, glob\n",
    "# /line/date/A4_result/PanelNo_eagle_location_component_degree_capacity_voltage_index.extension\n",
    "base_path = '/data/aoi-wzs-p3-dip-prewave-saiap/dip-prewave-saiap/*/0612/*/*.png' \n",
    "img_list = glob.glob(base_path)\n",
    "len(img_list)\n",
    "# for i in img_list:\n",
    "#     print(i)"
   ]
  },
  {
   "cell_type": "code",
   "execution_count": 8,
   "metadata": {},
   "outputs": [],
   "source": [
    "def test_path(ip):\n",
    "    # d: BASE_PATH/line/date/A4_result\n",
    "    # f: PanelNo_eagle_location_component_degree_capacity_voltage_index.extension\n",
    "    directory, filename = os.path.split(ip)\n",
    "    directory = directory.split(os.path.sep)\n",
    "    fn, ext = os.path.splitext(filename)\n",
    "    splitted_fn = fn.split('_')\n",
    "    return len(splitted_fn)\n",
    "    \n",
    "def path_to_symbol(ip):\n",
    "    # d: BASE_PATH/line/date/A4_result\n",
    "    # f: PanelNo_eagle_location_component_degree_capacity_voltage_index.extension\n",
    "    directory, filename = os.path.split(ip)\n",
    "    directory = directory.split(os.path.sep)\n",
    "    fn, ext = os.path.splitext(filename)\n",
    "    splitted_fn = fn.split('_')\n",
    "    ext = ext.split('.')[-1]\n",
    "    width, height = read_width_height(ip)\n",
    "    if len(directory[-2]) != 4:\n",
    "        directory[-2] = '0' + directory[-2]\n",
    "    symbol = (ip, \n",
    "              filename, \n",
    "              f'{splitted_fn[0]}_{splitted_fn[2]}', \n",
    "              splitted_fn[0], \n",
    "              splitted_fn[2],\n",
    "              splitted_fn[3],\n",
    "              splitted_fn[4],\n",
    "              splitted_fn[5],\n",
    "              None,\n",
    "              splitted_fn[6],\n",
    "              splitted_fn[7],\n",
    "              splitted_fn[1],\n",
    "              ext,\n",
    "              width,\n",
    "              height,\n",
    "              f'2020{directory[-2]}',\n",
    "              None,\n",
    "              None,\n",
    "              directory[-1]\n",
    "            )\n",
    "    return symbol"
   ]
  },
  {
   "cell_type": "code",
   "execution_count": 4,
   "metadata": {},
   "outputs": [
    {
     "name": "stdout",
     "output_type": "stream",
     "text": [
      "39 84\n"
     ]
    }
   ],
   "source": [
    "count_8 = 0\n",
    "count_other = 0\n",
    "for ip in img_list:\n",
    "    if test_path(ip)==8:\n",
    "        count_8+=1\n",
    "    else:\n",
    "#         print(test_path(ip))\n",
    "        count_other+=1\n",
    "print(count_8, count_other)"
   ]
  },
  {
   "cell_type": "code",
   "execution_count": 17,
   "metadata": {},
   "outputs": [],
   "source": [
    "for ip in img_list:\n",
    "    symbol = path_to_symbol(ip)\n",
    "#     print(symbol)\n",
    "#     break\n",
    "    try:\n",
    "        c.execute('''INSERT INTO new_metadata VALUES \n",
    "                    (?, ?, ?, ?, ?, ?, ?, ?, ?, ?, ?, ?, ?, ?, ?, ?, ?, ?, ?)\n",
    "                    ''', symbol)\n",
    "        c.fetchone()\n",
    "    except Exception as e:\n",
    "#         print(f'Exception msg: {e}')\n",
    "        continue\n",
    "#         sys.exit(f'{ip} occured error while inserting')"
   ]
  },
  {
   "cell_type": "code",
   "execution_count": 19,
   "metadata": {},
   "outputs": [],
   "source": [
    "c.execute('commit')\n",
    "con.commit()\n",
    "con.close()"
   ]
  },
  {
   "cell_type": "markdown",
   "metadata": {},
   "source": [
    "## fill 0427-0430 up"
   ]
  },
  {
   "cell_type": "code",
   "execution_count": 8,
   "metadata": {},
   "outputs": [],
   "source": [
    "def path_to_symbol_wrong(ip):\n",
    "    # d: BASE_PATH/line/date/A4_result\n",
    "    # f: PanelNo_location_component_degree_capacity_voltage_index.extension\n",
    "    directory, filename = os.path.split(ip)\n",
    "    directory = directory.split(os.path.sep)\n",
    "    fn, ext = os.path.splitext(filename)\n",
    "    splitted_fn = fn.split('_')\n",
    "    ext = ext.split('.')[-1]\n",
    "    width, height = read_width_height(ip)\n",
    "    if len(directory[-2]) != 4:\n",
    "        directory[-2] = '0' + directory[-2]\n",
    "    symbol = (ip, \n",
    "              filename, \n",
    "              f'{splitted_fn[0]}_{splitted_fn[1]}', \n",
    "              splitted_fn[0], \n",
    "              splitted_fn[1],\n",
    "              splitted_fn[2],\n",
    "              splitted_fn[3],\n",
    "              splitted_fn[4],\n",
    "              None,\n",
    "              splitted_fn[5],\n",
    "              splitted_fn[6],\n",
    "              None,\n",
    "              ext,\n",
    "              width,\n",
    "              height,\n",
    "              f'2020{directory[-2]}',\n",
    "              None,\n",
    "              None,\n",
    "              directory[-1]\n",
    "            )\n",
    "    return symbol"
   ]
  },
  {
   "cell_type": "code",
   "execution_count": 18,
   "metadata": {},
   "outputs": [],
   "source": [
    "for ip in img_list:\n",
    "    symbol = path_to_symbol_wrong(ip)\n",
    "#     print(symbol)\n",
    "#     break\n",
    "    try:\n",
    "        c.execute('''INSERT INTO new_metadata VALUES \n",
    "                    (?, ?, ?, ?, ?, ?, ?, ?, ?, ?, ?, ?, ?, ?, ?, ?, ?, ?, ?)\n",
    "                    ''', symbol)\n",
    "        c.fetchone()\n",
    "    except Exception as e:\n",
    "        print(f'Exception msg: {e}')\n",
    "        sys.exit(f'{ip} occured error while inserting')"
   ]
  },
  {
   "cell_type": "code",
   "execution_count": 55,
   "metadata": {},
   "outputs": [],
   "source": [
    "c.execute('commit')\n",
    "conn.commit()\n",
    "conn.close()"
   ]
  },
  {
   "cell_type": "markdown",
   "metadata": {},
   "source": [
    "## to figure"
   ]
  },
  {
   "cell_type": "code",
   "execution_count": 31,
   "metadata": {},
   "outputs": [
    {
     "name": "stdout",
     "output_type": "stream",
     "text": [
      "Requirement already satisfied: pandas in /usr/local/lib/python3.6/dist-packages (1.0.3)\n",
      "Requirement already satisfied: python-dateutil>=2.6.1 in /usr/local/lib/python3.6/dist-packages (from pandas) (2.8.1)\n",
      "Requirement already satisfied: pytz>=2017.2 in /usr/local/lib/python3.6/dist-packages (from pandas) (2020.1)\n",
      "Requirement already satisfied: numpy>=1.13.3 in /usr/local/lib/python3.6/dist-packages (from pandas) (1.17.3)\n",
      "Requirement already satisfied: six>=1.5 in /usr/local/lib/python3.6/dist-packages (from python-dateutil>=2.6.1->pandas) (1.14.0)\n",
      "\u001b[33mWARNING: You are using pip version 20.0.2; however, version 20.1 is available.\n",
      "You should consider upgrading via the '/usr/bin/python -m pip install --upgrade pip' command.\u001b[0m\n",
      "Collecting matplotlib\n",
      "  Downloading matplotlib-3.2.1-cp36-cp36m-manylinux1_x86_64.whl (12.4 MB)\n",
      "\u001b[K     |████████████████████████████████| 12.4 MB 7.3 MB/s eta 0:00:01\n",
      "\u001b[?25hCollecting cycler>=0.10\n",
      "  Downloading cycler-0.10.0-py2.py3-none-any.whl (6.5 kB)\n",
      "Requirement already satisfied: python-dateutil>=2.1 in /usr/local/lib/python3.6/dist-packages (from matplotlib) (2.8.1)\n",
      "Requirement already satisfied: numpy>=1.11 in /usr/local/lib/python3.6/dist-packages (from matplotlib) (1.17.3)\n",
      "Collecting kiwisolver>=1.0.1\n",
      "  Downloading kiwisolver-1.2.0-cp36-cp36m-manylinux1_x86_64.whl (88 kB)\n",
      "\u001b[K     |████████████████████████████████| 88 kB 6.8 MB/s eta 0:00:01\n",
      "\u001b[?25hCollecting pyparsing!=2.0.4,!=2.1.2,!=2.1.6,>=2.0.1\n",
      "  Downloading pyparsing-2.4.7-py2.py3-none-any.whl (67 kB)\n",
      "\u001b[K     |████████████████████████████████| 67 kB 5.8 MB/s eta 0:00:01\n",
      "\u001b[?25hRequirement already satisfied: six in /usr/local/lib/python3.6/dist-packages (from cycler>=0.10->matplotlib) (1.14.0)\n",
      "Installing collected packages: cycler, kiwisolver, pyparsing, matplotlib\n",
      "Successfully installed cycler-0.10.0 kiwisolver-1.2.0 matplotlib-3.2.1 pyparsing-2.4.7\n",
      "\u001b[33mWARNING: You are using pip version 20.0.2; however, version 20.1 is available.\n",
      "You should consider upgrading via the '/usr/bin/python -m pip install --upgrade pip' command.\u001b[0m\n"
     ]
    }
   ],
   "source": [
    "! pip install pandas\n",
    "! pip install matplotlib"
   ]
  },
  {
   "cell_type": "code",
   "execution_count": 1,
   "metadata": {},
   "outputs": [],
   "source": [
    "import matplotlib.pyplot as plt\n",
    "import sqlite3\n",
    "import pandas as pd\n",
    "db_path = '/p3/dip-prewave-saiap/metadata.db'\n",
    "# db_path = '/p3/metadata.db'\n",
    "conn = sqlite3.connect(db_path)\n",
    "c = conn.cursor()"
   ]
  },
  {
   "cell_type": "code",
   "execution_count": 19,
   "metadata": {},
   "outputs": [],
   "source": [
    "# com_loc = c.execute('select * from new_metadata where component!=\"AluCap\" and component!=\"ElecCap\"').fetchall()\n",
    "# # com_loc[0]\n",
    "# for cl in com_loc:\n",
    "#     c.execute('update new_metadata set SN=? where path=?', (cl[3]+'_'+cl[5], cl[0],)).fetchone()\n",
    "#     c.execute('update new_metadata set location=? where path=?', (cl[5], cl[0],)).fetchone()\n",
    "#     c.execute('update new_metadata set component=? where path=?', (cl[6], cl[0],)).fetchone()\n",
    "#     c.execute('update new_metadata set degree=? where path=?', (cl[7], cl[0],)).fetchone()\n",
    "#     c.execute('update new_metadata set capacity=? where path=?', (cl[9], cl[0],)).fetchone()\n",
    "#     c.execute('update new_metadata set img_capacity=? where path=?', (None, cl[0],)).fetchone()\n",
    "#     c.execute('update new_metadata set voltage=? where path=?', ('NA', cl[0],)).fetchone()\n",
    "#     c.execute('update new_metadata set index_count=? where path=?', (cl[1].split('_')[-1].split('.')[0], cl[0],)).fetchone()\n",
    "#     c.execute('update new_metadata set eagle=? where path=?', (cl[4], cl[0],)).fetchone()\n",
    "# conn.commit()\n"
   ]
  },
  {
   "cell_type": "code",
   "execution_count": 2,
   "metadata": {},
   "outputs": [
    {
     "data": {
      "text/plain": [
       "[('AluCap', 14200), ('ElecCap', 5036)]"
      ]
     },
     "execution_count": 2,
     "metadata": {},
     "output_type": "execute_result"
    }
   ],
   "source": [
    "total_by_com = c.execute('select component, count(*) from new_metadata group by component').fetchall()\n",
    "total_by_com"
   ]
  },
  {
   "cell_type": "code",
   "execution_count": 3,
   "metadata": {},
   "outputs": [
    {
     "data": {
      "text/html": [
       "<div>\n",
       "<style scoped>\n",
       "    .dataframe tbody tr th:only-of-type {\n",
       "        vertical-align: middle;\n",
       "    }\n",
       "\n",
       "    .dataframe tbody tr th {\n",
       "        vertical-align: top;\n",
       "    }\n",
       "\n",
       "    .dataframe thead th {\n",
       "        text-align: right;\n",
       "    }\n",
       "</style>\n",
       "<table border=\"1\" class=\"dataframe\">\n",
       "  <thead>\n",
       "    <tr style=\"text-align: right;\">\n",
       "      <th></th>\n",
       "      <th>date</th>\n",
       "      <th>AluCap</th>\n",
       "      <th>ElecCap</th>\n",
       "    </tr>\n",
       "  </thead>\n",
       "  <tbody>\n",
       "    <tr>\n",
       "      <th>0</th>\n",
       "      <td>20200417</td>\n",
       "      <td>117</td>\n",
       "      <td>965</td>\n",
       "    </tr>\n",
       "    <tr>\n",
       "      <th>1</th>\n",
       "      <td>20200418</td>\n",
       "      <td>44</td>\n",
       "      <td>537</td>\n",
       "    </tr>\n",
       "    <tr>\n",
       "      <th>2</th>\n",
       "      <td>20200420</td>\n",
       "      <td>26</td>\n",
       "      <td>19</td>\n",
       "    </tr>\n",
       "    <tr>\n",
       "      <th>3</th>\n",
       "      <td>20200421</td>\n",
       "      <td>2044</td>\n",
       "      <td>237</td>\n",
       "    </tr>\n",
       "    <tr>\n",
       "      <th>4</th>\n",
       "      <td>20200422</td>\n",
       "      <td>2626</td>\n",
       "      <td>671</td>\n",
       "    </tr>\n",
       "    <tr>\n",
       "      <th>5</th>\n",
       "      <td>20200423</td>\n",
       "      <td>5499</td>\n",
       "      <td>118</td>\n",
       "    </tr>\n",
       "    <tr>\n",
       "      <th>6</th>\n",
       "      <td>20200424</td>\n",
       "      <td>741</td>\n",
       "      <td>94</td>\n",
       "    </tr>\n",
       "    <tr>\n",
       "      <th>7</th>\n",
       "      <td>20200425</td>\n",
       "      <td>2340</td>\n",
       "      <td>215</td>\n",
       "    </tr>\n",
       "    <tr>\n",
       "      <th>8</th>\n",
       "      <td>20200426</td>\n",
       "      <td>277</td>\n",
       "      <td>147</td>\n",
       "    </tr>\n",
       "    <tr>\n",
       "      <th>9</th>\n",
       "      <td>20200427</td>\n",
       "      <td>376</td>\n",
       "      <td>1947</td>\n",
       "    </tr>\n",
       "    <tr>\n",
       "      <th>10</th>\n",
       "      <td>20200428</td>\n",
       "      <td>2</td>\n",
       "      <td>83</td>\n",
       "    </tr>\n",
       "    <tr>\n",
       "      <th>11</th>\n",
       "      <td>20200429</td>\n",
       "      <td>86</td>\n",
       "      <td>3</td>\n",
       "    </tr>\n",
       "    <tr>\n",
       "      <th>12</th>\n",
       "      <td>20200430</td>\n",
       "      <td>22</td>\n",
       "      <td>0</td>\n",
       "    </tr>\n",
       "  </tbody>\n",
       "</table>\n",
       "</div>"
      ],
      "text/plain": [
       "        date  AluCap  ElecCap\n",
       "0   20200417     117      965\n",
       "1   20200418      44      537\n",
       "2   20200420      26       19\n",
       "3   20200421    2044      237\n",
       "4   20200422    2626      671\n",
       "5   20200423    5499      118\n",
       "6   20200424     741       94\n",
       "7   20200425    2340      215\n",
       "8   20200426     277      147\n",
       "9   20200427     376     1947\n",
       "10  20200428       2       83\n",
       "11  20200429      86        3\n",
       "12  20200430      22        0"
      ]
     },
     "execution_count": 3,
     "metadata": {},
     "output_type": "execute_result"
    }
   ],
   "source": [
    "alu = c.execute('select date, count(*) from new_metadata where component=\"AluCap\" group by date order by date asc').fetchall()\n",
    "elec = c.execute('select date, count(*) from new_metadata where component=\"ElecCap\" group by date order by date asc').fetchall()\n",
    "# print(len(alu)==len(elec))\n",
    "df_dict = {'date':[], 'AluCap':[], 'ElecCap':[]}\n",
    "for l in range(len(alu)):\n",
    "    try:\n",
    "        df_dict['ElecCap'].append(elec[l][1])\n",
    "        df_dict['date'].append(alu[l][0])\n",
    "        df_dict['AluCap'].append(alu[l][1])\n",
    "#         print(alu[l][0], alu[l][1])\n",
    "#         print(elec[l][0], elec[l][1])\n",
    "    except:\n",
    "        df_dict['date'].append(alu[l][0])\n",
    "        df_dict['AluCap'].append(alu[l][1])\n",
    "        df_dict['ElecCap'].append(0)\n",
    "#         print(alu[l][0], alu[l][1])\n",
    "#         print(alu[l][0], 0)\n",
    "df = pd.DataFrame(df_dict)\n",
    "df"
   ]
  },
  {
   "cell_type": "code",
   "execution_count": 4,
   "metadata": {},
   "outputs": [
    {
     "data": {
      "image/png": "[encoded data removed]",
      "text/plain": [
       "<Figure size 1440x720 with 1 Axes>"
      ]
     },
     "metadata": {
      "needs_background": "light"
     },
     "output_type": "display_data"
    }
   ],
   "source": [
    "# gca stands for 'get current axis'\n",
    "plt.figure(figsize=(20,10))\n",
    "ax = plt.gca()\n",
    "plt.xticks(range(len(alu)), df['date'])\n",
    "df.plot(kind='line',x='date',y='AluCap',ax=ax, rot=45)\n",
    "df.plot(kind='line',x='date',y='ElecCap', color='red', ax=ax, rot=45)\n",
    "# ax.set_xticks(range(len(alu)))\n",
    "\n",
    "# plt.show()\n",
    "plt.savefig('041730_count_by_com.png')"
   ]
  },
  {
   "cell_type": "code",
   "execution_count": null,
   "metadata": {},
   "outputs": [],
   "source": []
  }
 ],
 "metadata": {
  "kernelspec": {
   "display_name": "Python 3",
   "language": "python",
   "name": "python3"
  },
  "language_info": {
   "codemirror_mode": {
    "name": "ipython",
    "version": 3
   },
   "file_extension": ".py",
   "mimetype": "text/x-python",
   "name": "python",
   "nbconvert_exporter": "python",
   "pygments_lexer": "ipython3",
   "version": "3.6.9"
  }
 },
 "nbformat": 4,
 "nbformat_minor": 4
}
