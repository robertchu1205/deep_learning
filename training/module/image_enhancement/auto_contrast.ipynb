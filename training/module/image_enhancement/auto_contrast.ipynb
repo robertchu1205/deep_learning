{
 "cells": [
  {
   "cell_type": "code",
   "execution_count": null,
   "metadata": {},
   "outputs": [],
   "source": [
    "# 自适应对比度增强算法，C表示对高频的直接增益系数,n表示滤波半径，maxCG表示对CG做最大值限制\n",
    "Mat ACE(Mat src, int C = 3, int n = 3, float MaxCG = 7.5){\n",
    "    int row = src.rows;\n",
    "    int col = src.cols;\n",
    "    Mat meanLocal; # 图像局部均值\n",
    "    Mat varLocal; # 图像局部方差\n",
    "    Mat meanGlobal; # 全局均值\n",
    "    Mat varGlobal; # 全局标准差\n",
    "    blur(src.clone(), meanLocal, Size(n, n));\n",
    "    Mat highFreq = src - meanLocal;\n",
    "    varLocal = highFreq.mul(highFreq);\n",
    "    varLocal.convertTo(varLocal, CV_32F);\n",
    "    for(int i = 0; i < row; i++){\n",
    "        for(int j = 0; j < col; j++){\n",
    "            varLocal.at<float>(i, j) = (float)sqrt(varLocal.at<float>(i, j));\n",
    "        }\n",
    "    }\n",
    "    meanStdDev(src, meanGlobal, varGlobal);\n",
    "    Mat gainArr = meanGlobal / varLocal; # 增益系数矩阵\n",
    "    for(int i = 0; i < row; i++){\n",
    "        for(int j = 0; j < col; j++){\n",
    "            if(gainArr.at<float>(i, j) > MaxCG){\n",
    "                gainArr.at<float>(i, j) = MaxCG;\n",
    "            }\n",
    "        }\n",
    "    }\n",
    "    printf(\"%d %d\\n\", row, col);\n",
    "    gainArr.convertTo(gainArr, CV_8U);\n",
    "    gainArr = gainArr.mul(highFreq);\n",
    "    Mat dst1 = meanLocal + gainArr;\n",
    "    //Mat dst2 = meanLocal + C * highFreq;\n",
    "    return dst1;\n",
    "}"
   ]
  },
  {
   "cell_type": "code",
   "execution_count": null,
   "metadata": {},
   "outputs": [],
   "source": [
    "int main(){\n",
    "    Mat src = imread(\"../test.png\");\n",
    "    vector <Mat> now;\n",
    "    split(src, now);\n",
    "    int C = 150;\n",
    "    int n = 5;\n",
    "    float MaxCG = 3;\n",
    "    Mat dst1 = ACE(now[0], C, n, MaxCG);\n",
    "    Mat dst2 = ACE(now[1], C, n, MaxCG);\n",
    "    Mat dst3 = ACE(now[2], C, n, MaxCG);\n",
    "    now.clear();\n",
    "    Mat dst;\n",
    "    now.push_back(dst1);\n",
    "    now.push_back(dst2);\n",
    "    now.push_back(dst3);\n",
    "    cv::merge(now, dst);\n",
    "    imshow(\"origin\", src);\n",
    "    imshow(\"result\", dst);\n",
    "    imwrite(\"../result.jpg\", dst);\n",
    "    waitKey(0);\n",
    "    return 0;\n",
    "}"
   ]
  }
 ],
 "metadata": {
  "kernelspec": {
   "display_name": "Python 3",
   "language": "python",
   "name": "python3"
  },
  "language_info": {
   "codemirror_mode": {
    "name": "ipython",
    "version": 3
   },
   "file_extension": ".py",
   "mimetype": "text/x-python",
   "name": "python",
   "nbconvert_exporter": "python",
   "pygments_lexer": "ipython3",
   "version": "3.6.9"
  }
 },
 "nbformat": 4,
 "nbformat_minor": 4
}
