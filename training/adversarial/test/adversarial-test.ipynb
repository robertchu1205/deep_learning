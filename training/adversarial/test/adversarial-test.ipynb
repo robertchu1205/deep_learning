{
 "cells": [
  {
   "cell_type": "markdown",
   "metadata": {},
   "source": [
    "### base_model / model"
   ]
  },
  {
   "cell_type": "code",
   "execution_count": 1,
   "metadata": {},
   "outputs": [],
   "source": [
    "import tensorflow as tf\n",
    "from tensorboard.plugins.hparams import api as hp\n",
    "import neural_structured_learning as nsl\n",
    "import time, os\n",
    "policy = tf.keras.mixed_precision.experimental.Policy('mixed_float16')\n",
    "tf.keras.mixed_precision.experimental.set_policy(policy)"
   ]
  },
  {
   "cell_type": "code",
   "execution_count": 2,
   "metadata": {},
   "outputs": [
    {
     "name": "stdout",
     "output_type": "stream",
     "text": [
      "Model: \"model\"\n",
      "_________________________________________________________________\n",
      "Layer (type)                 Output Shape              Param #   \n",
      "=================================================================\n",
      "image (InputLayer)           [(None, 96, 96, 3)]       0         \n",
      "_________________________________________________________________\n",
      "xception (Model)             (None, 3, 3, 2048)        20861480  \n",
      "_________________________________________________________________\n",
      "global_average_pooling2d (Gl (None, 2048)              0         \n",
      "_________________________________________________________________\n",
      "dense_logits (Dense)         (None, 2)                 4098      \n",
      "_________________________________________________________________\n",
      "predictions (Activation)     (None, 2)                 0         \n",
      "=================================================================\n",
      "Total params: 20,865,578\n",
      "Trainable params: 20,811,050\n",
      "Non-trainable params: 54,528\n",
      "_________________________________________________________________\n"
     ]
    }
   ],
   "source": [
    "inputs = {'image': tf.keras.Input((96,96,3), name='image'),}\n",
    "model_body = tf.keras.applications.Xception(input_shape=(96,96,3), \n",
    "            include_top=False)\n",
    "for layer in model_body.layers:\n",
    "    layer.trainable = True\n",
    "x = model_body(inputs['image'])\n",
    "x = tf.keras.layers.GlobalAveragePooling2D()(x)\n",
    "# x = tf.keras.layers.Dense(128, name='dense_logits_128')(x)\n",
    "x = tf.keras.layers.Dense(2, name='dense_logits')(x)\n",
    "x = tf.keras.layers.Activation('softmax', dtype='float32', name='predictions')(x)\n",
    "base_model = tf.keras.Model(inputs=inputs, outputs=x)\n",
    "base_model.summary()"
   ]
  },
  {
   "cell_type": "code",
   "execution_count": 3,
   "metadata": {},
   "outputs": [
    {
     "name": "stdout",
     "output_type": "stream",
     "text": [
      "[<RepeatDataset shapes: ({image: (96, 96, None), label: (2,)}, (2,)), types: ({image: tf.float32, label: tf.float32}, tf.float32)>, <RepeatDataset shapes: ({image: (96, 96, None), label: (2,)}, (2,)), types: ({image: tf.float32, label: tf.float32}, tf.float32)>, <RepeatDataset shapes: ({image: (96, 96, None), label: (2,)}, (2,)), types: ({image: tf.float32, label: tf.float32}, tf.float32)>, <RepeatDataset shapes: ({image: (96, 96, None), label: (2,)}, (2,)), types: ({image: tf.float32, label: tf.float32}, tf.float32)>, <RepeatDataset shapes: ({image: (96, 96, None), label: (2,)}, (2,)), types: ({image: tf.float32, label: tf.float32}, tf.float32)>]\n"
     ]
    }
   ],
   "source": [
    "tfrecords = [\n",
    "    '/data/aoi-wzs-p1-dip-fa-nvidia/label_heatsink_screw/tfrecord/stylized_screw_heatsink_before_20200503.tfrecord',\n",
    "]\n",
    "def to_ds_comp_label(label, component):\n",
    "    ds = tf.data.experimental.SqlDataset(\n",
    "            \"sqlite\", \"/data/robert/p1-dip-metadata.db\", \n",
    "            f\"\"\"select path, label from metadata \n",
    "            where label = '{label}' and \n",
    "            component_class = '{component}' \n",
    "            \"\"\", (tf.string, tf.string))\n",
    "    return ds\n",
    "\n",
    "ds_list = []\n",
    "for label in [\"NG\", \"OK\"]:\n",
    "    for component in [\"heat_sink\", \"screw\"]:\n",
    "        ds_list.append(to_ds_comp_label(label, component))\n",
    "LABEL_CLASS_LIST = ['NG', 'OK']\n",
    "label_lookup = tf.lookup.StaticHashTable(\n",
    "        tf.lookup.KeyValueTensorInitializer(LABEL_CLASS_LIST, tf.constant([0, 1], dtype=tf.int64)), -1)\n",
    "def parse_img(img):\n",
    "    img = tf.io.decode_image(img, channels=3, dtype=tf.dtypes.float32, expand_animations = False)\n",
    "#     img = tf.cast(img, dtype=tf.dtypes.float32) / 255.0\n",
    "    img = tf.image.resize_with_pad(img, 96, 96)\n",
    "    return img\n",
    "def label_to_onehot(label):\n",
    "    label = label_lookup.lookup(label)\n",
    "    label = tf.one_hot(label, 2)\n",
    "    # label = tf.cast(label, dtype=tf.float32)\n",
    "    return label\n",
    "def parse_example(example_proto):    \n",
    "    image_feature_description = {\n",
    "        \"path\": tf.io.FixedLenFeature([], tf.string),\n",
    "        \"image\": tf.io.FixedLenFeature([], tf.string),\n",
    "        \"degree\": tf.io.FixedLenFeature([], tf.string),\n",
    "        \"label\": tf.io.FixedLenFeature([], tf.string),\n",
    "    }\n",
    "    features_in_example = tf.io.parse_single_example(example_proto, image_feature_description)\n",
    "    features = {\n",
    "        'image': parse_img(tf.io.read_file(features_in_example['path'])),\n",
    "        'label': label_to_onehot(features_in_example['label']),\n",
    "    }\n",
    "    label = features['label']\n",
    "    return features, label\n",
    "\n",
    "def parse_func(path, label):\n",
    "    features = {\n",
    "        'image': parse_img(tf.io.read_file(path)),\n",
    "        'label': label_to_onehot(label),\n",
    "    }\n",
    "    label = features['label']\n",
    "    return features, label\n",
    "sampled_tfds = tf.data.TFRecordDataset(tfrecords[0]).map(parse_example, tf.data.experimental.AUTOTUNE).repeat()\n",
    "ds_from_ds_list = [d.map(parse_func, tf.data.experimental.AUTOTUNE).repeat() for d in ds_list]\n",
    "ds_from_ds_list.append(sampled_tfds)\n",
    "print(ds_from_ds_list)"
   ]
  },
  {
   "cell_type": "code",
   "execution_count": 4,
   "metadata": {},
   "outputs": [],
   "source": [
    "sampled_ds = tf.data.experimental.sample_from_datasets(ds_from_ds_list).shuffle(10000)\n",
    "train_ds = sampled_ds.take(5000).repeat().cache().batch(512).prefetch(tf.data.experimental.AUTOTUNE)\n",
    "val_ds = sampled_ds.skip(5000).repeat().cache().batch(512).prefetch(tf.data.experimental.AUTOTUNE)"
   ]
  },
  {
   "cell_type": "code",
   "execution_count": 4,
   "metadata": {},
   "outputs": [],
   "source": [
    "METRICS = [\n",
    "            tf.keras.metrics.CategoricalAccuracy(name='acc'),\n",
    "            tf.keras.metrics.Precision(name=\"precision/ok\", class_id=0),\n",
    "            tf.keras.metrics.Precision(name=\"precision/ng\", class_id=1),\n",
    "            tf.keras.metrics.Recall(name=\"recall/ok\", class_id=0),\n",
    "            tf.keras.metrics.Recall(name=\"recall/ng\", class_id=1),\n",
    "        ]"
   ]
  },
  {
   "cell_type": "code",
   "execution_count": 5,
   "metadata": {},
   "outputs": [
    {
     "data": {
      "text/plain": [
       "<neural_structured_learning.keras.adversarial_regularization.AdversarialRegularization at 0x7fe87c2f3828>"
      ]
     },
     "execution_count": 5,
     "metadata": {},
     "output_type": "execute_result"
    }
   ],
   "source": [
    "adv_config = nsl.configs.make_adv_reg_config(multiplier=2e-1, \n",
    "                                                adv_step_size=2e-1, \n",
    "                                                adv_grad_norm = 'infinity')\n",
    "model = nsl.keras.AdversarialRegularization(base_model, \n",
    "                                                label_keys=['label'], \n",
    "                                                adv_config=adv_config)\n",
    "model.compile(optimizer=tf.keras.optimizers.Adam(learning_rate = 1e-4), \n",
    "                        loss=tf.keras.losses.CategoricalCrossentropy(),\n",
    "                        metrics=METRICS)\n",
    "base_model.compile(optimizer=tf.keras.optimizers.Adam(learning_rate = 1e-4), \n",
    "                        loss=tf.keras.losses.CategoricalCrossentropy(),\n",
    "                        metrics=METRICS)\n",
    "model"
   ]
  },
  {
   "cell_type": "code",
   "execution_count": 7,
   "metadata": {},
   "outputs": [
    {
     "name": "stdout",
     "output_type": "stream",
     "text": [
      "Epoch 1/3\n",
      "WARNING:tensorflow:AutoGraph could not transform <bound method Socket.send of <zmq.sugar.socket.Socket object at 0x7fbc01814388>> and will run it as-is.\n",
      "Please report this to the TensorFlow team. When filing the bug, set the verbosity to 10 (on Linux, `export AUTOGRAPH_VERBOSITY=10`) and attach the full output.\n",
      "Cause: <cyfunction Socket.send at 0x7fbbffb394f8> is not a module, class, method, function, traceback, frame, or code object\n",
      "To silence this warning, decorate the function with @tf.autograph.experimental.do_not_convert\n"
     ]
    },
    {
     "name": "stderr",
     "output_type": "stream",
     "text": [
      "WARNING:absl:Cannot perturb features dict_keys(['label'])WARNING:tensorflow:AutoGraph could not transform <bound method Socket.send of <zmq.sugar.socket.Socket object at 0x7fbc01814388>> and will run it as-is.\n",
      "Please report this to the TensorFlow team. When filing the bug, set the verbosity to 10 (on Linux, `export AUTOGRAPH_VERBOSITY=10`) and attach the full output.\n",
      "Cause: <cyfunction Socket.send at 0x7fbbffb394f8> is not a module, class, method, function, traceback, frame, or code object\n",
      "To silence this warning, decorate the function with @tf.autograph.experimental.do_not_convert\n"
     ]
    },
    {
     "name": "stdout",
     "output_type": "stream",
     "text": [
      "WARNING: AutoGraph could not transform <bound method Socket.send of <zmq.sugar.socket.Socket object at 0x7fbc01814388>> and will run it as-is.\n",
      "Please report this to the TensorFlow team. When filing the bug, set the verbosity to 10 (on Linux, `export AUTOGRAPH_VERBOSITY=10`) and attach the full output.\n",
      "Cause: <cyfunction Socket.send at 0x7fbbffb394f8> is not a module, class, method, function, traceback, frame, or code object\n",
      "To silence this warning, decorate the function with @tf.autograph.experimental.do_not_convert\n"
     ]
    },
    {
     "name": "stderr",
     "output_type": "stream",
     "text": [
      "\n"
     ]
    },
    {
     "name": "stdout",
     "output_type": "stream",
     "text": [
      "5/5 - 49s - loss: 0.5919 - categorical_crossentropy: 0.4645 - acc: 0.8129 - precision/ok: 0.7418 - precision/ng: 0.8688 - recall/ok: 0.8164 - recall/ng: 0.8105 - scaled_adversarial_loss: 0.1274 - val_loss: 0.6249 - val_categorical_crossentropy: 0.4483 - val_acc: 0.8010 - val_precision/ok: 0.7435 - val_precision/ng: 0.8402 - val_recall/ok: 0.7607 - val_recall/ng: 0.8275 - val_scaled_adversarial_loss: 0.1766\n",
      "Epoch 2/3\n",
      "5/5 - 56s - loss: 0.1805 - categorical_crossentropy: 0.0937 - acc: 0.9816 - precision/ok: 0.9919 - precision/ng: 0.9753 - recall/ok: 0.9615 - recall/ng: 0.9948 - scaled_adversarial_loss: 0.0867 - val_loss: 0.4712 - val_categorical_crossentropy: 0.3259 - val_acc: 0.8506 - val_precision/ok: 0.8106 - val_precision/ng: 0.8768 - val_recall/ok: 0.8118 - val_recall/ng: 0.8760 - val_scaled_adversarial_loss: 0.1453\n",
      "Epoch 3/3\n",
      "5/5 - 30s - loss: 0.0820 - categorical_crossentropy: 0.0211 - acc: 0.9941 - precision/ok: 0.9990 - precision/ng: 0.9911 - recall/ok: 0.9861 - recall/ng: 0.9994 - scaled_adversarial_loss: 0.0609 - val_loss: 0.3711 - val_categorical_crossentropy: 0.2635 - val_acc: 0.8836 - val_precision/ok: 0.8767 - val_precision/ng: 0.8879 - val_recall/ok: 0.8196 - val_recall/ng: 0.9250 - val_scaled_adversarial_loss: 0.1076\n"
     ]
    }
   ],
   "source": [
    "tb_log_dir = '/data/aoi-wzs-p1-dip-fa-nvidia/label_heatsink_screw/tb_logs/test/'\n",
    "trained_h5_dir = f'''/data/aoi-wzs-p1-dip-fa-nvidia/label_heatsink_screw/trained_h5/test/'''\n",
    "callbacks = [\n",
    "        tf.keras.callbacks.TensorBoard(\n",
    "            log_dir=tb_log_dir,\n",
    "            write_graph=False,\n",
    "            profile_batch=0,\n",
    "        ),\n",
    "        tf.keras.callbacks.ModelCheckpoint(\n",
    "            filepath= trained_h5_dir+'ep_{epoch:03d}-vl_{val_loss:03f}-va_{val_acc:03f}.h5',\n",
    "            save_best_only=True,\n",
    "            monitor='val_loss',\n",
    "            mode='min',\n",
    "            save_weights_only=True,\n",
    "        ),\n",
    "    ]\n",
    "training_history = model.fit(\n",
    "                train_ds, \n",
    "                epochs=3, \n",
    "                validation_data=val_ds, \n",
    "                steps_per_epoch=5, \n",
    "                validation_steps=10,\n",
    "                callbacks=callbacks,\n",
    "                verbose=2 \n",
    "            )"
   ]
  },
  {
   "cell_type": "code",
   "execution_count": 6,
   "metadata": {},
   "outputs": [
    {
     "name": "stdout",
     "output_type": "stream",
     "text": [
      "3831\n"
     ]
    }
   ],
   "source": [
    "def test_parse_func(path, degree, label):\n",
    "    features = {\n",
    "        'image': parse_img(tf.io.read_file(path)),\n",
    "        'label': label_to_onehot(label),\n",
    "    }\n",
    "    label = features['label']\n",
    "    return features, label\n",
    "def test_ds_to_eva(test_ds, batch_size=1024):\n",
    "    return test_ds.map(test_parse_func, tf.data.experimental.AUTOTUNE).batch(batch_size)\n",
    "test_ds = tf.data.experimental.SqlDataset(\n",
    "            'sqlite', '/data/robert/p1-dip-metadata.db', \n",
    "            f\"\"\"select path, degree, label from metadata \n",
    "            where ( label = 'OK' or label = 'NG' ) and \n",
    "            ( component_class = 'heat_sink' or\n",
    "            component_class = 'screw' ) and date >= 20200918\n",
    "            \"\"\", (tf.string, tf.string, tf.string))\n",
    "print([i for i,_ in enumerate(test_ds)][-1] + 1)\n",
    "eva_test_ds = test_ds_to_eva(test_ds)"
   ]
  },
  {
   "cell_type": "code",
   "execution_count": 10,
   "metadata": {},
   "outputs": [
    {
     "name": "stdout",
     "output_type": "stream",
     "text": [
      "4/4 [==============================] - 3s 864ms/step - loss: 2.8771 - categorical_crossentropy: 2.7030 - acc: 0.6588 - precision/ok: 0.0061 - precision/ng: 0.9960 - recall/ok: 0.4444 - recall/ng: 0.6598 - scaled_adversarial_loss: 0.1741\n",
      "{'loss': 2.8770737648010254, 'categorical_crossentropy': 2.7029995918273926, 'acc': 0.6588358283042908, 'precision/ok': 0.006130268331617117, 'precision/ng': 0.9960411787033081, 'recall/ok': 0.4444444477558136, 'recall/ng': 0.6598479151725769, 'scaled_adversarial_loss': 0.1740739345550537}\n"
     ]
    }
   ],
   "source": [
    "evaluate = model.evaluate(eva_test_ds)\n",
    "named_results = dict(zip(model.metrics_names, evaluate))\n",
    "print(named_results)"
   ]
  },
  {
   "cell_type": "markdown",
   "metadata": {},
   "source": [
    "### load weights"
   ]
  },
  {
   "cell_type": "code",
   "execution_count": 9,
   "metadata": {},
   "outputs": [],
   "source": [
    "best_for_now = '/data/aoi-wzs-p1-dip-fa-nvidia/label_heatsink_screw/trained_h5/tune/ep_013-vl_0.154498-va_0.997651.h5'\n",
    "model.load_weights(best_for_now)\n",
    "b = model.base_model\n",
    "b.save_weights('/data/aoi-wzs-p1-dip-fa-nvidia/label_heatsink_screw/trained_h5/tune_20201022.h5')"
   ]
  },
  {
   "cell_type": "code",
   "execution_count": 8,
   "metadata": {},
   "outputs": [
    {
     "name": "stdout",
     "output_type": "stream",
     "text": [
      "/data/aoi-wzs-p1-dip-fa-nvidia/label_heatsink_screw/trained_h5/tune/ep_008-vl_0.151375-va_0.996868.h5\n",
      "4/4 [==============================] - 1s 306ms/step - loss: 0.0658 - acc: 0.9969 - precision/ok: 0.6071 - precision/ng: 0.9997 - recall/ok: 0.9444 - recall/ng: 0.9971\n",
      "{'loss': 0.06578820198774338, 'acc': 0.9968676567077637, 'precision/ok': 0.6071428656578064, 'precision/ng': 0.999737024307251, 'recall/ok': 0.9444444179534912, 'recall/ng': 0.9971151351928711}\n",
      "/data/aoi-wzs-p1-dip-fa-nvidia/label_heatsink_screw/trained_h5/tune/ep_001-vl_0.962143-va_0.833203.h5\n",
      "4/4 [==============================] - 2s 544ms/step - loss: 0.3812 - acc: 0.8332 - precision/ok: 0.0245 - precision/ng: 0.9994 - recall/ok: 0.8889 - recall/ng: 0.8329\n",
      "{'loss': 0.38122883439064026, 'acc': 0.8332028388977051, 'precision/ok': 0.02450229786336422, 'precision/ng': 0.9993706941604614, 'recall/ok': 0.8888888955116272, 'recall/ng': 0.8329399228096008}\n",
      "/data/aoi-wzs-p1-dip-fa-nvidia/label_heatsink_screw/trained_h5/tune/ep_011-vl_0.300886-va_0.917515.h5\n",
      "4/4 [==============================] - 2s 608ms/step - loss: 0.2178 - acc: 0.9000 - precision/ok: 0.0552 - precision/ng: 0.9997 - recall/ok: 0.9444 - recall/ng: 0.8998\n",
      "{'loss': 0.21779683232307434, 'acc': 0.9000260829925537, 'precision/ok': 0.055194806307554245, 'precision/ng': 0.9997086524963379, 'recall/ok': 0.9444444179534912, 'recall/ng': 0.8998163938522339}\n",
      "/data/aoi-wzs-p1-dip-fa-nvidia/label_heatsink_screw/trained_h5/tune/ep_006-vl_0.978118-va_0.788045.h5\n",
      "4/4 [==============================] - 3s 650ms/step - loss: 0.7602 - acc: 0.7878 - precision/ok: 0.0205 - precision/ng: 0.9997 - recall/ok: 0.9444 - recall/ng: 0.7870\n",
      "{'loss': 0.7601616978645325, 'acc': 0.7877838611602783, 'precision/ok': 0.020506635308265686, 'precision/ng': 0.9996668696403503, 'recall/ok': 0.9444444179534912, 'recall/ng': 0.78704434633255}\n",
      "/data/aoi-wzs-p1-dip-fa-nvidia/label_heatsink_screw/trained_h5/tune/ep_003-vl_0.656956-va_0.831637.h5\n",
      "4/4 [==============================] - 2s 560ms/step - loss: 0.4440 - acc: 0.8316 - precision/ok: 0.0257 - precision/ng: 0.9997 - recall/ok: 0.9444 - recall/ng: 0.8311\n",
      "{'loss': 0.4440350830554962, 'acc': 0.8316366672515869, 'precision/ok': 0.025718608871102333, 'precision/ng': 0.9996845722198486, 'recall/ok': 0.9444444179534912, 'recall/ng': 0.8311040997505188}\n",
      "/data/aoi-wzs-p1-dip-fa-nvidia/label_heatsink_screw/trained_h5/tune/ep_004-vl_0.698748-va_0.828765.h5\n",
      "4/4 [==============================] - 2s 578ms/step - loss: 0.5065 - acc: 0.8288 - precision/ok: 0.0253 - precision/ng: 0.9997 - recall/ok: 0.9444 - recall/ng: 0.8282\n",
      "{'loss': 0.5065346956253052, 'acc': 0.828765332698822, 'precision/ok': 0.0252976194024086, 'precision/ng': 0.9996834397315979, 'recall/ok': 0.9444444179534912, 'recall/ng': 0.8282192349433899}\n",
      "/data/aoi-wzs-p1-dip-fa-nvidia/label_heatsink_screw/trained_h5/tune/ep_004-vl_0.620160-va_0.829287.h5\n",
      "4/4 [==============================] - 2s 562ms/step - loss: 0.4993 - acc: 0.8293 - precision/ok: 0.0254 - precision/ng: 0.9997 - recall/ok: 0.9444 - recall/ng: 0.8287\n",
      "{'loss': 0.4992573857307434, 'acc': 0.8292874097824097, 'precision/ok': 0.02537313476204872, 'precision/ng': 0.9996836185455322, 'recall/ok': 0.9444444179534912, 'recall/ng': 0.8287437558174133}\n",
      "/data/aoi-wzs-p1-dip-fa-nvidia/label_heatsink_screw/trained_h5/tune/ep_013-vl_0.133667-va_0.997651.h5\n",
      "4/4 [==============================] - 3s 647ms/step - loss: 0.0647 - acc: 0.9977 - precision/ok: 0.6800 - precision/ng: 0.9997 - recall/ok: 0.9444 - recall/ng: 0.9979\n",
      "{'loss': 0.06471522897481918, 'acc': 0.9976507425308228, 'precision/ok': 0.6800000071525574, 'precision/ng': 0.9997372627258301, 'recall/ok': 0.9444444179534912, 'recall/ng': 0.9979019165039062}\n",
      "/data/aoi-wzs-p1-dip-fa-nvidia/label_heatsink_screw/trained_h5/tune/ep_001-vl_0.729965-va_0.832159.h5\n",
      "4/4 [==============================] - 2s 614ms/step - loss: 0.4537 - acc: 0.8322 - precision/ok: 0.0244 - precision/ng: 0.9994 - recall/ok: 0.8889 - recall/ng: 0.8319\n",
      "{'loss': 0.45369282364845276, 'acc': 0.8321586847305298, 'precision/ok': 0.02435312047600746, 'precision/ng': 0.9993698596954346, 'recall/ok': 0.8888888955116272, 'recall/ng': 0.831890881061554}\n",
      "/data/aoi-wzs-p1-dip-fa-nvidia/label_heatsink_screw/trained_h5/tune/ep_001-vl_0.844921-va_0.841556.h5\n",
      "4/4 [==============================] - 2s 566ms/step - loss: 0.2785 - acc: 0.8416 - precision/ok: 0.0260 - precision/ng: 0.9994 - recall/ok: 0.8889 - recall/ng: 0.8413\n",
      "{'loss': 0.27847644686698914, 'acc': 0.8415557146072388, 'precision/ok': 0.025974025949835777, 'precision/ng': 0.9993769526481628, 'recall/ok': 0.8888888955116272, 'recall/ng': 0.8413322567939758}\n",
      "/data/aoi-wzs-p1-dip-fa-nvidia/label_heatsink_screw/trained_h5/tune/ep_010-vl_0.360047-va_0.968677.h5\n",
      "4/4 [==============================] - 3s 701ms/step - loss: 0.2164 - acc: 0.9682 - precision/ok: 0.1250 - precision/ng: 0.9997 - recall/ok: 0.9444 - recall/ng: 0.9683\n",
      "{'loss': 0.21635861694812775, 'acc': 0.9681545495986938, 'precision/ok': 0.125, 'precision/ng': 0.9997292160987854, 'recall/ok': 0.9444444179534912, 'recall/ng': 0.9682664275169373}\n",
      "/data/aoi-wzs-p1-dip-fa-nvidia/label_heatsink_screw/trained_h5/tune/ep_013-vl_0.154498-va_0.997651.h5\n",
      "4/4 [==============================] - 3s 737ms/step - loss: 0.0590 - acc: 0.9977 - precision/ok: 0.6800 - precision/ng: 0.9997 - recall/ok: 0.9444 - recall/ng: 0.9979\n",
      "{'loss': 0.059045881032943726, 'acc': 0.9976507425308228, 'precision/ok': 0.6800000071525574, 'precision/ng': 0.9997372627258301, 'recall/ok': 0.9444444179534912, 'recall/ng': 0.9979019165039062}\n",
      "/data/aoi-wzs-p1-dip-fa-nvidia/label_heatsink_screw/trained_h5/tune/ep_002-vl_0.629322-va_0.830070.h5\n",
      "4/4 [==============================] - 3s 627ms/step - loss: 0.4743 - acc: 0.8301 - precision/ok: 0.0255 - precision/ng: 0.9997 - recall/ok: 0.9444 - recall/ng: 0.8295\n",
      "{'loss': 0.47431451082229614, 'acc': 0.8300704956054688, 'precision/ok': 0.025487257167696953, 'precision/ng': 0.9996839165687561, 'recall/ok': 0.9444444179534912, 'recall/ng': 0.8295305371284485}\n",
      "/data/aoi-wzs-p1-dip-fa-nvidia/label_heatsink_screw/trained_h5/tune/ep_001-vl_1.000884-va_0.834247.h5\n",
      "4/4 [==============================] - 3s 824ms/step - loss: 0.3624 - acc: 0.8342 - precision/ok: 0.0247 - precision/ng: 0.9994 - recall/ok: 0.8889 - recall/ng: 0.8340\n",
      "{'loss': 0.36241814494132996, 'acc': 0.8342469334602356, 'precision/ok': 0.02469135820865631, 'precision/ng': 0.9993714690208435, 'recall/ok': 0.8888888955116272, 'recall/ng': 0.8339889645576477}\n",
      "/data/aoi-wzs-p1-dip-fa-nvidia/label_heatsink_screw/trained_h5/tune/ep_010-vl_0.411266-va_0.868703.h5\n",
      "4/4 [==============================] - 3s 664ms/step - loss: 0.2592 - acc: 0.8577 - precision/ok: 0.0335 - precision/ng: 0.9997 - recall/ok: 0.9444 - recall/ng: 0.8573\n",
      "{'loss': 0.25921177864074707, 'acc': 0.8577395081520081, 'precision/ok': 0.03346456587314606, 'precision/ng': 0.9996941685676575, 'recall/ok': 0.9444444179534912, 'recall/ng': 0.8573302030563354}\n",
      "/data/aoi-wzs-p1-dip-fa-nvidia/label_heatsink_screw/trained_h5/tune/ep_003-vl_0.493683-va_0.831637.h5\n",
      "4/4 [==============================] - 3s 682ms/step - loss: 0.3501 - acc: 0.8316 - precision/ok: 0.0257 - precision/ng: 0.9997 - recall/ok: 0.9444 - recall/ng: 0.8311\n",
      "{'loss': 0.3501385748386383, 'acc': 0.8316366672515869, 'precision/ok': 0.025718608871102333, 'precision/ng': 0.9996845722198486, 'recall/ok': 0.9444444179534912, 'recall/ng': 0.8311040997505188}\n",
      "/data/aoi-wzs-p1-dip-fa-nvidia/label_heatsink_screw/trained_h5/tune/ep_001-vl_1.034524-va_0.832681.h5\n",
      "4/4 [==============================] - 3s 684ms/step - loss: 0.4329 - acc: 0.8327 - precision/ok: 0.0244 - precision/ng: 0.9994 - recall/ok: 0.8889 - recall/ng: 0.8324\n",
      "{'loss': 0.43291646242141724, 'acc': 0.8326807618141174, 'precision/ok': 0.02442748099565506, 'precision/ng': 0.999370276927948, 'recall/ok': 0.8888888955116272, 'recall/ng': 0.8324154019355774}\n",
      "/data/aoi-wzs-p1-dip-fa-nvidia/label_heatsink_screw/trained_h5/tune/ep_003-vl_0.554091-va_0.832159.h5\n",
      "4/4 [==============================] - 3s 700ms/step - loss: 0.4069 - acc: 0.8322 - precision/ok: 0.0258 - precision/ng: 0.9997 - recall/ok: 0.9444 - recall/ng: 0.8316\n",
      "{'loss': 0.40685147047042847, 'acc': 0.8321586847305298, 'precision/ok': 0.025796661153435707, 'precision/ng': 0.999684751033783, 'recall/ok': 0.9444444179534912, 'recall/ng': 0.8316286206245422}\n",
      "/data/aoi-wzs-p1-dip-fa-nvidia/label_heatsink_screw/trained_h5/tune/ep_003-vl_0.663442-va_0.831637.h5\n",
      "4/4 [==============================] - 3s 650ms/step - loss: 0.4478 - acc: 0.8316 - precision/ok: 0.0257 - precision/ng: 0.9997 - recall/ok: 0.9444 - recall/ng: 0.8311\n",
      "{'loss': 0.44784873723983765, 'acc': 0.8316366672515869, 'precision/ok': 0.025718608871102333, 'precision/ng': 0.9996845722198486, 'recall/ok': 0.9444444179534912, 'recall/ng': 0.8311040997505188}\n",
      "/data/aoi-wzs-p1-dip-fa-nvidia/label_heatsink_screw/trained_h5/tune/ep_008-vl_1.078267-va_0.796659.h5\n",
      "4/4 [==============================] - 3s 687ms/step - loss: 0.8962 - acc: 0.7964 - precision/ok: 0.0214 - precision/ng: 0.9997 - recall/ok: 0.9444 - recall/ng: 0.7957\n",
      "{'loss': 0.8961772918701172, 'acc': 0.7963978052139282, 'precision/ok': 0.02135678380727768, 'precision/ng': 0.9996705055236816, 'recall/ok': 0.9444444179534912, 'recall/ng': 0.7956989407539368}\n",
      "/data/aoi-wzs-p1-dip-fa-nvidia/label_heatsink_screw/trained_h5/tune/ep_007-vl_1.510061-va_0.784391.h5\n",
      "4/4 [==============================] - 2s 577ms/step - loss: 1.1270 - acc: 0.7844 - precision/ok: 0.0202 - precision/ng: 0.9997 - recall/ok: 0.9444 - recall/ng: 0.7836\n",
      "{'loss': 1.1270421743392944, 'acc': 0.7843905091285706, 'precision/ok': 0.020214030519127846, 'precision/ng': 0.9996654391288757, 'recall/ok': 0.9444444179534912, 'recall/ng': 0.7836349606513977}\n",
      "/data/aoi-wzs-p1-dip-fa-nvidia/label_heatsink_screw/trained_h5/tune/ep_003-vl_0.945125-va_0.794571.h5\n",
      "4/4 [==============================] - 3s 626ms/step - loss: 0.7161 - acc: 0.7946 - precision/ok: 0.0212 - precision/ng: 0.9997 - recall/ok: 0.9444 - recall/ng: 0.7939\n",
      "{'loss': 0.7161362767219543, 'acc': 0.7945706248283386, 'precision/ok': 0.021170610561966896, 'precision/ng': 0.9996697306632996, 'recall/ok': 0.9444444179534912, 'recall/ng': 0.7938631176948547}\n",
      "/data/aoi-wzs-p1-dip-fa-nvidia/label_heatsink_screw/trained_h5/tune/ep_011-vl_0.248934-va_0.995562.h5\n",
      "4/4 [==============================] - 3s 648ms/step - loss: 0.1743 - acc: 0.9890 - precision/ok: 0.4250 - precision/ng: 0.9997 - recall/ok: 0.9444 - recall/ng: 0.9892\n",
      "{'loss': 0.17433910071849823, 'acc': 0.9890367984771729, 'precision/ok': 0.42500001192092896, 'precision/ng': 0.9997349381446838, 'recall/ok': 0.9444444179534912, 'recall/ng': 0.9892473220825195}\n",
      "/data/aoi-wzs-p1-dip-fa-nvidia/label_heatsink_screw/trained_h5/tune/ep_006-vl_0.170021-va_0.997651.h5\n",
      "4/4 [==============================] - 3s 703ms/step - loss: 0.0681 - acc: 0.9977 - precision/ok: 0.6800 - precision/ng: 0.9997 - recall/ok: 0.9444 - recall/ng: 0.9979\n",
      "{'loss': 0.06805550307035446, 'acc': 0.9976507425308228, 'precision/ok': 0.6800000071525574, 'precision/ng': 0.9997372627258301, 'recall/ok': 0.9444444179534912, 'recall/ng': 0.9979019165039062}\n",
      "/data/aoi-wzs-p1-dip-fa-nvidia/label_heatsink_screw/trained_h5/tune/ep_007-vl_1.405867-va_0.793265.h5\n",
      "4/4 [==============================] - 3s 750ms/step - loss: 1.0776 - acc: 0.7933 - precision/ok: 0.0211 - precision/ng: 0.9997 - recall/ok: 0.9444 - recall/ng: 0.7926\n",
      "{'loss': 1.0776480436325073, 'acc': 0.7932654619216919, 'precision/ok': 0.02106567472219467, 'precision/ng': 0.9996691942214966, 'recall/ok': 0.9444444179534912, 'recall/ng': 0.7925518155097961}\n",
      "/data/aoi-wzs-p1-dip-fa-nvidia/label_heatsink_screw/trained_h5/tune/ep_004-vl_0.612325-va_0.828765.h5\n",
      "4/4 [==============================] - 3s 661ms/step - loss: 0.4781 - acc: 0.8288 - precision/ok: 0.0253 - precision/ng: 0.9997 - recall/ok: 0.9444 - recall/ng: 0.8282\n",
      "{'loss': 0.4780914783477783, 'acc': 0.828765332698822, 'precision/ok': 0.0252976194024086, 'precision/ng': 0.9996834397315979, 'recall/ok': 0.9444444179534912, 'recall/ng': 0.8282192349433899}\n",
      "/data/aoi-wzs-p1-dip-fa-nvidia/label_heatsink_screw/trained_h5/tune/ep_008-vl_0.973805-va_0.800052.h5\n",
      "4/4 [==============================] - 3s 679ms/step - loss: 0.7936 - acc: 0.8001 - precision/ok: 0.0217 - precision/ng: 0.9997 - recall/ok: 0.9444 - recall/ng: 0.7994\n",
      "{'loss': 0.7935658693313599, 'acc': 0.8000522255897522, 'precision/ok': 0.021739130839705467, 'precision/ng': 0.999671995639801, 'recall/ok': 0.9444444179534912, 'recall/ng': 0.7993705868721008}\n",
      "/data/aoi-wzs-p1-dip-fa-nvidia/label_heatsink_screw/trained_h5/tune/ep_006-vl_0.159800-va_0.997651.h5\n",
      "4/4 [==============================] - 3s 700ms/step - loss: 0.0669 - acc: 0.9977 - precision/ok: 0.6800 - precision/ng: 0.9997 - recall/ok: 0.9444 - recall/ng: 0.9979\n",
      "{'loss': 0.06687172502279282, 'acc': 0.9976507425308228, 'precision/ok': 0.6800000071525574, 'precision/ng': 0.9997372627258301, 'recall/ok': 0.9444444179534912, 'recall/ng': 0.9979019165039062}\n",
      "/data/aoi-wzs-p1-dip-fa-nvidia/label_heatsink_screw/trained_h5/tune/ep_007-vl_0.149058-va_0.996346.h5\n",
      "4/4 [==============================] - 2s 544ms/step - loss: 0.0729 - acc: 0.9963 - precision/ok: 0.5667 - precision/ng: 0.9997 - recall/ok: 0.9444 - recall/ng: 0.9966\n",
      "{'loss': 0.07290363311767578, 'acc': 0.996345579624176, 'precision/ok': 0.5666666626930237, 'precision/ng': 0.9997369050979614, 'recall/ok': 0.9444444179534912, 'recall/ng': 0.9965906143188477}\n",
      "/data/aoi-wzs-p1-dip-fa-nvidia/label_heatsink_screw/trained_h5/tune/ep_007-vl_1.163637-va_0.800052.h5\n",
      "4/4 [==============================] - 2s 612ms/step - loss: 0.8930 - acc: 0.8001 - precision/ok: 0.0218 - precision/ng: 0.9997 - recall/ok: 0.9444 - recall/ng: 0.7994\n",
      "{'loss': 0.8929797410964966, 'acc': 0.8000522255897522, 'precision/ok': 0.021766966208815575, 'precision/ng': 0.999671995639801, 'recall/ok': 0.9444444179534912, 'recall/ng': 0.7993705868721008}\n",
      "/data/aoi-wzs-p1-dip-fa-nvidia/label_heatsink_screw/trained_h5/tune/ep_012-vl_0.190220-va_0.997651.h5\n",
      "4/4 [==============================] - 4s 879ms/step - loss: 0.0839 - acc: 0.9977 - precision/ok: 0.6800 - precision/ng: 0.9997 - recall/ok: 0.9444 - recall/ng: 0.9979\n",
      "{'loss': 0.08393538743257523, 'acc': 0.9976507425308228, 'precision/ok': 0.6800000071525574, 'precision/ng': 0.9997372627258301, 'recall/ok': 0.9444444179534912, 'recall/ng': 0.9979019165039062}\n",
      "/data/aoi-wzs-p1-dip-fa-nvidia/label_heatsink_screw/trained_h5/tune/ep_010-vl_0.948300-va_0.792221.h5\n",
      "4/4 [==============================] - 2s 606ms/step - loss: 0.7982 - acc: 0.7917 - precision/ok: 0.0209 - precision/ng: 0.9997 - recall/ok: 0.9444 - recall/ng: 0.7910\n",
      "{'loss': 0.7982492446899414, 'acc': 0.7916992902755737, 'precision/ok': 0.02091020904481411, 'precision/ng': 0.999668538570404, 'recall/ok': 0.9444444179534912, 'recall/ng': 0.7909782528877258}\n",
      "/data/aoi-wzs-p1-dip-fa-nvidia/label_heatsink_screw/trained_h5/tune/ep_005-vl_0.890632-va_0.801357.h5\n",
      "4/4 [==============================] - 2s 597ms/step - loss: 0.6981 - acc: 0.8011 - precision/ok: 0.0219 - precision/ng: 0.9997 - recall/ok: 0.9444 - recall/ng: 0.8004\n",
      "{'loss': 0.6981016397476196, 'acc': 0.8010963201522827, 'precision/ok': 0.02187902107834816, 'precision/ng': 0.9996724724769592, 'recall/ok': 0.9444444179534912, 'recall/ng': 0.8004196286201477}\n",
      "/data/aoi-wzs-p1-dip-fa-nvidia/label_heatsink_screw/trained_h5/tune/ep_010-vl_0.542147-va_0.804751.h5\n",
      "4/4 [==============================] - 3s 763ms/step - loss: 0.3103 - acc: 0.8037 - precision/ok: 0.0235 - precision/ng: 0.9997 - recall/ok: 0.9444 - recall/ng: 0.8030\n",
      "{'loss': 0.310333251953125, 'acc': 0.8037065863609314, 'precision/ok': 0.02351314015686512, 'precision/ng': 0.9996735453605652, 'recall/ok': 0.9444444179534912, 'recall/ng': 0.8030422329902649}\n",
      "/data/aoi-wzs-p1-dip-fa-nvidia/label_heatsink_screw/trained_h5/tune/ep_012-vl_0.138211-va_0.997651.h5\n",
      "4/4 [==============================] - 3s 797ms/step - loss: 0.0579 - acc: 0.9977 - precision/ok: 0.6800 - precision/ng: 0.9997 - recall/ok: 0.9444 - recall/ng: 0.9979\n",
      "{'loss': 0.057915639132261276, 'acc': 0.9976507425308228, 'precision/ok': 0.6800000071525574, 'precision/ng': 0.9997372627258301, 'recall/ok': 0.9444444179534912, 'recall/ng': 0.9979019165039062}\n",
      "/data/aoi-wzs-p1-dip-fa-nvidia/label_heatsink_screw/trained_h5/tune/ep_002-vl_0.699649-va_0.830332.h5\n",
      "4/4 [==============================] - 3s 627ms/step - loss: 0.5095 - acc: 0.8303 - precision/ok: 0.0255 - precision/ng: 0.9997 - recall/ok: 0.9444 - recall/ng: 0.8298\n",
      "{'loss': 0.5095310807228088, 'acc': 0.8303315043449402, 'precision/ok': 0.025525525212287903, 'precision/ng': 0.9996840357780457, 'recall/ok': 0.9444444179534912, 'recall/ng': 0.8297927975654602}\n",
      "/data/aoi-wzs-p1-dip-fa-nvidia/label_heatsink_screw/trained_h5/tune/ep_004-vl_1.091835-va_0.799269.h5\n",
      "4/4 [==============================] - 3s 774ms/step - loss: 0.8943 - acc: 0.7993 - precision/ok: 0.0217 - precision/ng: 0.9997 - recall/ok: 0.9444 - recall/ng: 0.7986\n",
      "{'loss': 0.8943105340003967, 'acc': 0.7992691397666931, 'precision/ok': 0.02165605127811432, 'precision/ng': 0.9996716976165771, 'recall/ok': 0.9444444179534912, 'recall/ng': 0.7985838055610657}\n",
      "/data/aoi-wzs-p1-dip-fa-nvidia/label_heatsink_screw/trained_h5/tune/ep_001-vl_0.640754-va_0.832420.h5\n",
      "4/4 [==============================] - 3s 633ms/step - loss: 0.3783 - acc: 0.8324 - precision/ok: 0.0244 - precision/ng: 0.9994 - recall/ok: 0.8889 - recall/ng: 0.8322\n",
      "{'loss': 0.3783089816570282, 'acc': 0.832419753074646, 'precision/ok': 0.024390242993831635, 'precision/ng': 0.9993700981140137, 'recall/ok': 0.8888888955116272, 'recall/ng': 0.8321531414985657}\n",
      "/data/aoi-wzs-p1-dip-fa-nvidia/label_heatsink_screw/trained_h5/tune/ep_006-vl_1.075572-va_0.785696.h5\n",
      "4/4 [==============================] - 3s 673ms/step - loss: 0.8256 - acc: 0.7857 - precision/ok: 0.0203 - precision/ng: 0.9997 - recall/ok: 0.9444 - recall/ng: 0.7849\n",
      "{'loss': 0.8256152868270874, 'acc': 0.7856956124305725, 'precision/ok': 0.02031063288450241, 'precision/ng': 0.9996659755706787, 'recall/ok': 0.9444444179534912, 'recall/ng': 0.7849462628364563}\n",
      "/data/aoi-wzs-p1-dip-fa-nvidia/label_heatsink_screw/trained_h5/tune/ep_014-vl_0.120937-va_0.997390.h5\n",
      "4/4 [==============================] - 3s 628ms/step - loss: 0.0601 - acc: 0.9974 - precision/ok: 0.6538 - precision/ng: 0.9997 - recall/ok: 0.9444 - recall/ng: 0.9976\n",
      "{'loss': 0.06014523655176163, 'acc': 0.9973897337913513, 'precision/ok': 0.6538461446762085, 'precision/ng': 0.9997372031211853, 'recall/ok': 0.9444444179534912, 'recall/ng': 0.9976396560668945}\n",
      "/data/aoi-wzs-p1-dip-fa-nvidia/label_heatsink_screw/trained_h5/tune/ep_001-vl_0.889576-va_0.834508.h5\n",
      "4/4 [==============================] - 3s 642ms/step - loss: 0.3460 - acc: 0.8342 - precision/ok: 0.0247 - precision/ng: 0.9994 - recall/ok: 0.8889 - recall/ng: 0.8340\n",
      "{'loss': 0.3459833562374115, 'acc': 0.8342469334602356, 'precision/ok': 0.02469135820865631, 'precision/ng': 0.9993714690208435, 'recall/ok': 0.8888888955116272, 'recall/ng': 0.8339889645576477}\n",
      "/data/aoi-wzs-p1-dip-fa-nvidia/label_heatsink_screw/trained_h5/tune/ep_008-vl_1.019528-va_0.799269.h5\n",
      "4/4 [==============================] - 2s 566ms/step - loss: 0.8424 - acc: 0.7993 - precision/ok: 0.0217 - precision/ng: 0.9997 - recall/ok: 0.9444 - recall/ng: 0.7986\n",
      "{'loss': 0.8424251079559326, 'acc': 0.7992691397666931, 'precision/ok': 0.02165605127811432, 'precision/ng': 0.9996716976165771, 'recall/ok': 0.9444444179534912, 'recall/ng': 0.7985838055610657}\n",
      "/data/aoi-wzs-p1-dip-fa-nvidia/label_heatsink_screw/trained_h5/tune/ep_008-vl_0.147330-va_0.996607.h5\n",
      "4/4 [==============================] - 2s 560ms/step - loss: 0.0886 - acc: 0.9966 - precision/ok: 0.5862 - precision/ng: 0.9997 - recall/ok: 0.9444 - recall/ng: 0.9969\n",
      "{'loss': 0.0885738804936409, 'acc': 0.9966066479682922, 'precision/ok': 0.5862069129943848, 'precision/ng': 0.9997369647026062, 'recall/ok': 0.9444444179534912, 'recall/ng': 0.9968528747558594}\n",
      "/data/aoi-wzs-p1-dip-fa-nvidia/label_heatsink_screw/trained_h5/tune/ep_006-vl_1.185593-va_0.784129.h5\n",
      "4/4 [==============================] - 2s 494ms/step - loss: 0.9014 - acc: 0.7836 - precision/ok: 0.0201 - precision/ng: 0.9997 - recall/ok: 0.9444 - recall/ng: 0.7828\n",
      "{'loss': 0.9014160633087158, 'acc': 0.7836074233055115, 'precision/ok': 0.02014218084514141, 'precision/ng': 0.9996650815010071, 'recall/ok': 0.9444444179534912, 'recall/ng': 0.7828481793403625}\n",
      "/data/aoi-wzs-p1-dip-fa-nvidia/label_heatsink_screw/trained_h5/tune/ep_010-vl_0.954947-va_0.798486.h5\n",
      "4/4 [==============================] - 2s 576ms/step - loss: 0.7921 - acc: 0.7985 - precision/ok: 0.0216 - precision/ng: 0.9997 - recall/ok: 0.9444 - recall/ng: 0.7978\n",
      "{'loss': 0.7920932769775391, 'acc': 0.798486053943634, 'precision/ok': 0.02157360315322876, 'precision/ng': 0.9996713995933533, 'recall/ok': 0.9444444179534912, 'recall/ng': 0.7977970242500305}\n",
      "/data/aoi-wzs-p1-dip-fa-nvidia/label_heatsink_screw/trained_h5/tune/ep_007-vl_0.139428-va_0.997651.h5\n",
      "4/4 [==============================] - 3s 657ms/step - loss: 0.0640 - acc: 0.9977 - precision/ok: 0.6800 - precision/ng: 0.9997 - recall/ok: 0.9444 - recall/ng: 0.9979\n",
      "{'loss': 0.06396119296550751, 'acc': 0.9976507425308228, 'precision/ok': 0.6800000071525574, 'precision/ng': 0.9997372627258301, 'recall/ok': 0.9444444179534912, 'recall/ng': 0.9979019165039062}\n",
      "/data/aoi-wzs-p1-dip-fa-nvidia/label_heatsink_screw/trained_h5/tune/ep_013-vl_0.150223-va_0.997651.h5\n",
      "4/4 [==============================] - 2s 457ms/step - loss: 0.0653 - acc: 0.9977 - precision/ok: 0.6800 - precision/ng: 0.9997 - recall/ok: 0.9444 - recall/ng: 0.9979\n",
      "{'loss': 0.06534971296787262, 'acc': 0.9976507425308228, 'precision/ok': 0.6800000071525574, 'precision/ng': 0.9997372627258301, 'recall/ok': 0.9444444179534912, 'recall/ng': 0.9979019165039062}\n",
      "/data/aoi-wzs-p1-dip-fa-nvidia/label_heatsink_screw/trained_h5/tune/ep_003-vl_0.663819-va_0.831637.h5\n",
      "4/4 [==============================] - 3s 683ms/step - loss: 0.4492 - acc: 0.8316 - precision/ok: 0.0257 - precision/ng: 0.9997 - recall/ok: 0.9444 - recall/ng: 0.8311\n",
      "{'loss': 0.44924354553222656, 'acc': 0.8316366672515869, 'precision/ok': 0.025718608871102333, 'precision/ng': 0.9996845722198486, 'recall/ok': 0.9444444179534912, 'recall/ng': 0.8311040997505188}\n",
      "/data/aoi-wzs-p1-dip-fa-nvidia/label_heatsink_screw/trained_h5/tune/ep_004-vl_0.652017-va_0.830332.h5\n",
      "4/4 [==============================] - 3s 691ms/step - loss: 0.4749 - acc: 0.8303 - precision/ok: 0.0255 - precision/ng: 0.9997 - recall/ok: 0.9444 - recall/ng: 0.8298\n",
      "{'loss': 0.4748806059360504, 'acc': 0.8303315043449402, 'precision/ok': 0.025525525212287903, 'precision/ng': 0.9996840357780457, 'recall/ok': 0.9444444179534912, 'recall/ng': 0.8297927975654602}\n",
      "/data/aoi-wzs-p1-dip-fa-nvidia/label_heatsink_screw/trained_h5/tune/ep_005-vl_0.926001-va_0.794310.h5\n",
      "4/4 [==============================] - 3s 741ms/step - loss: 0.7194 - acc: 0.7938 - precision/ok: 0.0211 - precision/ng: 0.9997 - recall/ok: 0.9444 - recall/ng: 0.7931\n",
      "{'loss': 0.7193571329116821, 'acc': 0.7937875390052795, 'precision/ok': 0.021144278347492218, 'precision/ng': 0.9996694326400757, 'recall/ok': 0.9444444179534912, 'recall/ng': 0.7930763363838196}\n",
      "/data/aoi-wzs-p1-dip-fa-nvidia/label_heatsink_screw/trained_h5/tune/ep_004-vl_0.691503-va_0.827982.h5\n",
      "4/4 [==============================] - 2s 604ms/step - loss: 0.5033 - acc: 0.8280 - precision/ok: 0.0252 - precision/ng: 0.9997 - recall/ok: 0.9444 - recall/ng: 0.8274\n",
      "{'loss': 0.5032509565353394, 'acc': 0.8279822468757629, 'precision/ok': 0.025222551077604294, 'precision/ng': 0.999683141708374, 'recall/ok': 0.9444444179534912, 'recall/ng': 0.8274324536323547}\n",
      "/data/aoi-wzs-p1-dip-fa-nvidia/label_heatsink_screw/trained_h5/tune/ep_011-vl_0.195649-va_0.997129.h5\n",
      "4/4 [==============================] - 3s 664ms/step - loss: 0.1175 - acc: 0.9971 - precision/ok: 0.6296 - precision/ng: 0.9997 - recall/ok: 0.9444 - recall/ng: 0.9974\n",
      "{'loss': 0.11752694845199585, 'acc': 0.9971286654472351, 'precision/ok': 0.6296296119689941, 'precision/ng': 0.9997371435165405, 'recall/ok': 0.9444444179534912, 'recall/ng': 0.9973773956298828}\n",
      "/data/aoi-wzs-p1-dip-fa-nvidia/label_heatsink_screw/trained_h5/tune/ep_003-vl_1.096160-va_0.770817.h5\n",
      "4/4 [==============================] - 3s 669ms/step - loss: 0.8149 - acc: 0.7711 - precision/ok: 0.0191 - precision/ng: 0.9997 - recall/ok: 0.9444 - recall/ng: 0.7703\n",
      "{'loss': 0.8148757815361023, 'acc': 0.7710780501365662, 'precision/ok': 0.01905829645693302, 'precision/ng': 0.9996596574783325, 'recall/ok': 0.9444444179534912, 'recall/ng': 0.7702596187591553}\n"
     ]
    }
   ],
   "source": [
    "import glob\n",
    "# b = model.base_model\n",
    "for d in glob.glob('/data/aoi-wzs-p1-dip-fa-nvidia/label_heatsink_screw/trained_h5/tune/*.h5'):\n",
    "    print(d)\n",
    "    model.load_weights(d)\n",
    "    b = model.base_model\n",
    "    evaluate = b.evaluate(eva_test_ds)\n",
    "    named_results = dict(zip(b.metrics_names, evaluate))\n",
    "    print(named_results)"
   ]
  },
  {
   "cell_type": "code",
   "execution_count": 21,
   "metadata": {},
   "outputs": [
    {
     "name": "stdout",
     "output_type": "stream",
     "text": [
      "4/4 [==============================] - 3s 819ms/step - loss: 0.8116 - categorical_crossentropy: 0.6763 - acc: 0.9953 - precision/ok: 0.0000e+00 - precision/ng: 0.9953 - recall/ok: 0.0000e+00 - recall/ng: 1.0000 - scaled_adversarial_loss: 0.1353\n",
      "{'loss': 0.8116016983985901, 'categorical_crossentropy': 0.6763347387313843, 'acc': 0.9953014850616455, 'precision/ok': 0.0, 'precision/ng': 0.9953014850616455, 'recall/ok': 0.0, 'recall/ng': 1.0, 'scaled_adversarial_loss': 0.13526694476604462}\n"
     ]
    }
   ],
   "source": [
    "evaluate = model.evaluate(eva_test_ds)\n",
    "named_results = dict(zip(model.metrics_names, evaluate))\n",
    "print(named_results)"
   ]
  },
  {
   "cell_type": "markdown",
   "metadata": {},
   "source": [
    "### evaluate / test"
   ]
  },
  {
   "cell_type": "code",
   "execution_count": 18,
   "metadata": {},
   "outputs": [
    {
     "name": "stdout",
     "output_type": "stream",
     "text": [
      "4/4 [==============================] - 2s 551ms/step - loss: 2.3997 - acc: 0.5978 - precision/ok: 0.0046 - precision/ng: 0.9952 - recall/ok: 0.3889 - recall/ng: 0.5987\n",
      "{'loss': 2.3997318744659424, 'acc': 0.5977551341056824, 'precision/ok': 0.004554326646029949, 'precision/ng': 0.9952048659324646, 'recall/ok': 0.3888888955116272, 'recall/ng': 0.5987411737442017}\n"
     ]
    }
   ],
   "source": [
    "b = model.base_model\n",
    "evaluate = b.evaluate(eva_test_ds)\n",
    "named_results = dict(zip(b.metrics_names, evaluate))\n",
    "print(named_results)"
   ]
  },
  {
   "cell_type": "code",
   "execution_count": 19,
   "metadata": {},
   "outputs": [],
   "source": [
    "b.save_weights('/data/aoi-wzs-p1-dip-fa-nvidia/label_heatsink_screw/trained_h5/test/b.h5')"
   ]
  },
  {
   "cell_type": "markdown",
   "metadata": {},
   "source": [
    "### load weights"
   ]
  },
  {
   "cell_type": "code",
   "execution_count": 8,
   "metadata": {},
   "outputs": [
    {
     "name": "stdout",
     "output_type": "stream",
     "text": [
      "4/4 [==============================] - 2s 574ms/step - loss: 0.3518 - acc: 0.9953 - precision/ok: 0.0000e+00 - precision/ng: 0.9953 - recall/ok: 0.0000e+00 - recall/ng: 1.0000\n",
      "{'loss': 0.3518054187297821, 'acc': 0.9953014850616455, 'precision/ok': 0.0, 'precision/ng': 0.9953014850616455, 'recall/ok': 0.0, 'recall/ng': 1.0}\n"
     ]
    }
   ],
   "source": [
    "base_model.load_weights('/data/aoi-wzs-p1-dip-fa-nvidia/label_heatsink_screw/trained_h5/test/base_model.h5')\n",
    "evaluate = base_model.evaluate(eva_test_ds)\n",
    "named_results = dict(zip(base_model.metrics_names, evaluate))\n",
    "print(named_results)"
   ]
  },
  {
   "cell_type": "code",
   "execution_count": 22,
   "metadata": {},
   "outputs": [
    {
     "name": "stdout",
     "output_type": "stream",
     "text": [
      "4/4 [==============================] - 3s 650ms/step - loss: 0.6763 - acc: 0.9953 - precision/ok: 0.0000e+00 - precision/ng: 0.9953 - recall/ok: 0.0000e+00 - recall/ng: 1.0000\n",
      "{'loss': 0.6762919425964355, 'acc': 0.9953014850616455, 'precision/ok': 0.0, 'precision/ng': 0.9953014850616455, 'recall/ok': 0.0, 'recall/ng': 1.0}\n"
     ]
    }
   ],
   "source": [
    "evaluate = base_model.evaluate(eva_test_ds)\n",
    "named_results = dict(zip(base_model.metrics_names, evaluate))\n",
    "print(named_results)"
   ]
  },
  {
   "cell_type": "code",
   "execution_count": null,
   "metadata": {},
   "outputs": [],
   "source": [
    "base_model.load_weights('/data/aoi-wzs-p1-dip-fa-nvidia/label_heatsink_screw/trained_h5/test/b.h5')"
   ]
  }
 ],
 "metadata": {
  "kernelspec": {
   "display_name": "Python 3",
   "language": "python",
   "name": "python3"
  },
  "language_info": {
   "codemirror_mode": {
    "name": "ipython",
    "version": 3
   },
   "file_extension": ".py",
   "mimetype": "text/x-python",
   "name": "python",
   "nbconvert_exporter": "python",
   "pygments_lexer": "ipython3",
   "version": "3.6.9"
  }
 },
 "nbformat": 4,
 "nbformat_minor": 4
}
